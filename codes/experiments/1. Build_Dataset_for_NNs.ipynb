{
 "cells": [
  {
   "cell_type": "code",
   "execution_count": 1,
   "metadata": {
    "ExecuteTime": {
     "end_time": "2020-04-29T21:41:31.768022Z",
     "start_time": "2020-04-29T21:41:30.478349Z"
    }
   },
   "outputs": [],
   "source": [
    "import matlab.engine\n",
    "import os\n",
    "import numpy as np\n",
    "from tqdm import trange\n",
    "import pickle"
   ]
  },
  {
   "cell_type": "code",
   "execution_count": 2,
   "metadata": {
    "ExecuteTime": {
     "end_time": "2020-04-29T21:41:32.010737Z",
     "start_time": "2020-04-29T21:41:32.008803Z"
    }
   },
   "outputs": [],
   "source": [
    "test_cases = [\n",
    "    'pglib_opf_case24_ieee_rts.m', \n",
    "    'pglib_opf_case73_ieee_rts.m',\n",
    "    'pglib_opf_case162_ieee_dtc.m',\n",
    "    'pglib_opf_case300_ieee.m',\n",
    "]"
   ]
  },
  {
   "cell_type": "code",
   "execution_count": 3,
   "metadata": {
    "ExecuteTime": {
     "end_time": "2020-04-29T21:41:32.305783Z",
     "start_time": "2020-04-29T21:41:32.297776Z"
    }
   },
   "outputs": [],
   "source": [
    "def get_Pb_lim(Pg_lim, GB_map):\n",
    "    Pb_lim = {}\n",
    "\n",
    "    for g_idx in range(len(GB_map)):\n",
    "        b_idx = GB_map[g_idx]\n",
    "        try:\n",
    "            Pb_lim[b_idx][0] = Pb_lim[b_idx][0] + Pg_lim[g_idx][0]\n",
    "            Pb_lim[b_idx][1] = Pb_lim[b_idx][1] + Pg_lim[g_idx][1]\n",
    "        except KeyError:\n",
    "            Pb_lim[b_idx] = np.zeros(2)\n",
    "            Pb_lim[b_idx][0] = Pg_lim[g_idx][0]\n",
    "            Pb_lim[b_idx][1] = Pg_lim[g_idx][1]\n",
    "    return Pb_lim\n",
    "\n",
    "\n",
    "def get_Pb(Pg, GB_map):\n",
    "    Pb = {}\n",
    "\n",
    "    for g_idx in range(len(GB_map)):\n",
    "        b_idx = GB_map[g_idx]\n",
    "        try:\n",
    "            Pb[b_idx] = Pb[b_idx] + Pg[g_idx]\n",
    "        except KeyError:\n",
    "            Pb[b_idx] = Pg[g_idx]\n",
    "    return Pb"
   ]
  },
  {
   "cell_type": "code",
   "execution_count": 4,
   "metadata": {
    "ExecuteTime": {
     "end_time": "2020-04-29T21:41:32.592594Z",
     "start_time": "2020-04-29T21:41:32.581925Z"
    }
   },
   "outputs": [],
   "source": [
    "def get_Pg_active_constraints(Pg, Pg_lim):\n",
    "    active_constraints = np.zeros((len(Pg), 2))\n",
    "\n",
    "    for g_idx in range(Pg_lim.shape[0]):\n",
    "        if Pg[g_idx] >= Pg_lim[g_idx][0]:\n",
    "            active_constraints[g_idx][0] = 1\n",
    "        if Pg[g_idx] <= Pg_lim[g_idx][1]:\n",
    "            active_constraints[g_idx][1] = 1\n",
    "\n",
    "    return np.sum(active_constraints, axis=1) % 2\n",
    "\n",
    "\n",
    "def get_Pb_active_constraints(Pg, Pg_lim, GB_map):\n",
    "    Pb = get_Pb(Pg, GB_map)\n",
    "    Pb_lim = get_Pb_lim(Pg_lim, GB_map)\n",
    "    \n",
    "    Bg_idx = list(Pb.keys())\n",
    "    \n",
    "    active_constraints = np.zeros((len(Bg_idx), 2))\n",
    "    \n",
    "    for i in range(len(Bg_idx)):\n",
    "        b_idx = Bg_idx[i]\n",
    "        if Pb[b_idx] >= Pb_lim[b_idx][0]:\n",
    "            active_constraints[i][0] = 1\n",
    "        if Pb[b_idx] <= Pb_lim[b_idx][1]:\n",
    "            active_constraints[i][1] = 1\n",
    "    \n",
    "    return np.sum(active_constraints, axis=1) % 2\n",
    "\n",
    "\n",
    "def get_F_active_constraints(F, F_lim):\n",
    "    active_constraints = []\n",
    "\n",
    "    for f, f_lim in zip(F, F_lim):\n",
    "        if abs(f) >= abs(f_lim):\n",
    "            active_constraints.append(1)\n",
    "        else:\n",
    "            active_constraints.append(0)\n",
    "\n",
    "    return np.array(active_constraints)\n",
    "\n",
    "\n",
    "def merge_active_constraints(Pg_active, Pb_active, F_active):\n",
    "    return np.array(list(Pg_active) + list(Pb_active) + list(F_active))"
   ]
  },
  {
   "cell_type": "code",
   "execution_count": 41,
   "metadata": {
    "ExecuteTime": {
     "end_time": "2020-04-29T21:45:06.453508Z",
     "start_time": "2020-04-29T21:45:06.443391Z"
    },
    "code_folding": []
   },
   "outputs": [],
   "source": [
    "def create_dataset(file_name, dataset_size, std_scaler=0.03):\n",
    "    print(\"> creating dataset with {}\".format(file_name))\n",
    "\n",
    "    x = []\n",
    "    y = []\n",
    "\n",
    "    org_dir = os.getcwd()\n",
    "    os.chdir('./matpower7.0/')\n",
    "\n",
    "    eng = matlab.engine.start_matlab()\n",
    "\n",
    "    data = eng.dc_opf_solver(file_name, 0.03)\n",
    "\n",
    "    Pg = np.squeeze(np.array(data['Pg']))\n",
    "    B_idx = np.squeeze(np.array(data['B_idx']))\n",
    "    GB_map = np.squeeze(np.array(data['GB_map'])).astype(int)\n",
    "    F = np.squeeze(np.array(data['F']))\n",
    "    Pg_lim = np.array(data['Pg_lim'])\n",
    "    F_lim = np.array(data['F_lim'])\n",
    "    w = np.squeeze(np.array(data['w']))\n",
    "\n",
    "    for i in trange(dataset_size):\n",
    "        data = eng.dc_opf_solver(file_name, std_scaler)\n",
    "        # assing x data\n",
    "        x.append(np.array(data['w']))\n",
    "        # assgin y data\n",
    "        Pg_active = get_Pg_active_constraints(Pg, Pg_lim)\n",
    "        Pb_active = get_Pb_active_constraints(Pg, Pg_lim, GB_map)\n",
    "        F_active = get_F_active_constraints(F, F_lim)\n",
    "        active_constraints = merge_active_constraints(Pg_active, Pb_active,\n",
    "                                                      F_active)\n",
    "        y.append(np.array(active_constraints))\n",
    "\n",
    "    eng.quit()\n",
    "\n",
    "    os.chdir(org_dir)\n",
    "\n",
    "    return {'x': np.squeeze(np.array(x)), 'y': np.array(y)}"
   ]
  },
  {
   "cell_type": "code",
   "execution_count": null,
   "metadata": {},
   "outputs": [],
   "source": []
  },
  {
   "cell_type": "code",
   "execution_count": null,
   "metadata": {},
   "outputs": [],
   "source": []
  },
  {
   "cell_type": "code",
   "execution_count": null,
   "metadata": {},
   "outputs": [],
   "source": []
  },
  {
   "cell_type": "markdown",
   "metadata": {},
   "source": [
    "## Example of parsing active constraints"
   ]
  },
  {
   "cell_type": "code",
   "execution_count": 21,
   "metadata": {
    "ExecuteTime": {
     "end_time": "2020-04-29T21:42:31.458495Z",
     "start_time": "2020-04-29T21:42:29.145690Z"
    }
   },
   "outputs": [],
   "source": [
    "org_dir = os.getcwd()\n",
    "os.chdir('./matpower7.0/')"
   ]
  },
  {
   "cell_type": "code",
   "execution_count": 23,
   "metadata": {
    "ExecuteTime": {
     "end_time": "2020-04-29T21:42:47.497213Z",
     "start_time": "2020-04-29T21:42:45.105962Z"
    }
   },
   "outputs": [],
   "source": [
    "eng = matlab.engine.start_matlab()"
   ]
  },
  {
   "cell_type": "code",
   "execution_count": 24,
   "metadata": {
    "ExecuteTime": {
     "end_time": "2020-04-29T21:42:49.414437Z",
     "start_time": "2020-04-29T21:42:49.412237Z"
    }
   },
   "outputs": [],
   "source": [
    "test_case_idx = 0\n",
    "case_name = test_cases[test_case_idx]"
   ]
  },
  {
   "cell_type": "code",
   "execution_count": 25,
   "metadata": {
    "ExecuteTime": {
     "end_time": "2020-04-29T21:42:52.995726Z",
     "start_time": "2020-04-29T21:42:51.082800Z"
    }
   },
   "outputs": [],
   "source": [
    "data = eng.dc_opf_solver(case_name, 0.03)"
   ]
  },
  {
   "cell_type": "code",
   "execution_count": 26,
   "metadata": {
    "ExecuteTime": {
     "end_time": "2020-04-29T21:42:54.211579Z",
     "start_time": "2020-04-29T21:42:54.203178Z"
    }
   },
   "outputs": [],
   "source": [
    "Pg = np.squeeze(np.array(data['Pg']))\n",
    "B_idx = np.squeeze(np.array(data['B_idx']))\n",
    "GB_map = np.squeeze(np.array(data['GB_map'])).astype(int)\n",
    "F = np.squeeze(np.array(data['F']))\n",
    "Pg_lim = np.array(data['Pg_lim'])\n",
    "F_lim = np.array(data['F_lim'])\n",
    "w = np.squeeze(np.array(data['w']))"
   ]
  },
  {
   "cell_type": "markdown",
   "metadata": {},
   "source": [
    "### Generator active constraints: [Pg_min, Pg_max]]"
   ]
  },
  {
   "cell_type": "code",
   "execution_count": 27,
   "metadata": {
    "ExecuteTime": {
     "end_time": "2020-04-29T21:42:55.203642Z",
     "start_time": "2020-04-29T21:42:55.199400Z"
    }
   },
   "outputs": [
    {
     "data": {
      "text/plain": [
       "array([ 16.        ,  16.        ,  76.        ,  76.        ,\n",
       "        16.        ,  16.        ,  76.        ,  76.        ,\n",
       "        42.06152311,  42.06152311,  42.06152311,  69.        ,\n",
       "        69.        ,  69.        ,   0.        ,   2.4       ,\n",
       "         2.4       ,   2.4       ,   2.4       ,   2.4       ,\n",
       "       155.        , 155.        , 400.        , 400.        ,\n",
       "        50.        ,  50.        ,  50.        ,  50.        ,\n",
       "        50.        ,  50.        , 155.        , 155.        ,\n",
       "       350.        ])"
      ]
     },
     "execution_count": 27,
     "metadata": {},
     "output_type": "execute_result"
    }
   ],
   "source": [
    "Pg"
   ]
  },
  {
   "cell_type": "code",
   "execution_count": 28,
   "metadata": {
    "ExecuteTime": {
     "end_time": "2020-04-29T21:42:56.182564Z",
     "start_time": "2020-04-29T21:42:56.178717Z"
    }
   },
   "outputs": [
    {
     "data": {
      "text/plain": [
       "array([[ 20. ,  16. ],\n",
       "       [ 20. ,  16. ],\n",
       "       [ 76. ,  15.2],\n",
       "       [ 76. ,  15.2],\n",
       "       [ 20. ,  16. ],\n",
       "       [ 20. ,  16. ],\n",
       "       [ 76. ,  15.2],\n",
       "       [ 76. ,  15.2],\n",
       "       [100. ,  25. ],\n",
       "       [100. ,  25. ],\n",
       "       [100. ,  25. ],\n",
       "       [197. ,  69. ],\n",
       "       [197. ,  69. ],\n",
       "       [197. ,  69. ],\n",
       "       [  0. ,   0. ],\n",
       "       [ 12. ,   2.4],\n",
       "       [ 12. ,   2.4],\n",
       "       [ 12. ,   2.4],\n",
       "       [ 12. ,   2.4],\n",
       "       [ 12. ,   2.4],\n",
       "       [155. ,  54.3],\n",
       "       [155. ,  54.3],\n",
       "       [400. , 100. ],\n",
       "       [400. , 100. ],\n",
       "       [ 50. ,  10. ],\n",
       "       [ 50. ,  10. ],\n",
       "       [ 50. ,  10. ],\n",
       "       [ 50. ,  10. ],\n",
       "       [ 50. ,  10. ],\n",
       "       [ 50. ,  10. ],\n",
       "       [155. ,  54.3],\n",
       "       [155. ,  54.3],\n",
       "       [350. , 140. ]])"
      ]
     },
     "execution_count": 28,
     "metadata": {},
     "output_type": "execute_result"
    }
   ],
   "source": [
    "Pg_lim"
   ]
  },
  {
   "cell_type": "code",
   "execution_count": 29,
   "metadata": {
    "ExecuteTime": {
     "end_time": "2020-04-29T21:42:57.155847Z",
     "start_time": "2020-04-29T21:42:57.151340Z"
    }
   },
   "outputs": [
    {
     "data": {
      "text/plain": [
       "array([1., 1., 1., 1., 1., 1., 1., 1., 0., 0., 0., 0., 0., 0., 0., 0., 0.,\n",
       "       0., 0., 0., 1., 1., 1., 1., 1., 1., 1., 1., 1., 1., 1., 1., 1.])"
      ]
     },
     "execution_count": 29,
     "metadata": {},
     "output_type": "execute_result"
    }
   ],
   "source": [
    "Pg_active = get_Pg_active_constraints(Pg, Pg_lim)\n",
    "Pg_active"
   ]
  },
  {
   "cell_type": "markdown",
   "metadata": {},
   "source": [
    "### Bus active constraints, due to precense of co-related generation: [Pb_min, Pb_max]"
   ]
  },
  {
   "cell_type": "code",
   "execution_count": 30,
   "metadata": {
    "ExecuteTime": {
     "end_time": "2020-04-29T21:42:58.102139Z",
     "start_time": "2020-04-29T21:42:58.098137Z"
    },
    "scrolled": false
   },
   "outputs": [
    {
     "data": {
      "text/plain": [
       "{1: 184.0,\n",
       " 2: 184.0,\n",
       " 7: 126.1845693377164,\n",
       " 13: 207.00000000001955,\n",
       " 14: 0.0,\n",
       " 15: 167.0,\n",
       " 16: 155.0,\n",
       " 18: 400.0,\n",
       " 21: 400.0,\n",
       " 22: 300.0,\n",
       " 23: 660.0}"
      ]
     },
     "execution_count": 30,
     "metadata": {},
     "output_type": "execute_result"
    }
   ],
   "source": [
    "Pb = get_Pb(Pg, GB_map)\n",
    "Pb"
   ]
  },
  {
   "cell_type": "code",
   "execution_count": 31,
   "metadata": {
    "ExecuteTime": {
     "end_time": "2020-04-29T21:42:59.009378Z",
     "start_time": "2020-04-29T21:42:59.004324Z"
    }
   },
   "outputs": [
    {
     "data": {
      "text/plain": [
       "{1: array([192. ,  62.4]),\n",
       " 2: array([192. ,  62.4]),\n",
       " 7: array([300.,  75.]),\n",
       " 13: array([591., 207.]),\n",
       " 14: array([0., 0.]),\n",
       " 15: array([215. ,  66.3]),\n",
       " 16: array([155. ,  54.3]),\n",
       " 18: array([400., 100.]),\n",
       " 21: array([400., 100.]),\n",
       " 22: array([300.,  60.]),\n",
       " 23: array([660. , 248.6])}"
      ]
     },
     "execution_count": 31,
     "metadata": {},
     "output_type": "execute_result"
    }
   ],
   "source": [
    "Pb_lim = get_Pb_lim(Pg_lim, GB_map)\n",
    "Pb_lim"
   ]
  },
  {
   "cell_type": "code",
   "execution_count": 32,
   "metadata": {
    "ExecuteTime": {
     "end_time": "2020-04-29T21:42:59.928231Z",
     "start_time": "2020-04-29T21:42:59.924532Z"
    }
   },
   "outputs": [
    {
     "data": {
      "text/plain": [
       "array([0., 0., 0., 0., 0., 0., 1., 1., 1., 1., 1.])"
      ]
     },
     "execution_count": 32,
     "metadata": {},
     "output_type": "execute_result"
    }
   ],
   "source": [
    "Pb_active = get_Pb_active_constraints(Pg, Pg_lim, GB_map)\n",
    "Pb_active"
   ]
  },
  {
   "cell_type": "markdown",
   "metadata": {
    "ExecuteTime": {
     "end_time": "2020-04-29T18:46:15.946206Z",
     "start_time": "2020-04-29T18:46:15.942629Z"
    }
   },
   "source": [
    "### Flow Constraints: [-F_max, F_max] "
   ]
  },
  {
   "cell_type": "code",
   "execution_count": 33,
   "metadata": {
    "ExecuteTime": {
     "end_time": "2020-04-29T21:43:00.799451Z",
     "start_time": "2020-04-29T21:43:00.796135Z"
    }
   },
   "outputs": [
    {
     "data": {
      "text/plain": [
       "array([   9.01807878,   -2.8249142 ,   71.54887695,   43.61314964,\n",
       "         57.74153453,   27.6901447 , -222.71283194,  -28.47282559,\n",
       "          1.22784691,  -83.59383372,   -0.44140075,  -95.30762768,\n",
       "        -74.37610955, -119.27959575, -133.02412889, -160.83080313,\n",
       "       -174.7100866 ,  -97.62174494, -182.48865394,  -72.66877603,\n",
       "       -235.06543946, -222.52355738, -376.8556333 ,   86.97128895,\n",
       "       -226.44345794, -226.44345794,  222.71283194, -328.99516323,\n",
       "         93.49592069, -187.92434861, -141.07081462,  -53.02113475,\n",
       "        -53.02113475,  -39.92651101,  -39.92651101, -101.20550158,\n",
       "       -101.20550158, -158.92918538])"
      ]
     },
     "execution_count": 33,
     "metadata": {},
     "output_type": "execute_result"
    }
   ],
   "source": [
    "F"
   ]
  },
  {
   "cell_type": "code",
   "execution_count": 34,
   "metadata": {
    "ExecuteTime": {
     "end_time": "2020-04-29T21:43:01.248249Z",
     "start_time": "2020-04-29T21:43:01.244617Z"
    }
   },
   "outputs": [
    {
     "data": {
      "text/plain": [
       "array([[175.],\n",
       "       [175.],\n",
       "       [175.],\n",
       "       [175.],\n",
       "       [175.],\n",
       "       [175.],\n",
       "       [400.],\n",
       "       [175.],\n",
       "       [175.],\n",
       "       [175.],\n",
       "       [175.],\n",
       "       [175.],\n",
       "       [175.],\n",
       "       [400.],\n",
       "       [400.],\n",
       "       [400.],\n",
       "       [400.],\n",
       "       [500.],\n",
       "       [500.],\n",
       "       [500.],\n",
       "       [500.],\n",
       "       [500.],\n",
       "       [500.],\n",
       "       [500.],\n",
       "       [500.],\n",
       "       [500.],\n",
       "       [500.],\n",
       "       [500.],\n",
       "       [500.],\n",
       "       [500.],\n",
       "       [500.],\n",
       "       [500.],\n",
       "       [500.],\n",
       "       [500.],\n",
       "       [500.],\n",
       "       [500.],\n",
       "       [500.],\n",
       "       [500.]])"
      ]
     },
     "execution_count": 34,
     "metadata": {},
     "output_type": "execute_result"
    }
   ],
   "source": [
    "F_lim"
   ]
  },
  {
   "cell_type": "code",
   "execution_count": 35,
   "metadata": {
    "ExecuteTime": {
     "end_time": "2020-04-29T21:43:01.663174Z",
     "start_time": "2020-04-29T21:43:01.659674Z"
    }
   },
   "outputs": [
    {
     "data": {
      "text/plain": [
       "array([0, 0, 0, 0, 0, 0, 0, 0, 0, 0, 0, 0, 0, 0, 0, 0, 0, 0, 0, 0, 0, 0,\n",
       "       0, 0, 0, 0, 0, 0, 0, 0, 0, 0, 0, 0, 0, 0, 0, 0])"
      ]
     },
     "execution_count": 35,
     "metadata": {},
     "output_type": "execute_result"
    }
   ],
   "source": [
    "F_active = get_F_active_constraints(F, F_lim)\n",
    "F_active"
   ]
  },
  {
   "cell_type": "markdown",
   "metadata": {
    "ExecuteTime": {
     "end_time": "2020-04-29T07:12:37.020650Z",
     "start_time": "2020-04-29T07:12:37.017904Z"
    }
   },
   "source": [
    "### Merge all active constriants"
   ]
  },
  {
   "cell_type": "code",
   "execution_count": 36,
   "metadata": {
    "ExecuteTime": {
     "end_time": "2020-04-29T21:43:03.469524Z",
     "start_time": "2020-04-29T21:43:03.464243Z"
    }
   },
   "outputs": [
    {
     "data": {
      "text/plain": [
       "array([1., 1., 1., 1., 1., 1., 1., 1., 0., 0., 0., 0., 0., 0., 0., 0., 0.,\n",
       "       0., 0., 0., 1., 1., 1., 1., 1., 1., 1., 1., 1., 1., 1., 1., 1., 0.,\n",
       "       0., 0., 0., 0., 0., 1., 1., 1., 1., 1., 0., 0., 0., 0., 0., 0., 0.,\n",
       "       0., 0., 0., 0., 0., 0., 0., 0., 0., 0., 0., 0., 0., 0., 0., 0., 0.,\n",
       "       0., 0., 0., 0., 0., 0., 0., 0., 0., 0., 0., 0., 0., 0.])"
      ]
     },
     "execution_count": 36,
     "metadata": {},
     "output_type": "execute_result"
    }
   ],
   "source": [
    "active_aconstraints = merge_active_constraints(Pg_active, Pb_active, F_active)\n",
    "active_aconstraints"
   ]
  },
  {
   "cell_type": "code",
   "execution_count": 37,
   "metadata": {
    "ExecuteTime": {
     "end_time": "2020-04-29T21:43:25.336984Z",
     "start_time": "2020-04-29T21:43:25.333721Z"
    }
   },
   "outputs": [],
   "source": [
    "eng.quit()"
   ]
  },
  {
   "cell_type": "code",
   "execution_count": 43,
   "metadata": {
    "ExecuteTime": {
     "end_time": "2020-04-29T21:45:23.874968Z",
     "start_time": "2020-04-29T21:45:23.872374Z"
    }
   },
   "outputs": [],
   "source": [
    "os.chdir(org_dir)"
   ]
  },
  {
   "cell_type": "code",
   "execution_count": null,
   "metadata": {},
   "outputs": [],
   "source": []
  },
  {
   "cell_type": "code",
   "execution_count": null,
   "metadata": {},
   "outputs": [],
   "source": []
  },
  {
   "cell_type": "code",
   "execution_count": null,
   "metadata": {},
   "outputs": [],
   "source": []
  },
  {
   "cell_type": "code",
   "execution_count": null,
   "metadata": {},
   "outputs": [],
   "source": []
  },
  {
   "cell_type": "code",
   "execution_count": null,
   "metadata": {},
   "outputs": [],
   "source": []
  },
  {
   "cell_type": "code",
   "execution_count": null,
   "metadata": {},
   "outputs": [],
   "source": []
  },
  {
   "cell_type": "code",
   "execution_count": null,
   "metadata": {},
   "outputs": [],
   "source": []
  },
  {
   "cell_type": "code",
   "execution_count": null,
   "metadata": {},
   "outputs": [],
   "source": []
  },
  {
   "cell_type": "markdown",
   "metadata": {},
   "source": [
    "## Create Datasets for NNs"
   ]
  },
  {
   "cell_type": "markdown",
   "metadata": {},
   "source": [
    "### example of creating a dataset\n",
    "- **x**: uncertainty realization as a feature input\n",
    "- **y**: active constraints index as a label output"
   ]
  },
  {
   "cell_type": "code",
   "execution_count": 47,
   "metadata": {
    "ExecuteTime": {
     "end_time": "2020-04-29T21:49:03.149233Z",
     "start_time": "2020-04-29T21:48:58.416826Z"
    }
   },
   "outputs": [
    {
     "name": "stdout",
     "output_type": "stream",
     "text": [
      "> creating dataset with pglib_opf_case24_ieee_rts.m\n"
     ]
    },
    {
     "name": "stderr",
     "output_type": "stream",
     "text": [
      "100%|██████████| 1/1 [00:00<00:00,  3.30it/s]\n"
     ]
    },
    {
     "data": {
      "text/plain": [
       "{'x': array([ 1.58401582,  3.01095666,  3.92517972, -0.67363885,  0.62594622,\n",
       "        -3.21211384,  3.33148362, -5.88446965, -5.61156991, -4.73556736,\n",
       "         0.        ,  0.        ,  2.58526479, -4.39368282, 13.03153912,\n",
       "        -5.13454926,  0.        , -2.41205595,  1.73329259,  1.20137701,\n",
       "         0.        ,  0.        ,  0.        ,  0.        ]),\n",
       " 'y': array([[1., 1., 1., 1., 1., 1., 1., 1., 0., 0., 0., 0., 0., 0., 0., 0.,\n",
       "         0., 0., 0., 0., 1., 1., 1., 1., 1., 1., 1., 1., 1., 1., 1., 1.,\n",
       "         1., 0., 0., 0., 0., 0., 0., 1., 1., 1., 1., 1., 0., 0., 0., 0.,\n",
       "         0., 0., 0., 0., 0., 0., 0., 0., 0., 0., 0., 0., 0., 0., 0., 0.,\n",
       "         0., 0., 0., 0., 0., 0., 0., 0., 0., 0., 0., 0., 0., 0., 0., 0.,\n",
       "         0., 0.]])}"
      ]
     },
     "execution_count": 47,
     "metadata": {},
     "output_type": "execute_result"
    }
   ],
   "source": [
    "dataset = create_dataset(case_name, dataset_size=1)\n",
    "dataset"
   ]
  },
  {
   "cell_type": "markdown",
   "metadata": {},
   "source": [
    "### Build datasets"
   ]
  },
  {
   "cell_type": "code",
   "execution_count": 59,
   "metadata": {
    "ExecuteTime": {
     "end_time": "2020-04-29T21:56:59.690813Z",
     "start_time": "2020-04-29T21:56:59.686202Z"
    }
   },
   "outputs": [],
   "source": [
    "def save_dataset(test_case, dataset):\n",
    "    file_name = test_case.split('.')[0]\n",
    "    file_path = './datasets/'\n",
    "    file_dir = file_path + file_name + '.pickle'\n",
    "    outfile = open(file_dir,'wb')\n",
    "    pickle.dump(dataset, outfile)\n",
    "    outfile.close()\n",
    "\n",
    "    \n",
    "def build_datasets(test_cases, dataset_size):\n",
    "    for test_case in test_cases:\n",
    "        # create a dataset\n",
    "        dataset = create_dataset(test_case, dataset_size)\n",
    "        # save the dataset\n",
    "        save_dataset(test_case, dataset)"
   ]
  },
  {
   "cell_type": "code",
   "execution_count": 60,
   "metadata": {
    "ExecuteTime": {
     "end_time": "2020-04-29T21:57:00.728643Z",
     "start_time": "2020-04-29T21:57:00.726674Z"
    }
   },
   "outputs": [],
   "source": [
    "# dataset_size = 2\n",
    "dataset_size = 50000"
   ]
  },
  {
   "cell_type": "code",
   "execution_count": null,
   "metadata": {
    "ExecuteTime": {
     "start_time": "2020-04-29T21:57:02.277Z"
    },
    "scrolled": false
   },
   "outputs": [
    {
     "name": "stdout",
     "output_type": "stream",
     "text": [
      "> creating dataset with pglib_opf_case24_ieee_rts.m\n"
     ]
    },
    {
     "name": "stderr",
     "output_type": "stream",
     "text": [
      "100%|██████████| 50000/50000 [1:24:19<00:00,  9.88it/s]\n"
     ]
    },
    {
     "name": "stdout",
     "output_type": "stream",
     "text": [
      "> creating dataset with pglib_opf_case73_ieee_rts.m\n"
     ]
    },
    {
     "name": "stderr",
     "output_type": "stream",
     "text": [
      "100%|██████████| 50000/50000 [3:19:10<00:00,  4.18it/s]  \n"
     ]
    },
    {
     "name": "stdout",
     "output_type": "stream",
     "text": [
      "> creating dataset with pglib_opf_case162_ieee_dtc.m\n"
     ]
    },
    {
     "name": "stderr",
     "output_type": "stream",
     "text": [
      " 31%|███       | 15425/50000 [1:04:37<2:24:05,  4.00it/s]"
     ]
    }
   ],
   "source": [
    "build_datasets(test_cases, dataset_size)"
   ]
  },
  {
   "cell_type": "markdown",
   "metadata": {
    "ExecuteTime": {
     "end_time": "2020-04-28T13:58:42.208407Z",
     "start_time": "2020-04-28T13:58:42.204498Z"
    }
   },
   "source": [
    "### Check datasets"
   ]
  },
  {
   "cell_type": "code",
   "execution_count": 57,
   "metadata": {
    "ExecuteTime": {
     "end_time": "2020-04-29T21:53:57.396759Z",
     "start_time": "2020-04-29T21:53:57.392478Z"
    }
   },
   "outputs": [],
   "source": [
    "infile = open('./datasets/pglib_opf_case24_ieee_rts.pickle','rb')\n",
    "dataset = pickle.load(infile)\n",
    "infile.close()"
   ]
  },
  {
   "cell_type": "code",
   "execution_count": 58,
   "metadata": {
    "ExecuteTime": {
     "end_time": "2020-04-29T21:53:58.303840Z",
     "start_time": "2020-04-29T21:53:58.298770Z"
    }
   },
   "outputs": [
    {
     "data": {
      "text/plain": [
       "{'x': array([[ 1.58401582,  3.01095666,  3.92517972, -0.67363885,  0.62594622,\n",
       "         -3.21211384,  3.33148362, -5.88446965, -5.61156991, -4.73556736,\n",
       "          0.        ,  0.        ,  2.58526479, -4.39368282, 13.03153912,\n",
       "         -5.13454926,  0.        , -2.41205595,  1.73329259,  1.20137701,\n",
       "          0.        ,  0.        ,  0.        ,  0.        ],\n",
       "        [ 3.54218077,  3.2279853 , -4.66372524,  0.17173718, -2.5860693 ,\n",
       "         -4.54308303, -0.02568498,  7.86239348, -4.04074605,  2.17256605,\n",
       "          0.        ,  0.        , -8.65806115,  0.18948444,  5.25453197,\n",
       "          3.30183065,  0.        ,  0.85845202, -8.09933539, -2.85043906,\n",
       "          0.        ,  0.        ,  0.        ,  0.        ]]),\n",
       " 'y': array([[1., 1., 1., 1., 1., 1., 1., 1., 0., 0., 0., 0., 0., 0., 0., 0.,\n",
       "         0., 0., 0., 0., 1., 1., 1., 1., 1., 1., 1., 1., 1., 1., 1., 1.,\n",
       "         1., 0., 0., 0., 0., 0., 0., 1., 1., 1., 1., 1., 0., 0., 0., 0.,\n",
       "         0., 0., 0., 0., 0., 0., 0., 0., 0., 0., 0., 0., 0., 0., 0., 0.,\n",
       "         0., 0., 0., 0., 0., 0., 0., 0., 0., 0., 0., 0., 0., 0., 0., 0.,\n",
       "         0., 0.],\n",
       "        [1., 1., 1., 1., 1., 1., 1., 1., 0., 0., 0., 0., 0., 0., 0., 0.,\n",
       "         0., 0., 0., 0., 1., 1., 1., 1., 1., 1., 1., 1., 1., 1., 1., 1.,\n",
       "         1., 0., 0., 0., 0., 0., 0., 1., 1., 1., 1., 1., 0., 0., 0., 0.,\n",
       "         0., 0., 0., 0., 0., 0., 0., 0., 0., 0., 0., 0., 0., 0., 0., 0.,\n",
       "         0., 0., 0., 0., 0., 0., 0., 0., 0., 0., 0., 0., 0., 0., 0., 0.,\n",
       "         0., 0.]])}"
      ]
     },
     "execution_count": 58,
     "metadata": {},
     "output_type": "execute_result"
    }
   ],
   "source": [
    "dataset"
   ]
  },
  {
   "cell_type": "code",
   "execution_count": null,
   "metadata": {},
   "outputs": [],
   "source": []
  },
  {
   "cell_type": "code",
   "execution_count": null,
   "metadata": {},
   "outputs": [],
   "source": []
  },
  {
   "cell_type": "code",
   "execution_count": null,
   "metadata": {},
   "outputs": [],
   "source": []
  }
 ],
 "metadata": {
  "kernelspec": {
   "display_name": "Python 3.7.7 64-bit ('EE394V': conda)",
   "language": "python",
   "name": "python37764bitee394vcondadf2c1da4587f4eceba1227d29068d7e0"
  },
  "language_info": {
   "codemirror_mode": {
    "name": "ipython",
    "version": 3
   },
   "file_extension": ".py",
   "mimetype": "text/x-python",
   "name": "python",
   "nbconvert_exporter": "python",
   "pygments_lexer": "ipython3",
   "version": "3.7.7"
  },
  "toc": {
   "base_numbering": 1,
   "nav_menu": {},
   "number_sections": true,
   "sideBar": true,
   "skip_h1_title": false,
   "title_cell": "Table of Contents",
   "title_sidebar": "Contents",
   "toc_cell": false,
   "toc_position": {},
   "toc_section_display": true,
   "toc_window_display": false
  },
  "varInspector": {
   "cols": {
    "lenName": 16,
    "lenType": 16,
    "lenVar": 40
   },
   "kernels_config": {
    "python": {
     "delete_cmd_postfix": "",
     "delete_cmd_prefix": "del ",
     "library": "var_list.py",
     "varRefreshCmd": "print(var_dic_list())"
    },
    "r": {
     "delete_cmd_postfix": ") ",
     "delete_cmd_prefix": "rm(",
     "library": "var_list.r",
     "varRefreshCmd": "cat(var_dic_list()) "
    }
   },
   "types_to_exclude": [
    "module",
    "function",
    "builtin_function_or_method",
    "instance",
    "_Feature"
   ],
   "window_display": false
  }
 },
 "nbformat": 4,
 "nbformat_minor": 4
}
