{
 "cells": [
  {
   "cell_type": "code",
   "execution_count": 1,
   "metadata": {
    "ExecuteTime": {
     "end_time": "2020-05-03T07:01:39.432833Z",
     "start_time": "2020-05-03T07:01:38.063424Z"
    }
   },
   "outputs": [],
   "source": [
    "from data_preprocess import *"
   ]
  },
  {
   "cell_type": "code",
   "execution_count": 2,
   "metadata": {
    "ExecuteTime": {
     "end_time": "2020-05-03T07:01:40.955312Z",
     "start_time": "2020-05-03T07:01:40.951991Z"
    }
   },
   "outputs": [],
   "source": [
    "import pprint \n",
    "pp = pprint.PrettyPrinter(indent=4)"
   ]
  },
  {
   "cell_type": "code",
   "execution_count": 3,
   "metadata": {
    "ExecuteTime": {
     "end_time": "2020-05-03T07:01:46.395240Z",
     "start_time": "2020-05-03T07:01:46.392611Z"
    }
   },
   "outputs": [],
   "source": [
    "test_cases = [\n",
    "    'pglib_opf_case24_ieee_rts.m', \n",
    "    'pglib_opf_case73_ieee_rts.m',\n",
    "    'pglib_opf_case162_ieee_dtc.m',\n",
    "    'pglib_opf_case300_ieee.m',\n",
    "]"
   ]
  },
  {
   "cell_type": "markdown",
   "metadata": {},
   "source": [
    "## Example of parsing active constraints: DC-OPF"
   ]
  },
  {
   "cell_type": "code",
   "execution_count": 7,
   "metadata": {
    "ExecuteTime": {
     "end_time": "2020-05-03T07:02:04.660062Z",
     "start_time": "2020-05-03T07:02:04.656838Z"
    }
   },
   "outputs": [],
   "source": [
    "org_dir = os.getcwd()\n",
    "os.chdir('./matpower7.0/')"
   ]
  },
  {
   "cell_type": "code",
   "execution_count": 8,
   "metadata": {
    "ExecuteTime": {
     "end_time": "2020-05-03T07:02:17.059374Z",
     "start_time": "2020-05-03T07:02:05.287624Z"
    }
   },
   "outputs": [],
   "source": [
    "eng = matlab.engine.start_matlab()"
   ]
  },
  {
   "cell_type": "code",
   "execution_count": 9,
   "metadata": {
    "ExecuteTime": {
     "end_time": "2020-05-03T07:02:18.963806Z",
     "start_time": "2020-05-03T07:02:18.960496Z"
    }
   },
   "outputs": [],
   "source": [
    "test_case_idx = 0\n",
    "case_name = test_cases[test_case_idx]"
   ]
  },
  {
   "cell_type": "code",
   "execution_count": 10,
   "metadata": {
    "ExecuteTime": {
     "end_time": "2020-05-03T07:02:25.475105Z",
     "start_time": "2020-05-03T07:02:21.013998Z"
    }
   },
   "outputs": [],
   "source": [
    "data = eng.dc_opf_solver(case_name, 0.03)"
   ]
  },
  {
   "cell_type": "code",
   "execution_count": 11,
   "metadata": {
    "ExecuteTime": {
     "end_time": "2020-05-03T07:02:38.423134Z",
     "start_time": "2020-05-03T07:02:38.414080Z"
    }
   },
   "outputs": [],
   "source": [
    "Pg = np.squeeze(np.array(data['Pg']))\n",
    "B_idx = np.squeeze(np.array(data['B_idx']))\n",
    "GB_map = np.squeeze(np.array(data['GB_map'])).astype(int)\n",
    "F = np.squeeze(np.array(data['F']))\n",
    "Pg_lim = np.array(data['Pg_lim'])\n",
    "F_lim = np.array(data['F_lim'])\n",
    "w = np.squeeze(np.array(data['w']))"
   ]
  },
  {
   "cell_type": "markdown",
   "metadata": {},
   "source": [
    "### Generator active constraints: [Pg_min, Pg_max]]"
   ]
  },
  {
   "cell_type": "code",
   "execution_count": 12,
   "metadata": {
    "ExecuteTime": {
     "end_time": "2020-05-03T07:02:39.571544Z",
     "start_time": "2020-05-03T07:02:39.561760Z"
    }
   },
   "outputs": [
    {
     "data": {
      "text/plain": [
       "array([ 16.        ,  16.        ,  76.        ,  76.        ,\n",
       "        16.        ,  16.        ,  76.        ,  76.        ,\n",
       "        42.06152311,  42.06152311,  42.06152311,  69.        ,\n",
       "        69.        ,  69.        ,   0.        ,   2.4       ,\n",
       "         2.4       ,   2.4       ,   2.4       ,   2.4       ,\n",
       "       155.        , 155.        , 400.        , 400.        ,\n",
       "        50.        ,  50.        ,  50.        ,  50.        ,\n",
       "        50.        ,  50.        , 155.        , 155.        ,\n",
       "       350.        ])"
      ]
     },
     "execution_count": 12,
     "metadata": {},
     "output_type": "execute_result"
    }
   ],
   "source": [
    "Pg"
   ]
  },
  {
   "cell_type": "code",
   "execution_count": 13,
   "metadata": {
    "ExecuteTime": {
     "end_time": "2020-05-03T07:02:40.243944Z",
     "start_time": "2020-05-03T07:02:40.238977Z"
    }
   },
   "outputs": [
    {
     "data": {
      "text/plain": [
       "array([[ 20. ,  16. ],\n",
       "       [ 20. ,  16. ],\n",
       "       [ 76. ,  15.2],\n",
       "       [ 76. ,  15.2],\n",
       "       [ 20. ,  16. ],\n",
       "       [ 20. ,  16. ],\n",
       "       [ 76. ,  15.2],\n",
       "       [ 76. ,  15.2],\n",
       "       [100. ,  25. ],\n",
       "       [100. ,  25. ],\n",
       "       [100. ,  25. ],\n",
       "       [197. ,  69. ],\n",
       "       [197. ,  69. ],\n",
       "       [197. ,  69. ],\n",
       "       [  0. ,   0. ],\n",
       "       [ 12. ,   2.4],\n",
       "       [ 12. ,   2.4],\n",
       "       [ 12. ,   2.4],\n",
       "       [ 12. ,   2.4],\n",
       "       [ 12. ,   2.4],\n",
       "       [155. ,  54.3],\n",
       "       [155. ,  54.3],\n",
       "       [400. , 100. ],\n",
       "       [400. , 100. ],\n",
       "       [ 50. ,  10. ],\n",
       "       [ 50. ,  10. ],\n",
       "       [ 50. ,  10. ],\n",
       "       [ 50. ,  10. ],\n",
       "       [ 50. ,  10. ],\n",
       "       [ 50. ,  10. ],\n",
       "       [155. ,  54.3],\n",
       "       [155. ,  54.3],\n",
       "       [350. , 140. ]])"
      ]
     },
     "execution_count": 13,
     "metadata": {},
     "output_type": "execute_result"
    }
   ],
   "source": [
    "Pg_lim"
   ]
  },
  {
   "cell_type": "code",
   "execution_count": 14,
   "metadata": {
    "ExecuteTime": {
     "end_time": "2020-05-03T07:02:40.828341Z",
     "start_time": "2020-05-03T07:02:40.823974Z"
    }
   },
   "outputs": [
    {
     "data": {
      "text/plain": [
       "array([1., 1., 1., 1., 1., 1., 1., 1., 0., 0., 0., 0., 0., 0., 0., 0., 0.,\n",
       "       0., 0., 0., 1., 1., 1., 1., 1., 1., 1., 1., 1., 1., 1., 1., 1.])"
      ]
     },
     "execution_count": 14,
     "metadata": {},
     "output_type": "execute_result"
    }
   ],
   "source": [
    "Pg_active = get_Pg_active_constraints(Pg, Pg_lim)\n",
    "Pg_active"
   ]
  },
  {
   "cell_type": "markdown",
   "metadata": {},
   "source": [
    "### Bus active constraints, due to precense of co-related generation: [Pb_min, Pb_max]"
   ]
  },
  {
   "cell_type": "code",
   "execution_count": 15,
   "metadata": {
    "ExecuteTime": {
     "end_time": "2020-05-03T07:02:42.573261Z",
     "start_time": "2020-05-03T07:02:42.569012Z"
    },
    "scrolled": false
   },
   "outputs": [
    {
     "data": {
      "text/plain": [
       "{1: 184.0,\n",
       " 2: 184.0,\n",
       " 7: 126.1845693377164,\n",
       " 13: 207.00000000001955,\n",
       " 14: 0.0,\n",
       " 15: 167.0,\n",
       " 16: 155.0,\n",
       " 18: 400.0,\n",
       " 21: 400.0,\n",
       " 22: 300.0,\n",
       " 23: 660.0}"
      ]
     },
     "execution_count": 15,
     "metadata": {},
     "output_type": "execute_result"
    }
   ],
   "source": [
    "Pb = get_Pb(Pg, GB_map)\n",
    "Pb"
   ]
  },
  {
   "cell_type": "code",
   "execution_count": 16,
   "metadata": {
    "ExecuteTime": {
     "end_time": "2020-05-03T07:02:43.341307Z",
     "start_time": "2020-05-03T07:02:43.335506Z"
    }
   },
   "outputs": [
    {
     "data": {
      "text/plain": [
       "{1: array([192. ,  62.4]),\n",
       " 2: array([192. ,  62.4]),\n",
       " 7: array([300.,  75.]),\n",
       " 13: array([591., 207.]),\n",
       " 14: array([0., 0.]),\n",
       " 15: array([215. ,  66.3]),\n",
       " 16: array([155. ,  54.3]),\n",
       " 18: array([400., 100.]),\n",
       " 21: array([400., 100.]),\n",
       " 22: array([300.,  60.]),\n",
       " 23: array([660. , 248.6])}"
      ]
     },
     "execution_count": 16,
     "metadata": {},
     "output_type": "execute_result"
    }
   ],
   "source": [
    "Pb_lim = get_Pb_lim(Pg_lim, GB_map)\n",
    "Pb_lim"
   ]
  },
  {
   "cell_type": "code",
   "execution_count": 17,
   "metadata": {
    "ExecuteTime": {
     "end_time": "2020-05-03T07:02:43.979968Z",
     "start_time": "2020-05-03T07:02:43.975333Z"
    }
   },
   "outputs": [
    {
     "data": {
      "text/plain": [
       "array([0., 0., 0., 0., 0., 0., 1., 1., 1., 1., 1.])"
      ]
     },
     "execution_count": 17,
     "metadata": {},
     "output_type": "execute_result"
    }
   ],
   "source": [
    "Pb_active = get_Pb_active_constraints(Pg, Pg_lim, GB_map)\n",
    "Pb_active"
   ]
  },
  {
   "cell_type": "markdown",
   "metadata": {
    "ExecuteTime": {
     "end_time": "2020-04-29T18:46:15.946206Z",
     "start_time": "2020-04-29T18:46:15.942629Z"
    }
   },
   "source": [
    "### Flow Constraints: [-F_max, F_max] "
   ]
  },
  {
   "cell_type": "code",
   "execution_count": 18,
   "metadata": {
    "ExecuteTime": {
     "end_time": "2020-05-03T07:02:46.301135Z",
     "start_time": "2020-05-03T07:02:46.297262Z"
    }
   },
   "outputs": [
    {
     "data": {
      "text/plain": [
       "array([   9.01807878,   -2.8249142 ,   71.54887695,   43.61314964,\n",
       "         57.74153453,   27.6901447 , -222.71283194,  -28.47282559,\n",
       "          1.22784691,  -83.59383372,   -0.44140075,  -95.30762768,\n",
       "        -74.37610955, -119.27959575, -133.02412889, -160.83080313,\n",
       "       -174.7100866 ,  -97.62174494, -182.48865394,  -72.66877603,\n",
       "       -235.06543946, -222.52355738, -376.8556333 ,   86.97128895,\n",
       "       -226.44345794, -226.44345794,  222.71283194, -328.99516323,\n",
       "         93.49592069, -187.92434861, -141.07081462,  -53.02113475,\n",
       "        -53.02113475,  -39.92651101,  -39.92651101, -101.20550158,\n",
       "       -101.20550158, -158.92918538])"
      ]
     },
     "execution_count": 18,
     "metadata": {},
     "output_type": "execute_result"
    }
   ],
   "source": [
    "F"
   ]
  },
  {
   "cell_type": "code",
   "execution_count": 19,
   "metadata": {
    "ExecuteTime": {
     "end_time": "2020-05-03T07:02:47.197618Z",
     "start_time": "2020-05-03T07:02:47.193047Z"
    }
   },
   "outputs": [
    {
     "data": {
      "text/plain": [
       "array([[175.],\n",
       "       [175.],\n",
       "       [175.],\n",
       "       [175.],\n",
       "       [175.],\n",
       "       [175.],\n",
       "       [400.],\n",
       "       [175.],\n",
       "       [175.],\n",
       "       [175.],\n",
       "       [175.],\n",
       "       [175.],\n",
       "       [175.],\n",
       "       [400.],\n",
       "       [400.],\n",
       "       [400.],\n",
       "       [400.],\n",
       "       [500.],\n",
       "       [500.],\n",
       "       [500.],\n",
       "       [500.],\n",
       "       [500.],\n",
       "       [500.],\n",
       "       [500.],\n",
       "       [500.],\n",
       "       [500.],\n",
       "       [500.],\n",
       "       [500.],\n",
       "       [500.],\n",
       "       [500.],\n",
       "       [500.],\n",
       "       [500.],\n",
       "       [500.],\n",
       "       [500.],\n",
       "       [500.],\n",
       "       [500.],\n",
       "       [500.],\n",
       "       [500.]])"
      ]
     },
     "execution_count": 19,
     "metadata": {},
     "output_type": "execute_result"
    }
   ],
   "source": [
    "F_lim"
   ]
  },
  {
   "cell_type": "code",
   "execution_count": 20,
   "metadata": {
    "ExecuteTime": {
     "end_time": "2020-05-03T07:02:47.851302Z",
     "start_time": "2020-05-03T07:02:47.847580Z"
    }
   },
   "outputs": [
    {
     "data": {
      "text/plain": [
       "array([0, 0, 0, 0, 0, 0, 0, 0, 0, 0, 0, 0, 0, 0, 0, 0, 0, 0, 0, 0, 0, 0,\n",
       "       0, 0, 0, 0, 0, 0, 0, 0, 0, 0, 0, 0, 0, 0, 0, 0])"
      ]
     },
     "execution_count": 20,
     "metadata": {},
     "output_type": "execute_result"
    }
   ],
   "source": [
    "F_active = get_F_active_constraints(F, F_lim)\n",
    "F_active"
   ]
  },
  {
   "cell_type": "markdown",
   "metadata": {
    "ExecuteTime": {
     "end_time": "2020-04-29T07:12:37.020650Z",
     "start_time": "2020-04-29T07:12:37.017904Z"
    }
   },
   "source": [
    "### Merge all active constriants"
   ]
  },
  {
   "cell_type": "code",
   "execution_count": 21,
   "metadata": {
    "ExecuteTime": {
     "end_time": "2020-05-03T07:02:49.307625Z",
     "start_time": "2020-05-03T07:02:49.303026Z"
    }
   },
   "outputs": [
    {
     "data": {
      "text/plain": [
       "array([1., 1., 1., 1., 1., 1., 1., 1., 0., 0., 0., 0., 0., 0., 0., 0., 0.,\n",
       "       0., 0., 0., 1., 1., 1., 1., 1., 1., 1., 1., 1., 1., 1., 1., 1., 0.,\n",
       "       0., 0., 0., 0., 0., 1., 1., 1., 1., 1., 0., 0., 0., 0., 0., 0., 0.,\n",
       "       0., 0., 0., 0., 0., 0., 0., 0., 0., 0., 0., 0., 0., 0., 0., 0., 0.,\n",
       "       0., 0., 0., 0., 0., 0., 0., 0., 0., 0., 0., 0., 0., 0.])"
      ]
     },
     "execution_count": 21,
     "metadata": {},
     "output_type": "execute_result"
    }
   ],
   "source": [
    "active_aconstraints = merge_active_constraints(Pg_active, Pb_active, F_active)\n",
    "active_aconstraints"
   ]
  },
  {
   "cell_type": "code",
   "execution_count": null,
   "metadata": {},
   "outputs": [],
   "source": []
  },
  {
   "cell_type": "markdown",
   "metadata": {},
   "source": [
    "## (Optional) Example of parsing active constraints: AC-OPF"
   ]
  },
  {
   "cell_type": "code",
   "execution_count": 22,
   "metadata": {
    "ExecuteTime": {
     "end_time": "2020-05-03T07:02:55.094220Z",
     "start_time": "2020-05-03T07:02:54.431559Z"
    }
   },
   "outputs": [],
   "source": [
    "data = eng.ac_opf_solver(case_name, 0.03)"
   ]
  },
  {
   "cell_type": "code",
   "execution_count": 23,
   "metadata": {
    "ExecuteTime": {
     "end_time": "2020-05-03T07:03:12.600042Z",
     "start_time": "2020-05-03T07:03:12.593081Z"
    }
   },
   "outputs": [
    {
     "name": "stdout",
     "output_type": "stream",
     "text": [
      "{   'B_idx': matlab.double([[1.0],[2.0],[3.0],[4.0],[5.0],[6.0],[7.0],[8.0],[9.0],[10.0],[11.0],[12.0],[13.0],[14.0],[15.0],[16.0],[17.0],[18.0],[19.0],[20.0],[21.0],[22.0],[23.0],[24.0]]),\n",
      "    'F': matlab.double([[10.73631016164547],[-1.4541207927666528],[68.30182019291729],[45.57878467748592],[55.16565170032875],[24.859935489397582],[-202.53647364926962],[-29.786113920714953],[-2.99746750354297],[-85.42558991117156],[89.95828467161655],[-51.33936811722335],[-36.88505416882393],[-111.82296428246727],[-126.64974631905284],[-155.83522261316324],[-170.88489039007874],[-104.75824954533881],[-163.74412699562777],[-77.4590163854252],[-221.11105436421133],[-208.6722953427937],[-363.5356595109862],[91.23386608870629],[-217.25907675385548],[-217.25907675385548],[206.31584923453303],[-316.27244032893447],[87.3743830212644],[-180.5095075802409],[-138.8367631946502],[-58.22842417958005],[-58.22842417958005],[-46.053691937745285],[-46.053691937745285],[-109.55531869913067],[-109.55531869913067],[-156.71449380728157]]),\n",
      "    'F_lim': matlab.double([[175.0],[175.0],[175.0],[175.0],[175.0],[175.0],[400.0],[175.0],[175.0],[175.0],[175.0],[175.0],[175.0],[400.0],[400.0],[400.0],[400.0],[500.0],[500.0],[500.0],[500.0],[500.0],[500.0],[500.0],[500.0],[500.0],[500.0],[500.0],[500.0],[500.0],[500.0],[500.0],[500.0],[500.0],[500.0],[500.0],[500.0],[500.0]]),\n",
      "    'GB_map': matlab.double([[1.0],[1.0],[1.0],[1.0],[2.0],[2.0],[2.0],[2.0],[7.0],[7.0],[7.0],[13.0],[13.0],[13.0],[14.0],[15.0],[15.0],[15.0],[15.0],[15.0],[15.0],[16.0],[18.0],[21.0],[22.0],[22.0],[22.0],[22.0],[22.0],[22.0],[23.0],[23.0],[23.0]]),\n",
      "    'Pg': matlab.double([[16.000000624927583],[16.000000624927583],[75.99999839557566],[75.99999839557566],[16.000000625128514],[16.000000625128514],[75.99999839689853],[75.99999839689853],[70.5422673921609],[70.5422673921609],[70.5422673921609],[78.99778402362341],[78.99778402362341],[78.99778402362341],[0.0],[2.4000047720603876],[2.4000047720603876],[2.4000047720603876],[2.4000047720603876],[2.4000047720603876],[154.99999845954457],[154.99999846813492],[399.99999880201574],[399.99999879716245],[49.999998888240796],[49.999998888240796],[49.999998888240796],[49.999998888240796],[49.999998888240796],[49.999998888240796],[154.99999845727157],[154.99999845727157],[349.99999844285526]]),\n",
      "    'Pg_lim': matlab.double([[20.0,16.0],[20.0,16.0],[76.0,15.2],[76.0,15.2],[20.0,16.0],[20.0,16.0],[76.0,15.2],[76.0,15.2],[100.0,25.0],[100.0,25.0],[100.0,25.0],[197.0,69.0],[197.0,69.0],[197.0,69.0],[0.0,0.0],[12.0,2.4],[12.0,2.4],[12.0,2.4],[12.0,2.4],[12.0,2.4],[155.0,54.3],[155.0,54.3],[400.0,100.0],[400.0,100.0],[50.0,10.0],[50.0,10.0],[50.0,10.0],[50.0,10.0],[50.0,10.0],[50.0,10.0],[155.0,54.3],[155.0,54.3],[350.0,140.0]]),\n",
      "    'w': matlab.double([[1.5840158158101976,3.0109566588609726,3.9251797202694845,-0.6736388530249553,0.6259462249158817,-3.2121138393352413,3.3314836190911565,-5.884469648751741,-5.611569905382167,-4.735567362385521,0.0,0.0,2.585264788676773,-4.393682817567673,13.031539116305616,-5.134549256561094,0.0,-2.4120559456575057,1.7332925936686747,1.201377011087725,0.0,0.0,0.0,0.0]])}\n"
     ]
    }
   ],
   "source": [
    "pp.pprint(data)"
   ]
  },
  {
   "cell_type": "code",
   "execution_count": 24,
   "metadata": {
    "ExecuteTime": {
     "end_time": "2020-05-03T07:03:21.803186Z",
     "start_time": "2020-05-03T07:03:21.800197Z"
    }
   },
   "outputs": [],
   "source": [
    "eng.quit()"
   ]
  },
  {
   "cell_type": "code",
   "execution_count": 25,
   "metadata": {
    "ExecuteTime": {
     "end_time": "2020-05-03T07:03:22.187088Z",
     "start_time": "2020-05-03T07:03:22.184448Z"
    }
   },
   "outputs": [],
   "source": [
    "os.chdir(org_dir)"
   ]
  },
  {
   "cell_type": "code",
   "execution_count": null,
   "metadata": {},
   "outputs": [],
   "source": []
  },
  {
   "cell_type": "markdown",
   "metadata": {},
   "source": [
    "## Create Datasets for NNs"
   ]
  },
  {
   "cell_type": "markdown",
   "metadata": {},
   "source": [
    "### example of creating a dataset\n",
    "- **x**: uncertainty realization as a feature input\n",
    "- **y**: active constraints index as a label output"
   ]
  },
  {
   "cell_type": "code",
   "execution_count": 26,
   "metadata": {
    "ExecuteTime": {
     "end_time": "2020-05-03T07:03:34.572035Z",
     "start_time": "2020-05-03T07:03:28.560457Z"
    }
   },
   "outputs": [
    {
     "name": "stdout",
     "output_type": "stream",
     "text": [
      "> creating dataset with pglib_opf_case24_ieee_rts.m\n"
     ]
    },
    {
     "name": "stderr",
     "output_type": "stream",
     "text": [
      "100%|██████████| 1/1 [00:00<00:00,  3.44it/s]\n"
     ]
    },
    {
     "data": {
      "text/plain": [
       "{'x': array([ 1.58401582,  3.01095666,  3.92517972, -0.67363885,  0.62594622,\n",
       "        -3.21211384,  3.33148362, -5.88446965, -5.61156991, -4.73556736,\n",
       "         0.        ,  0.        ,  2.58526479, -4.39368282, 13.03153912,\n",
       "        -5.13454926,  0.        , -2.41205595,  1.73329259,  1.20137701,\n",
       "         0.        ,  0.        ,  0.        ,  0.        ]),\n",
       " 'y': array([[1., 1., 1., 1., 1., 1., 1., 1., 0., 0., 0., 0., 0., 0., 0., 0.,\n",
       "         0., 0., 0., 0., 1., 1., 1., 1., 1., 1., 1., 1., 1., 1., 1., 1.,\n",
       "         1., 0., 0., 0., 0., 0., 0., 1., 1., 1., 1., 1., 0., 0., 0., 0.,\n",
       "         0., 0., 0., 0., 0., 0., 0., 0., 0., 0., 0., 0., 0., 0., 0., 0.,\n",
       "         0., 0., 0., 0., 0., 0., 0., 0., 0., 0., 0., 0., 0., 0., 0., 0.,\n",
       "         0., 0.]])}"
      ]
     },
     "execution_count": 26,
     "metadata": {},
     "output_type": "execute_result"
    }
   ],
   "source": [
    "dataset = create_dataset(case_name, dataset_size=1)\n",
    "dataset"
   ]
  },
  {
   "cell_type": "markdown",
   "metadata": {},
   "source": [
    "### Build datasets"
   ]
  },
  {
   "cell_type": "code",
   "execution_count": 28,
   "metadata": {
    "ExecuteTime": {
     "end_time": "2020-05-03T07:03:40.548318Z",
     "start_time": "2020-05-03T07:03:40.546065Z"
    }
   },
   "outputs": [],
   "source": [
    "# dataset_size = 2\n",
    "dataset_size = 50000"
   ]
  },
  {
   "cell_type": "code",
   "execution_count": 27,
   "metadata": {
    "ExecuteTime": {
     "end_time": "2020-04-30T13:19:15.971470Z",
     "start_time": "2020-04-30T05:11:39.082189Z"
    },
    "scrolled": false
   },
   "outputs": [
    {
     "name": "stdout",
     "output_type": "stream",
     "text": [
      "> creating dataset with pglib_opf_case162_ieee_dtc.m\n"
     ]
    },
    {
     "name": "stderr",
     "output_type": "stream",
     "text": [
      "100%|██████████| 50000/50000 [3:14:59<00:00,  4.27it/s]  \n"
     ]
    },
    {
     "name": "stdout",
     "output_type": "stream",
     "text": [
      "> creating dataset with pglib_opf_case300_ieee.m\n"
     ]
    },
    {
     "name": "stderr",
     "output_type": "stream",
     "text": [
      "100%|██████████| 50000/50000 [4:52:27<00:00,  2.85it/s]  \n"
     ]
    }
   ],
   "source": [
    "build_datasets(test_cases, dataset_size)"
   ]
  },
  {
   "cell_type": "markdown",
   "metadata": {
    "ExecuteTime": {
     "end_time": "2020-04-28T13:58:42.208407Z",
     "start_time": "2020-04-28T13:58:42.204498Z"
    }
   },
   "source": [
    "### Check datasets"
   ]
  },
  {
   "cell_type": "code",
   "execution_count": 29,
   "metadata": {
    "ExecuteTime": {
     "end_time": "2020-05-03T07:03:53.162256Z",
     "start_time": "2020-05-03T07:03:53.081930Z"
    }
   },
   "outputs": [],
   "source": [
    "infile = open('./datasets/pglib_opf_case24_ieee_rts.pickle','rb')\n",
    "dataset = pickle.load(infile)\n",
    "infile.close()"
   ]
  },
  {
   "cell_type": "code",
   "execution_count": 30,
   "metadata": {
    "ExecuteTime": {
     "end_time": "2020-05-03T07:03:54.047087Z",
     "start_time": "2020-05-03T07:03:54.042459Z"
    }
   },
   "outputs": [
    {
     "data": {
      "text/plain": [
       "{'x': array([[ 1.58401582,  3.01095666,  3.92517972, ...,  0.        ,\n",
       "          0.        ,  0.        ],\n",
       "        [ 3.54218077,  3.2279853 , -4.66372524, ...,  0.        ,\n",
       "          0.        ,  0.        ],\n",
       "        [-0.62343597,  2.58585634, -4.13018588, ...,  0.        ,\n",
       "          0.        ,  0.        ],\n",
       "        ...,\n",
       "        [-1.73786221, -1.83840692,  6.28492785, ...,  0.        ,\n",
       "          0.        ,  0.        ],\n",
       "        [-2.94739091, -1.37913875, -7.33716418, ...,  0.        ,\n",
       "          0.        ,  0.        ],\n",
       "        [-1.56552295,  3.44187377,  8.9611732 , ...,  0.        ,\n",
       "          0.        ,  0.        ]]),\n",
       " 'y': array([[1., 1., 1., ..., 0., 0., 0.],\n",
       "        [1., 1., 1., ..., 0., 0., 0.],\n",
       "        [1., 1., 1., ..., 0., 0., 0.],\n",
       "        ...,\n",
       "        [1., 1., 1., ..., 0., 0., 0.],\n",
       "        [1., 1., 1., ..., 0., 0., 0.],\n",
       "        [1., 1., 1., ..., 0., 0., 0.]])}"
      ]
     },
     "execution_count": 30,
     "metadata": {},
     "output_type": "execute_result"
    }
   ],
   "source": [
    "dataset"
   ]
  },
  {
   "cell_type": "code",
   "execution_count": null,
   "metadata": {},
   "outputs": [],
   "source": []
  },
  {
   "cell_type": "code",
   "execution_count": null,
   "metadata": {},
   "outputs": [],
   "source": []
  },
  {
   "cell_type": "code",
   "execution_count": null,
   "metadata": {},
   "outputs": [],
   "source": []
  }
 ],
 "metadata": {
  "kernelspec": {
   "display_name": "Python 3.7.7 64-bit ('EE394V': conda)",
   "language": "python",
   "name": "python37764bitee394vcondadf2c1da4587f4eceba1227d29068d7e0"
  },
  "language_info": {
   "codemirror_mode": {
    "name": "ipython",
    "version": 3
   },
   "file_extension": ".py",
   "mimetype": "text/x-python",
   "name": "python",
   "nbconvert_exporter": "python",
   "pygments_lexer": "ipython3",
   "version": "3.7.7"
  },
  "toc": {
   "base_numbering": 1,
   "nav_menu": {},
   "number_sections": true,
   "sideBar": true,
   "skip_h1_title": false,
   "title_cell": "Table of Contents",
   "title_sidebar": "Contents",
   "toc_cell": false,
   "toc_position": {},
   "toc_section_display": true,
   "toc_window_display": false
  },
  "varInspector": {
   "cols": {
    "lenName": 16,
    "lenType": 16,
    "lenVar": 40
   },
   "kernels_config": {
    "python": {
     "delete_cmd_postfix": "",
     "delete_cmd_prefix": "del ",
     "library": "var_list.py",
     "varRefreshCmd": "print(var_dic_list())"
    },
    "r": {
     "delete_cmd_postfix": ") ",
     "delete_cmd_prefix": "rm(",
     "library": "var_list.r",
     "varRefreshCmd": "cat(var_dic_list()) "
    }
   },
   "types_to_exclude": [
    "module",
    "function",
    "builtin_function_or_method",
    "instance",
    "_Feature"
   ],
   "window_display": false
  }
 },
 "nbformat": 4,
 "nbformat_minor": 4
}
