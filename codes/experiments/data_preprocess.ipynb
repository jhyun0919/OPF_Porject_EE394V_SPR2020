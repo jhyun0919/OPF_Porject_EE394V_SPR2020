{
 "cells": [
  {
   "cell_type": "markdown",
   "metadata": {},
   "source": [
    "# Check parsed dataset"
   ]
  },
  {
   "cell_type": "markdown",
   "metadata": {},
   "source": [
    "## Load the pickle file"
   ]
  },
  {
   "cell_type": "code",
   "execution_count": 1,
   "metadata": {
    "ExecuteTime": {
     "end_time": "2020-04-27T05:30:57.413564Z",
     "start_time": "2020-04-27T05:30:57.411247Z"
    }
   },
   "outputs": [],
   "source": [
    "import pickle"
   ]
  },
  {
   "cell_type": "code",
   "execution_count": 2,
   "metadata": {
    "ExecuteTime": {
     "end_time": "2020-04-27T05:30:59.756643Z",
     "start_time": "2020-04-27T05:30:59.506762Z"
    }
   },
   "outputs": [],
   "source": [
    "infile = open('../pglib-opf-master/opf_dataset.pickle','rb')\n",
    "opf_data_dict = pickle.load(infile)\n",
    "infile.close()"
   ]
  },
  {
   "cell_type": "markdown",
   "metadata": {},
   "source": [
    "## Check the OPF dataset [1]"
   ]
  },
  {
   "cell_type": "markdown",
   "metadata": {},
   "source": [
    "### Check OPF dataset names"
   ]
  },
  {
   "cell_type": "code",
   "execution_count": 3,
   "metadata": {
    "ExecuteTime": {
     "end_time": "2020-04-27T05:31:25.106500Z",
     "start_time": "2020-04-27T05:31:25.099105Z"
    }
   },
   "outputs": [
    {
     "data": {
      "text/plain": [
       "dict_keys(['pglib_opf_case2746wop_k.m', 'pglib_opf_case2746wp_k.m', 'pglib_opf_case13659_pegase.m', 'pglib_opf_case2000_tamu.m', 'pglib_opf_case6470_rte.m', 'pglib_opf_case6515_rte.m', 'pglib_opf_case3375wp_k.m', 'pglib_opf_case162_ieee_dtc.m', 'pglib_opf_case118_ieee.m', 'pglib_opf_case2737sop_k.m', 'pglib_opf_case500_tamu.m', 'pglib_opf_case89_pegase.m', 'pglib_opf_case2868_rte.m', 'pglib_opf_case3120sp_k.m', 'pglib_opf_case2736sp_k.m', 'pglib_opf_case9241_pegase.m', 'pglib_opf_case3012wp_k.m', 'pglib_opf_case200_tamu.m', 'pglib_opf_case240_pserc.m', 'pglib_opf_case4661_sdet.m', 'pglib_opf_case30_as.m', 'pglib_opf_case2848_rte.m', 'pglib_opf_case6468_rte.m', 'pglib_opf_case6495_rte.m', 'pglib_opf_case588_sdet.m', 'pglib_opf_case24_ieee_rts.m', 'pglib_opf_case57_ieee.m', 'pglib_opf_case2383wp_k.m', 'pglib_opf_case3_lmbd.m', 'pglib_opf_case10000_tamu.m', 'pglib_opf_case179_goc.m', 'pglib_opf_case14_ieee.m', 'pglib_opf_case1888_rte.m', 'pglib_opf_case2869_pegase.m', 'pglib_opf_case30_ieee.m', 'pglib_opf_case39_epri.m', 'pglib_opf_case30_fsr.m', 'pglib_opf_case2316_sdet.m', 'pglib_opf_case1354_pegase.m', 'pglib_opf_case300_ieee.m', 'pglib_opf_case73_ieee_rts.m', 'pglib_opf_case2853_sdet.m', 'pglib_opf_case5_pjm.m', 'pglib_opf_case1951_rte.m'])"
      ]
     },
     "execution_count": 3,
     "metadata": {},
     "output_type": "execute_result"
    }
   ],
   "source": [
    "opf_data_dict.keys()"
   ]
  },
  {
   "cell_type": "markdown",
   "metadata": {},
   "source": [
    "### Check OPF dataset in detail"
   ]
  },
  {
   "cell_type": "markdown",
   "metadata": {
    "ExecuteTime": {
     "end_time": "2020-04-06T08:57:56.503942Z",
     "start_time": "2020-04-06T08:57:56.500929Z"
    }
   },
   "source": [
    "The given datasets [1] are designed to evaluate a well established version of the the **AC Optimal Power Flow problem** as follows.   \n",
    "\n",
    "\n",
    "<img src=\"figures/MODEL.png\" style=\"float: left; width: 550px;\"/>"
   ]
  },
  {
   "cell_type": "code",
   "execution_count": 4,
   "metadata": {
    "ExecuteTime": {
     "end_time": "2020-04-27T05:31:49.387234Z",
     "start_time": "2020-04-27T05:31:49.384842Z"
    }
   },
   "outputs": [],
   "source": [
    "import pandas as pd\n",
    "import pprint"
   ]
  },
  {
   "cell_type": "code",
   "execution_count": 5,
   "metadata": {
    "ExecuteTime": {
     "end_time": "2020-04-27T05:32:13.186275Z",
     "start_time": "2020-04-27T05:32:13.183858Z"
    }
   },
   "outputs": [],
   "source": [
    "# select datasets for the experiments\n",
    "test_cases = [\n",
    "    'pglib_opf_case24_ieee_rts.m', \n",
    "    'pglib_opf_case30_ieee.m',\n",
    "    'pglib_opf_case39_epri.m',\n",
    "    'pglib_opf_case57_ieee.m',\n",
    "    'pglib_opf_case73_ieee_rts.m',\n",
    "    'pglib_opf_case118_ieee.m',\n",
    "    'pglib_opf_case162_ieee_dtc.m',\n",
    "    'pglib_opf_case300_ieee.m',\n",
    "    'pglib_opf_case1888_rte.m',\n",
    "]"
   ]
  },
  {
   "cell_type": "markdown",
   "metadata": {},
   "source": [
    "### Check the selected test case dataset in detail"
   ]
  },
  {
   "cell_type": "code",
   "execution_count": 6,
   "metadata": {
    "ExecuteTime": {
     "end_time": "2020-04-27T05:32:36.950850Z",
     "start_time": "2020-04-27T05:32:36.948136Z"
    }
   },
   "outputs": [],
   "source": [
    "test_idx = 1\n",
    "opf_data = opf_data_dict[test_cases[test_idx]]"
   ]
  },
  {
   "cell_type": "code",
   "execution_count": 7,
   "metadata": {
    "ExecuteTime": {
     "end_time": "2020-04-27T04:38:33.428872Z",
     "start_time": "2020-04-27T04:38:33.425500Z"
    },
    "scrolled": false
   },
   "outputs": [],
   "source": [
    "pp = pprint.PrettyPrinter(indent=4)"
   ]
  },
  {
   "cell_type": "code",
   "execution_count": 8,
   "metadata": {
    "ExecuteTime": {
     "end_time": "2020-04-27T04:38:57.170068Z",
     "start_time": "2020-04-27T04:38:57.167470Z"
    }
   },
   "outputs": [],
   "source": [
    "# pp.pprint(opf_data)"
   ]
  },
  {
   "cell_type": "markdown",
   "metadata": {},
   "source": [
    "#### Check data shape"
   ]
  },
  {
   "cell_type": "code",
   "execution_count": 9,
   "metadata": {
    "ExecuteTime": {
     "end_time": "2020-04-27T04:39:18.620144Z",
     "start_time": "2020-04-27T04:39:18.615992Z"
    }
   },
   "outputs": [
    {
     "name": "stdout",
     "output_type": "stream",
     "text": [
      "Bus data shape: (24, 13)\n",
      "Generator data shape: (33, 10)\n",
      "Generation cost data shape: (33, 7)\n",
      "Branch data shape: (38, 13)\n"
     ]
    }
   ],
   "source": [
    "print('Bus data shape: {}'.format(opf_data['bus'].shape))\n",
    "print('Generator data shape: {}'.format(opf_data['gen'].shape))\n",
    "print('Generation cost data shape: {}'.format(opf_data['gencost'].shape))\n",
    "print('Branch data shape: {}'.format(opf_data['branch'].shape))"
   ]
  },
  {
   "cell_type": "markdown",
   "metadata": {},
   "source": [
    "#### Bus data"
   ]
  },
  {
   "cell_type": "code",
   "execution_count": 10,
   "metadata": {
    "ExecuteTime": {
     "end_time": "2020-04-27T04:39:40.072314Z",
     "start_time": "2020-04-27T04:39:40.058390Z"
    }
   },
   "outputs": [
    {
     "data": {
      "text/html": [
       "<div>\n",
       "<style scoped>\n",
       "    .dataframe tbody tr th:only-of-type {\n",
       "        vertical-align: middle;\n",
       "    }\n",
       "\n",
       "    .dataframe tbody tr th {\n",
       "        vertical-align: top;\n",
       "    }\n",
       "\n",
       "    .dataframe thead th {\n",
       "        text-align: right;\n",
       "    }\n",
       "</style>\n",
       "<table border=\"1\" class=\"dataframe\">\n",
       "  <thead>\n",
       "    <tr style=\"text-align: right;\">\n",
       "      <th></th>\n",
       "      <th>bus_i</th>\n",
       "      <th>type</th>\n",
       "      <th>Pd</th>\n",
       "      <th>Qd</th>\n",
       "      <th>Gs</th>\n",
       "      <th>Bs</th>\n",
       "      <th>area</th>\n",
       "      <th>Vm</th>\n",
       "      <th>Va</th>\n",
       "      <th>baseKV</th>\n",
       "      <th>zone</th>\n",
       "      <th>Vmax</th>\n",
       "      <th>Vmin</th>\n",
       "    </tr>\n",
       "  </thead>\n",
       "  <tbody>\n",
       "    <tr>\n",
       "      <th>0</th>\n",
       "      <td>1.0</td>\n",
       "      <td>2.0</td>\n",
       "      <td>108.0</td>\n",
       "      <td>22.0</td>\n",
       "      <td>0.0</td>\n",
       "      <td>0.0</td>\n",
       "      <td>1.0</td>\n",
       "      <td>1.0</td>\n",
       "      <td>0.0</td>\n",
       "      <td>138.0</td>\n",
       "      <td>1.0</td>\n",
       "      <td>1.05</td>\n",
       "      <td>0.95</td>\n",
       "    </tr>\n",
       "    <tr>\n",
       "      <th>1</th>\n",
       "      <td>2.0</td>\n",
       "      <td>2.0</td>\n",
       "      <td>97.0</td>\n",
       "      <td>20.0</td>\n",
       "      <td>0.0</td>\n",
       "      <td>0.0</td>\n",
       "      <td>1.0</td>\n",
       "      <td>1.0</td>\n",
       "      <td>0.0</td>\n",
       "      <td>138.0</td>\n",
       "      <td>1.0</td>\n",
       "      <td>1.05</td>\n",
       "      <td>0.95</td>\n",
       "    </tr>\n",
       "    <tr>\n",
       "      <th>2</th>\n",
       "      <td>3.0</td>\n",
       "      <td>1.0</td>\n",
       "      <td>180.0</td>\n",
       "      <td>37.0</td>\n",
       "      <td>0.0</td>\n",
       "      <td>0.0</td>\n",
       "      <td>1.0</td>\n",
       "      <td>1.0</td>\n",
       "      <td>0.0</td>\n",
       "      <td>138.0</td>\n",
       "      <td>1.0</td>\n",
       "      <td>1.05</td>\n",
       "      <td>0.95</td>\n",
       "    </tr>\n",
       "    <tr>\n",
       "      <th>3</th>\n",
       "      <td>4.0</td>\n",
       "      <td>1.0</td>\n",
       "      <td>74.0</td>\n",
       "      <td>15.0</td>\n",
       "      <td>0.0</td>\n",
       "      <td>0.0</td>\n",
       "      <td>1.0</td>\n",
       "      <td>1.0</td>\n",
       "      <td>0.0</td>\n",
       "      <td>138.0</td>\n",
       "      <td>1.0</td>\n",
       "      <td>1.05</td>\n",
       "      <td>0.95</td>\n",
       "    </tr>\n",
       "    <tr>\n",
       "      <th>4</th>\n",
       "      <td>5.0</td>\n",
       "      <td>1.0</td>\n",
       "      <td>71.0</td>\n",
       "      <td>14.0</td>\n",
       "      <td>0.0</td>\n",
       "      <td>0.0</td>\n",
       "      <td>1.0</td>\n",
       "      <td>1.0</td>\n",
       "      <td>0.0</td>\n",
       "      <td>138.0</td>\n",
       "      <td>1.0</td>\n",
       "      <td>1.05</td>\n",
       "      <td>0.95</td>\n",
       "    </tr>\n",
       "  </tbody>\n",
       "</table>\n",
       "</div>"
      ],
      "text/plain": [
       "   bus_i  type     Pd    Qd   Gs   Bs  area   Vm   Va  baseKV  zone  Vmax  \\\n",
       "0    1.0   2.0  108.0  22.0  0.0  0.0   1.0  1.0  0.0   138.0   1.0  1.05   \n",
       "1    2.0   2.0   97.0  20.0  0.0  0.0   1.0  1.0  0.0   138.0   1.0  1.05   \n",
       "2    3.0   1.0  180.0  37.0  0.0  0.0   1.0  1.0  0.0   138.0   1.0  1.05   \n",
       "3    4.0   1.0   74.0  15.0  0.0  0.0   1.0  1.0  0.0   138.0   1.0  1.05   \n",
       "4    5.0   1.0   71.0  14.0  0.0  0.0   1.0  1.0  0.0   138.0   1.0  1.05   \n",
       "\n",
       "   Vmin  \n",
       "0  0.95  \n",
       "1  0.95  \n",
       "2  0.95  \n",
       "3  0.95  \n",
       "4  0.95  "
      ]
     },
     "execution_count": 10,
     "metadata": {},
     "output_type": "execute_result"
    }
   ],
   "source": [
    "opf_data['bus'].head()"
   ]
  },
  {
   "cell_type": "markdown",
   "metadata": {},
   "source": [
    "#### Generator data"
   ]
  },
  {
   "cell_type": "code",
   "execution_count": 11,
   "metadata": {
    "ExecuteTime": {
     "end_time": "2020-04-27T04:40:01.583136Z",
     "start_time": "2020-04-27T04:40:01.571289Z"
    }
   },
   "outputs": [
    {
     "data": {
      "text/html": [
       "<div>\n",
       "<style scoped>\n",
       "    .dataframe tbody tr th:only-of-type {\n",
       "        vertical-align: middle;\n",
       "    }\n",
       "\n",
       "    .dataframe tbody tr th {\n",
       "        vertical-align: top;\n",
       "    }\n",
       "\n",
       "    .dataframe thead th {\n",
       "        text-align: right;\n",
       "    }\n",
       "</style>\n",
       "<table border=\"1\" class=\"dataframe\">\n",
       "  <thead>\n",
       "    <tr style=\"text-align: right;\">\n",
       "      <th></th>\n",
       "      <th>bus</th>\n",
       "      <th>Pg</th>\n",
       "      <th>Qg</th>\n",
       "      <th>Qmax</th>\n",
       "      <th>Qmin</th>\n",
       "      <th>Vg</th>\n",
       "      <th>mBase</th>\n",
       "      <th>status</th>\n",
       "      <th>Pmax</th>\n",
       "      <th>Pmin</th>\n",
       "    </tr>\n",
       "  </thead>\n",
       "  <tbody>\n",
       "    <tr>\n",
       "      <th>0</th>\n",
       "      <td>1.0</td>\n",
       "      <td>18.0</td>\n",
       "      <td>5.0</td>\n",
       "      <td>10.0</td>\n",
       "      <td>0.0</td>\n",
       "      <td>1.0</td>\n",
       "      <td>100.0</td>\n",
       "      <td>1.0</td>\n",
       "      <td>20.0</td>\n",
       "      <td>16.0</td>\n",
       "    </tr>\n",
       "    <tr>\n",
       "      <th>1</th>\n",
       "      <td>1.0</td>\n",
       "      <td>18.0</td>\n",
       "      <td>5.0</td>\n",
       "      <td>10.0</td>\n",
       "      <td>0.0</td>\n",
       "      <td>1.0</td>\n",
       "      <td>100.0</td>\n",
       "      <td>1.0</td>\n",
       "      <td>20.0</td>\n",
       "      <td>16.0</td>\n",
       "    </tr>\n",
       "    <tr>\n",
       "      <th>2</th>\n",
       "      <td>1.0</td>\n",
       "      <td>45.6</td>\n",
       "      <td>2.5</td>\n",
       "      <td>30.0</td>\n",
       "      <td>-25.0</td>\n",
       "      <td>1.0</td>\n",
       "      <td>100.0</td>\n",
       "      <td>1.0</td>\n",
       "      <td>76.0</td>\n",
       "      <td>15.2</td>\n",
       "    </tr>\n",
       "    <tr>\n",
       "      <th>3</th>\n",
       "      <td>1.0</td>\n",
       "      <td>45.6</td>\n",
       "      <td>2.5</td>\n",
       "      <td>30.0</td>\n",
       "      <td>-25.0</td>\n",
       "      <td>1.0</td>\n",
       "      <td>100.0</td>\n",
       "      <td>1.0</td>\n",
       "      <td>76.0</td>\n",
       "      <td>15.2</td>\n",
       "    </tr>\n",
       "    <tr>\n",
       "      <th>4</th>\n",
       "      <td>2.0</td>\n",
       "      <td>18.0</td>\n",
       "      <td>5.0</td>\n",
       "      <td>10.0</td>\n",
       "      <td>0.0</td>\n",
       "      <td>1.0</td>\n",
       "      <td>100.0</td>\n",
       "      <td>1.0</td>\n",
       "      <td>20.0</td>\n",
       "      <td>16.0</td>\n",
       "    </tr>\n",
       "  </tbody>\n",
       "</table>\n",
       "</div>"
      ],
      "text/plain": [
       "   bus    Pg   Qg  Qmax  Qmin   Vg  mBase  status  Pmax  Pmin\n",
       "0  1.0  18.0  5.0  10.0   0.0  1.0  100.0     1.0  20.0  16.0\n",
       "1  1.0  18.0  5.0  10.0   0.0  1.0  100.0     1.0  20.0  16.0\n",
       "2  1.0  45.6  2.5  30.0 -25.0  1.0  100.0     1.0  76.0  15.2\n",
       "3  1.0  45.6  2.5  30.0 -25.0  1.0  100.0     1.0  76.0  15.2\n",
       "4  2.0  18.0  5.0  10.0   0.0  1.0  100.0     1.0  20.0  16.0"
      ]
     },
     "execution_count": 11,
     "metadata": {},
     "output_type": "execute_result"
    }
   ],
   "source": [
    "opf_data['gen'].head()"
   ]
  },
  {
   "cell_type": "markdown",
   "metadata": {},
   "source": [
    "#### Generation cost data"
   ]
  },
  {
   "cell_type": "code",
   "execution_count": 12,
   "metadata": {
    "ExecuteTime": {
     "end_time": "2020-04-27T04:40:23.568503Z",
     "start_time": "2020-04-27T04:40:23.559477Z"
    }
   },
   "outputs": [
    {
     "data": {
      "text/html": [
       "<div>\n",
       "<style scoped>\n",
       "    .dataframe tbody tr th:only-of-type {\n",
       "        vertical-align: middle;\n",
       "    }\n",
       "\n",
       "    .dataframe tbody tr th {\n",
       "        vertical-align: top;\n",
       "    }\n",
       "\n",
       "    .dataframe thead th {\n",
       "        text-align: right;\n",
       "    }\n",
       "</style>\n",
       "<table border=\"1\" class=\"dataframe\">\n",
       "  <thead>\n",
       "    <tr style=\"text-align: right;\">\n",
       "      <th></th>\n",
       "      <th>2</th>\n",
       "      <th>startup</th>\n",
       "      <th>shutdown</th>\n",
       "      <th>n</th>\n",
       "      <th>c2</th>\n",
       "      <th>c1</th>\n",
       "      <th>c0</th>\n",
       "    </tr>\n",
       "  </thead>\n",
       "  <tbody>\n",
       "    <tr>\n",
       "      <th>0</th>\n",
       "      <td>2.0</td>\n",
       "      <td>1500.0</td>\n",
       "      <td>0.0</td>\n",
       "      <td>3.0</td>\n",
       "      <td>0.000000</td>\n",
       "      <td>130.0000</td>\n",
       "      <td>400.6849</td>\n",
       "    </tr>\n",
       "    <tr>\n",
       "      <th>1</th>\n",
       "      <td>2.0</td>\n",
       "      <td>1500.0</td>\n",
       "      <td>0.0</td>\n",
       "      <td>3.0</td>\n",
       "      <td>0.000000</td>\n",
       "      <td>130.0000</td>\n",
       "      <td>400.6849</td>\n",
       "    </tr>\n",
       "    <tr>\n",
       "      <th>2</th>\n",
       "      <td>2.0</td>\n",
       "      <td>1500.0</td>\n",
       "      <td>0.0</td>\n",
       "      <td>3.0</td>\n",
       "      <td>0.014142</td>\n",
       "      <td>16.0811</td>\n",
       "      <td>212.3076</td>\n",
       "    </tr>\n",
       "    <tr>\n",
       "      <th>3</th>\n",
       "      <td>2.0</td>\n",
       "      <td>1500.0</td>\n",
       "      <td>0.0</td>\n",
       "      <td>3.0</td>\n",
       "      <td>0.014142</td>\n",
       "      <td>16.0811</td>\n",
       "      <td>212.3076</td>\n",
       "    </tr>\n",
       "    <tr>\n",
       "      <th>4</th>\n",
       "      <td>2.0</td>\n",
       "      <td>1500.0</td>\n",
       "      <td>0.0</td>\n",
       "      <td>3.0</td>\n",
       "      <td>0.000000</td>\n",
       "      <td>130.0000</td>\n",
       "      <td>400.6849</td>\n",
       "    </tr>\n",
       "  </tbody>\n",
       "</table>\n",
       "</div>"
      ],
      "text/plain": [
       "     2  startup  shutdown    n        c2        c1        c0\n",
       "0  2.0   1500.0       0.0  3.0  0.000000  130.0000  400.6849\n",
       "1  2.0   1500.0       0.0  3.0  0.000000  130.0000  400.6849\n",
       "2  2.0   1500.0       0.0  3.0  0.014142   16.0811  212.3076\n",
       "3  2.0   1500.0       0.0  3.0  0.014142   16.0811  212.3076\n",
       "4  2.0   1500.0       0.0  3.0  0.000000  130.0000  400.6849"
      ]
     },
     "execution_count": 12,
     "metadata": {},
     "output_type": "execute_result"
    }
   ],
   "source": [
    "opf_data['gencost'].head()"
   ]
  },
  {
   "cell_type": "markdown",
   "metadata": {},
   "source": [
    "#### Branch data"
   ]
  },
  {
   "cell_type": "code",
   "execution_count": 13,
   "metadata": {
    "ExecuteTime": {
     "end_time": "2020-04-27T04:40:46.126886Z",
     "start_time": "2020-04-27T04:40:46.114431Z"
    }
   },
   "outputs": [
    {
     "data": {
      "text/html": [
       "<div>\n",
       "<style scoped>\n",
       "    .dataframe tbody tr th:only-of-type {\n",
       "        vertical-align: middle;\n",
       "    }\n",
       "\n",
       "    .dataframe tbody tr th {\n",
       "        vertical-align: top;\n",
       "    }\n",
       "\n",
       "    .dataframe thead th {\n",
       "        text-align: right;\n",
       "    }\n",
       "</style>\n",
       "<table border=\"1\" class=\"dataframe\">\n",
       "  <thead>\n",
       "    <tr style=\"text-align: right;\">\n",
       "      <th></th>\n",
       "      <th>fbus</th>\n",
       "      <th>tbus</th>\n",
       "      <th>r</th>\n",
       "      <th>x</th>\n",
       "      <th>b</th>\n",
       "      <th>rateA</th>\n",
       "      <th>rateB</th>\n",
       "      <th>rateC</th>\n",
       "      <th>ratio</th>\n",
       "      <th>angle</th>\n",
       "      <th>status</th>\n",
       "      <th>angmin</th>\n",
       "      <th>angmax</th>\n",
       "    </tr>\n",
       "  </thead>\n",
       "  <tbody>\n",
       "    <tr>\n",
       "      <th>0</th>\n",
       "      <td>1.0</td>\n",
       "      <td>2.0</td>\n",
       "      <td>0.0026</td>\n",
       "      <td>0.0139</td>\n",
       "      <td>0.4611</td>\n",
       "      <td>175.0</td>\n",
       "      <td>193.0</td>\n",
       "      <td>200.0</td>\n",
       "      <td>0.0</td>\n",
       "      <td>0.0</td>\n",
       "      <td>1.0</td>\n",
       "      <td>-30.0</td>\n",
       "      <td>30.0</td>\n",
       "    </tr>\n",
       "    <tr>\n",
       "      <th>1</th>\n",
       "      <td>1.0</td>\n",
       "      <td>3.0</td>\n",
       "      <td>0.0546</td>\n",
       "      <td>0.2112</td>\n",
       "      <td>0.0572</td>\n",
       "      <td>175.0</td>\n",
       "      <td>208.0</td>\n",
       "      <td>220.0</td>\n",
       "      <td>0.0</td>\n",
       "      <td>0.0</td>\n",
       "      <td>1.0</td>\n",
       "      <td>-30.0</td>\n",
       "      <td>30.0</td>\n",
       "    </tr>\n",
       "    <tr>\n",
       "      <th>2</th>\n",
       "      <td>1.0</td>\n",
       "      <td>5.0</td>\n",
       "      <td>0.0218</td>\n",
       "      <td>0.0845</td>\n",
       "      <td>0.0229</td>\n",
       "      <td>175.0</td>\n",
       "      <td>208.0</td>\n",
       "      <td>220.0</td>\n",
       "      <td>0.0</td>\n",
       "      <td>0.0</td>\n",
       "      <td>1.0</td>\n",
       "      <td>-30.0</td>\n",
       "      <td>30.0</td>\n",
       "    </tr>\n",
       "    <tr>\n",
       "      <th>3</th>\n",
       "      <td>2.0</td>\n",
       "      <td>4.0</td>\n",
       "      <td>0.0328</td>\n",
       "      <td>0.1267</td>\n",
       "      <td>0.0343</td>\n",
       "      <td>175.0</td>\n",
       "      <td>208.0</td>\n",
       "      <td>220.0</td>\n",
       "      <td>0.0</td>\n",
       "      <td>0.0</td>\n",
       "      <td>1.0</td>\n",
       "      <td>-30.0</td>\n",
       "      <td>30.0</td>\n",
       "    </tr>\n",
       "    <tr>\n",
       "      <th>4</th>\n",
       "      <td>2.0</td>\n",
       "      <td>6.0</td>\n",
       "      <td>0.0497</td>\n",
       "      <td>0.1920</td>\n",
       "      <td>0.0520</td>\n",
       "      <td>175.0</td>\n",
       "      <td>208.0</td>\n",
       "      <td>220.0</td>\n",
       "      <td>0.0</td>\n",
       "      <td>0.0</td>\n",
       "      <td>1.0</td>\n",
       "      <td>-30.0</td>\n",
       "      <td>30.0</td>\n",
       "    </tr>\n",
       "  </tbody>\n",
       "</table>\n",
       "</div>"
      ],
      "text/plain": [
       "   fbus  tbus       r       x       b  rateA  rateB  rateC  ratio  angle  \\\n",
       "0   1.0   2.0  0.0026  0.0139  0.4611  175.0  193.0  200.0    0.0    0.0   \n",
       "1   1.0   3.0  0.0546  0.2112  0.0572  175.0  208.0  220.0    0.0    0.0   \n",
       "2   1.0   5.0  0.0218  0.0845  0.0229  175.0  208.0  220.0    0.0    0.0   \n",
       "3   2.0   4.0  0.0328  0.1267  0.0343  175.0  208.0  220.0    0.0    0.0   \n",
       "4   2.0   6.0  0.0497  0.1920  0.0520  175.0  208.0  220.0    0.0    0.0   \n",
       "\n",
       "   status  angmin  angmax  \n",
       "0     1.0   -30.0    30.0  \n",
       "1     1.0   -30.0    30.0  \n",
       "2     1.0   -30.0    30.0  \n",
       "3     1.0   -30.0    30.0  \n",
       "4     1.0   -30.0    30.0  "
      ]
     },
     "execution_count": 13,
     "metadata": {},
     "output_type": "execute_result"
    }
   ],
   "source": [
    "opf_data['branch'].head()"
   ]
  },
  {
   "cell_type": "markdown",
   "metadata": {},
   "source": [
    "---"
   ]
  },
  {
   "cell_type": "markdown",
   "metadata": {},
   "source": [
    "# Pre-process the datasets"
   ]
  },
  {
   "cell_type": "markdown",
   "metadata": {},
   "source": [
    "## Pre-process the datasets as DC-OPF problems [2]\n",
    "\n",
    "<img src=\"figures/DC_OPF.png\" style=\"float: left; width: 500px;\"/>"
   ]
  },
  {
   "cell_type": "code",
   "execution_count": 14,
   "metadata": {
    "ExecuteTime": {
     "end_time": "2020-04-27T04:41:07.490289Z",
     "start_time": "2020-04-27T04:41:07.485999Z"
    }
   },
   "outputs": [],
   "source": [
    "from dc_opf_preprocess import *"
   ]
  },
  {
   "cell_type": "markdown",
   "metadata": {},
   "source": [
    "### Testing for preprocess the given dataset as a DC-OPF"
   ]
  },
  {
   "cell_type": "code",
   "execution_count": 15,
   "metadata": {
    "ExecuteTime": {
     "end_time": "2020-04-27T04:41:28.859891Z",
     "start_time": "2020-04-27T04:41:28.846086Z"
    }
   },
   "outputs": [],
   "source": [
    "H = get_H(opf_data)\n",
    "X = get_X(opf_data)\n",
    "A = get_A(opf_data)\n",
    "A_r = get_A_r(opf_data)\n",
    "B_r = get_B_r(opf_data, A_r, X)\n",
    "PTDF = get_PTDF(opf_data, X, A_r, B_r)"
   ]
  },
  {
   "cell_type": "code",
   "execution_count": null,
   "metadata": {
    "ExecuteTime": {
     "end_time": "2020-04-25T21:43:48.529353Z",
     "start_time": "2020-04-25T21:43:48.517891Z"
    }
   },
   "outputs": [],
   "source": []
  },
  {
   "cell_type": "markdown",
   "metadata": {},
   "source": [
    "## Parse Constraints from the dataset\n",
    "\n",
    "### Test-cases for Learning [2]\n",
    "\n",
    "<img src=\"figures/test_cases_for_learning.png\" style=\"float: left; width: 550px;\"/>"
   ]
  },
  {
   "cell_type": "code",
   "execution_count": 16,
   "metadata": {
    "ExecuteTime": {
     "end_time": "2020-04-27T04:41:50.565265Z",
     "start_time": "2020-04-27T04:41:50.558819Z"
    }
   },
   "outputs": [],
   "source": [
    "gen_constraints = get_gen_constraints(opf_data)\n",
    "flow_constraints = get_flow_constraints(opf_data)\n",
    "# constraints = get_constraints(opf_data)"
   ]
  },
  {
   "cell_type": "code",
   "execution_count": 17,
   "metadata": {
    "ExecuteTime": {
     "end_time": "2020-04-27T04:42:12.581541Z",
     "start_time": "2020-04-27T04:42:12.575798Z"
    }
   },
   "outputs": [
    {
     "name": "stdout",
     "output_type": "stream",
     "text": [
      "{   0: (16.0, 20.0, 'gen'),\n",
      "    1: (16.0, 20.0, 'gen'),\n",
      "    2: (15.2, 76.0, 'gen'),\n",
      "    3: (15.2, 76.0, 'gen'),\n",
      "    4: (16.0, 20.0, 'gen'),\n",
      "    5: (16.0, 20.0, 'gen'),\n",
      "    6: (15.2, 76.0, 'gen'),\n",
      "    7: (15.2, 76.0, 'gen'),\n",
      "    8: (25.0, 100.0, 'gen'),\n",
      "    9: (25.0, 100.0, 'gen'),\n",
      "    10: (25.0, 100.0, 'gen'),\n",
      "    11: (69.0, 197.0, 'gen'),\n",
      "    12: (69.0, 197.0, 'gen'),\n",
      "    13: (69.0, 197.0, 'gen'),\n",
      "    14: (0.0, 0.0, 'gen'),\n",
      "    15: (2.4, 12.0, 'gen'),\n",
      "    16: (2.4, 12.0, 'gen'),\n",
      "    17: (2.4, 12.0, 'gen'),\n",
      "    18: (2.4, 12.0, 'gen'),\n",
      "    19: (2.4, 12.0, 'gen'),\n",
      "    20: (54.3, 155.0, 'gen'),\n",
      "    21: (54.3, 155.0, 'gen'),\n",
      "    22: (100.0, 400.0, 'gen'),\n",
      "    23: (100.0, 400.0, 'gen'),\n",
      "    24: (10.0, 50.0, 'gen'),\n",
      "    25: (10.0, 50.0, 'gen'),\n",
      "    26: (10.0, 50.0, 'gen'),\n",
      "    27: (10.0, 50.0, 'gen'),\n",
      "    28: (10.0, 50.0, 'gen'),\n",
      "    29: (10.0, 50.0, 'gen'),\n",
      "    30: (54.3, 155.0, 'gen'),\n",
      "    31: (54.3, 155.0, 'gen'),\n",
      "    32: (140.0, 350.0, 'gen')}\n"
     ]
    }
   ],
   "source": [
    "pp.pprint(gen_constraints)"
   ]
  },
  {
   "cell_type": "code",
   "execution_count": 18,
   "metadata": {
    "ExecuteTime": {
     "end_time": "2020-04-27T04:42:34.460229Z",
     "start_time": "2020-04-27T04:42:34.456280Z"
    }
   },
   "outputs": [
    {
     "name": "stdout",
     "output_type": "stream",
     "text": [
      "{   0: (-75.33795332349624, 75.33795332349624, 'flow'),\n",
      "    1: (-4.958321738620254, 4.958321738620254, 'flow'),\n",
      "    2: (-12.392870428362102, 12.392870428362102, 'flow'),\n",
      "    3: (-8.26517404259351, 8.26517404259351, 'flow'),\n",
      "    4: (-5.454153912482279, 5.454153912482279, 'flow'),\n",
      "    5: (-8.799979421820149, 8.799979421820149, 'flow'),\n",
      "    6: (-12.48149643857685, 12.48149643857685, 'flow'),\n",
      "    7: (-10.098337041432957, 10.098337041432957, 'flow'),\n",
      "    8: (-11.859541916156259, 11.859541916156259, 'flow'),\n",
      "    9: (-17.309050433001616, 17.309050433001616, 'flow'),\n",
      "    10: (-17.055334710042306, 17.055334710042306, 'flow'),\n",
      "    11: (-6.342807699555407, 6.342807699555407, 'flow'),\n",
      "    12: (-6.342807699555407, 6.342807699555407, 'flow'),\n",
      "    13: (-12.48149643857685, 12.48149643857685, 'flow'),\n",
      "    14: (-12.48149643857685, 12.48149643857685, 'flow'),\n",
      "    15: (-12.48149643857685, 12.48149643857685, 'flow'),\n",
      "    16: (-12.48149643857685, 12.48149643857685, 'flow'),\n",
      "    17: (-21.999948554550368, 21.999948554550368, 'flow'),\n",
      "    18: (-25.052572995133918, 25.052572995133918, 'flow'),\n",
      "    19: (-21.999948554550368, 21.999948554550368, 'flow'),\n",
      "    20: (-10.840554360213225, 10.840554360213225, 'flow'),\n",
      "    21: (-12.106330071636968, 12.106330071636968, 'flow'),\n",
      "    22: (-26.920245532046213, 26.920245532046213, 'flow'),\n",
      "    23: (-60.531650358184834, 60.531650358184834, 'flow'),\n",
      "    24: (-21.37137859584893, 21.37137859584893, 'flow'),\n",
      "    25: (-21.37137859584893, 21.37137859584893, 'flow'),\n",
      "    26: (-20.17721678606161, 20.17721678606161, 'flow'),\n",
      "    27: (-40.43233788403852, 40.43233788403852, 'flow'),\n",
      "    28: (-45.33322732452804, 45.33322732452804, 'flow'),\n",
      "    29: (-72.72205216643039, 72.72205216643039, 'flow'),\n",
      "    30: (-9.94489602275971, 9.94489602275971, 'flow'),\n",
      "    31: (-40.43233788403852, 40.43233788403852, 'flow'),\n",
      "    32: (-40.43233788403852, 40.43233788403852, 'flow'),\n",
      "    33: (-26.444382605974685, 26.444382605974685, 'flow'),\n",
      "    34: (-26.444382605974685, 26.444382605974685, 'flow'),\n",
      "    35: (-48.48136811095359, 48.48136811095359, 'flow'),\n",
      "    36: (-48.48136811095359, 48.48136811095359, 'flow'),\n",
      "    37: (-15.445391610569287, 15.445391610569287, 'flow')}\n"
     ]
    }
   ],
   "source": [
    "pp.pprint(flow_constraints)"
   ]
  },
  {
   "cell_type": "markdown",
   "metadata": {},
   "source": [
    "## Pre-processing for Active Sets"
   ]
  },
  {
   "cell_type": "markdown",
   "metadata": {},
   "source": [
    "### OPF solver"
   ]
  },
  {
   "cell_type": "code",
   "execution_count": 19,
   "metadata": {
    "ExecuteTime": {
     "end_time": "2020-04-27T04:42:56.999928Z",
     "start_time": "2020-04-27T04:42:56.841934Z"
    }
   },
   "outputs": [],
   "source": [
    "from opf_solver import *"
   ]
  },
  {
   "cell_type": "code",
   "execution_count": 22,
   "metadata": {
    "ExecuteTime": {
     "end_time": "2020-04-27T04:44:08.919749Z",
     "start_time": "2020-04-27T04:44:08.916012Z"
    }
   },
   "outputs": [],
   "source": [
    "w = create_w(opf_data=opf_data, mu=0, std_scaler=0.03)"
   ]
  },
  {
   "cell_type": "code",
   "execution_count": 23,
   "metadata": {
    "ExecuteTime": {
     "end_time": "2020-04-27T04:44:30.847833Z",
     "start_time": "2020-04-27T04:44:30.739748Z"
    }
   },
   "outputs": [
    {
     "name": "stdout",
     "output_type": "stream",
     "text": [
      "Optimal value: 60950.89878701072\n",
      "Variable p: value [ 1.59999011e+01  1.59999011e+01  7.59998980e+01  7.59998980e+01\n",
      "  1.59999011e+01  1.59999011e+01  7.59998980e+01  7.59998980e+01\n",
      "  5.70343284e+01  5.70343284e+01  5.70343284e+01  7.59617851e+01\n",
      "  7.59617851e+01  7.59617851e+01 -4.59801430e-05  2.39992020e+00\n",
      "  2.39992020e+00  2.39992020e+00  2.39992020e+00  2.39992020e+00\n",
      "  1.54999899e+02  1.54999899e+02  3.99999901e+02  3.99999901e+02\n",
      "  4.99999013e+01  4.99999013e+01  4.99999013e+01  4.99999013e+01\n",
      "  4.99999013e+01  4.99999013e+01  1.54999899e+02  1.54999899e+02\n",
      "  3.49999900e+02]\n"
     ]
    }
   ],
   "source": [
    "active_constraints = DC_OPF_solver(opf_data=opf_data,\n",
    "                                   gen_constraints=gen_constraints,\n",
    "                                   flow_constraints=None,\n",
    "                                   uncertainty_w=w,\n",
    "                                   verbose=True,\n",
    "                                   dual=False)"
   ]
  },
  {
   "cell_type": "code",
   "execution_count": 24,
   "metadata": {
    "ExecuteTime": {
     "end_time": "2020-04-27T04:44:52.620639Z",
     "start_time": "2020-04-27T04:44:52.617484Z"
    }
   },
   "outputs": [
    {
     "name": "stdout",
     "output_type": "stream",
     "text": [
      "array([ -1.82924013,  -0.08252686,  12.99024694,   0.61085594,\n",
      "         0.05001485,   5.88072907,  -0.76892177,  -1.70391773,\n",
      "       -13.09698519,   6.40674203,   0.        ,   0.        ,\n",
      "        -7.97973722,  -1.20373066,  -1.38353666,   0.89261996,\n",
      "         0.        ,  -8.56517789,   6.54700753,   4.24975861,\n",
      "         0.        ,   0.        ,   0.        ,   0.        ])\n"
     ]
    }
   ],
   "source": [
    "pp.pprint(w)"
   ]
  },
  {
   "cell_type": "code",
   "execution_count": 25,
   "metadata": {
    "ExecuteTime": {
     "end_time": "2020-04-27T04:45:15.228328Z",
     "start_time": "2020-04-27T04:45:15.224766Z"
    }
   },
   "outputs": [
    {
     "name": "stdout",
     "output_type": "stream",
     "text": [
      "{   'flow': [],\n",
      "    'flow_num': 0,\n",
      "    'gen': [0, 1, 4, 5, 14, 15, 16, 17, 18, 19],\n",
      "    'gen_num': 33,\n",
      "    'idx_vec': array([1., 1., 0., 0., 1., 1., 0., 0., 0., 0., 0., 0., 0., 0., 1., 1., 1.,\n",
      "       1., 1., 1., 0., 0., 0., 0., 0., 0., 0., 0., 0., 0., 0., 0., 0.])}\n"
     ]
    }
   ],
   "source": [
    "pp.pprint(active_constraints)"
   ]
  },
  {
   "cell_type": "code",
   "execution_count": null,
   "metadata": {},
   "outputs": [],
   "source": []
  },
  {
   "cell_type": "markdown",
   "metadata": {},
   "source": [
    "### DiscoverMass [3]\n",
    "<img src=\"figures/DiscoverMAss.png\" style=\"float: left; width: 850px;\"/>"
   ]
  },
  {
   "cell_type": "code",
   "execution_count": 7,
   "metadata": {
    "ExecuteTime": {
     "end_time": "2020-04-27T05:33:03.535466Z",
     "start_time": "2020-04-27T05:33:03.342775Z"
    }
   },
   "outputs": [],
   "source": [
    "from discover_mass import *"
   ]
  },
  {
   "cell_type": "code",
   "execution_count": 8,
   "metadata": {
    "ExecuteTime": {
     "end_time": "2020-04-27T05:33:49.389526Z",
     "start_time": "2020-04-27T05:33:49.385484Z"
    }
   },
   "outputs": [],
   "source": [
    "# set parameters\n",
    "alpha = 0.05\n",
    "epsilon = 0.04\n",
    "delta = 0.01\n",
    "gamma = 2\n",
    "\n",
    "mu = 0\n",
    "std_scaler = 0.03"
   ]
  },
  {
   "cell_type": "code",
   "execution_count": 9,
   "metadata": {
    "ExecuteTime": {
     "end_time": "2020-04-27T05:39:54.798957Z",
     "start_time": "2020-04-27T05:34:25.912995Z"
    },
    "scrolled": true
   },
   "outputs": [
    {
     "name": "stderr",
     "output_type": "stream",
     "text": [
      "100%|██████████| 13259/13259 [05:28<00:00, 40.32it/s]\n",
      "100%|██████████| 1/1 [00:00<00:00, 31.66it/s]"
     ]
    },
    {
     "name": "stdout",
     "output_type": "stream",
     "text": [
      "Rate discovery = 1.000055643027516\n",
      "Rate discovery = 0.0\n"
     ]
    },
    {
     "name": "stderr",
     "output_type": "stream",
     "text": [
      "\n"
     ]
    }
   ],
   "source": [
    "discovered_active_sets, W, M, R_discovery = discover_mass(alpha, epsilon, delta, gamma, mu, std_scaler, opf_data)"
   ]
  },
  {
   "cell_type": "code",
   "execution_count": 10,
   "metadata": {
    "ExecuteTime": {
     "end_time": "2020-04-27T05:40:22.157286Z",
     "start_time": "2020-04-27T05:40:21.825881Z"
    }
   },
   "outputs": [
    {
     "data": {
      "image/png": "[encoded data removed]",
      "text/plain": [
       "<Figure size 576x432 with 1 Axes>"
      ]
     },
     "metadata": {
      "needs_background": "light"
     },
     "output_type": "display_data"
    }
   ],
   "source": [
    "plot_active_set_dist(discovered_active_sets, 'testing.png')"
   ]
  },
  {
   "cell_type": "code",
   "execution_count": null,
   "metadata": {},
   "outputs": [],
   "source": []
  },
  {
   "cell_type": "markdown",
   "metadata": {},
   "source": [
    "---"
   ]
  },
  {
   "cell_type": "markdown",
   "metadata": {},
   "source": [
    "# References"
   ]
  },
  {
   "cell_type": "markdown",
   "metadata": {},
   "source": [
    "[1] The IEEE PES Task Force on Benchmarks for Validation of Emerging Power System Algorithms, “PGLib Optimal Power Flow Bench-marks,” Published online at https://github.com/power-grid-lib/pglib-opf, accessed: April 3, 2020.  \n",
    "[2] D. Deka and S. Misra. “Learning for DC-OPF: Classifying active sets using neural nets,” 2019 IEEE Milan PowerTech,2019.     \n",
    "[3] S. Misra, L. Roald, and Y. Ng, “Learning for convex optimization,” arXiv preprint arXiv:1802.09639, 2018."
   ]
  },
  {
   "cell_type": "code",
   "execution_count": null,
   "metadata": {},
   "outputs": [],
   "source": []
  }
 ],
 "metadata": {
  "kernelspec": {
   "display_name": "Python 3",
   "language": "python",
   "name": "python3"
  },
  "language_info": {
   "codemirror_mode": {
    "name": "ipython",
    "version": 3
   },
   "file_extension": ".py",
   "mimetype": "text/x-python",
   "name": "python",
   "nbconvert_exporter": "python",
   "pygments_lexer": "ipython3",
   "version": "3.7.7"
  },
  "toc": {
   "base_numbering": 1,
   "nav_menu": {},
   "number_sections": true,
   "sideBar": true,
   "skip_h1_title": false,
   "title_cell": "Table of Contents",
   "title_sidebar": "Contents",
   "toc_cell": false,
   "toc_position": {
    "height": "calc(100% - 180px)",
    "left": "10px",
    "top": "150px",
    "width": "424px"
   },
   "toc_section_display": true,
   "toc_window_display": false
  },
  "varInspector": {
   "cols": {
    "lenName": 16,
    "lenType": 16,
    "lenVar": 40
   },
   "kernels_config": {
    "python": {
     "delete_cmd_postfix": "",
     "delete_cmd_prefix": "del ",
     "library": "var_list.py",
     "varRefreshCmd": "print(var_dic_list())"
    },
    "r": {
     "delete_cmd_postfix": ") ",
     "delete_cmd_prefix": "rm(",
     "library": "var_list.r",
     "varRefreshCmd": "cat(var_dic_list()) "
    }
   },
   "position": {
    "height": "896px",
    "left": "1334px",
    "right": "20px",
    "top": "120px",
    "width": "396px"
   },
   "types_to_exclude": [
    "module",
    "function",
    "builtin_function_or_method",
    "instance",
    "_Feature"
   ],
   "window_display": false
  }
 },
 "nbformat": 4,
 "nbformat_minor": 2
}
