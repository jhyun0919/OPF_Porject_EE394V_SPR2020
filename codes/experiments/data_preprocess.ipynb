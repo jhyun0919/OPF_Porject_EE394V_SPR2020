{
 "cells": [
  {
   "cell_type": "markdown",
   "metadata": {},
   "source": [
    "# Check parsed dataset"
   ]
  },
  {
   "cell_type": "markdown",
   "metadata": {},
   "source": [
    "## Load the pickle file"
   ]
  },
  {
   "cell_type": "code",
   "execution_count": 1,
   "metadata": {
    "ExecuteTime": {
     "end_time": "2020-04-26T17:37:42.475426Z",
     "start_time": "2020-04-26T17:37:42.473173Z"
    }
   },
   "outputs": [],
   "source": [
    "import pickle"
   ]
  },
  {
   "cell_type": "code",
   "execution_count": 2,
   "metadata": {
    "ExecuteTime": {
     "end_time": "2020-04-26T17:37:43.344107Z",
     "start_time": "2020-04-26T17:37:43.049001Z"
    }
   },
   "outputs": [],
   "source": [
    "infile = open('../pglib-opf-master/opf_dataset.pickle','rb')\n",
    "opf_data_dict = pickle.load(infile)\n",
    "infile.close()"
   ]
  },
  {
   "cell_type": "markdown",
   "metadata": {},
   "source": [
    "## Check the OPF dataset [1]"
   ]
  },
  {
   "cell_type": "markdown",
   "metadata": {},
   "source": [
    "### Check OPF dataset names"
   ]
  },
  {
   "cell_type": "code",
   "execution_count": 127,
   "metadata": {
    "ExecuteTime": {
     "end_time": "2020-04-26T19:27:57.924027Z",
     "start_time": "2020-04-26T19:27:57.921176Z"
    }
   },
   "outputs": [
    {
     "data": {
      "text/plain": [
       "dict_keys(['pglib_opf_case2746wop_k.m', 'pglib_opf_case2746wp_k.m', 'pglib_opf_case13659_pegase.m', 'pglib_opf_case2000_tamu.m', 'pglib_opf_case6470_rte.m', 'pglib_opf_case6515_rte.m', 'pglib_opf_case3375wp_k.m', 'pglib_opf_case162_ieee_dtc.m', 'pglib_opf_case118_ieee.m', 'pglib_opf_case2737sop_k.m', 'pglib_opf_case500_tamu.m', 'pglib_opf_case89_pegase.m', 'pglib_opf_case2868_rte.m', 'pglib_opf_case3120sp_k.m', 'pglib_opf_case2736sp_k.m', 'pglib_opf_case9241_pegase.m', 'pglib_opf_case3012wp_k.m', 'pglib_opf_case200_tamu.m', 'pglib_opf_case240_pserc.m', 'pglib_opf_case4661_sdet.m', 'pglib_opf_case30_as.m', 'pglib_opf_case2848_rte.m', 'pglib_opf_case6468_rte.m', 'pglib_opf_case6495_rte.m', 'pglib_opf_case588_sdet.m', 'pglib_opf_case24_ieee_rts.m', 'pglib_opf_case57_ieee.m', 'pglib_opf_case2383wp_k.m', 'pglib_opf_case3_lmbd.m', 'pglib_opf_case10000_tamu.m', 'pglib_opf_case179_goc.m', 'pglib_opf_case14_ieee.m', 'pglib_opf_case1888_rte.m', 'pglib_opf_case2869_pegase.m', 'pglib_opf_case30_ieee.m', 'pglib_opf_case39_epri.m', 'pglib_opf_case30_fsr.m', 'pglib_opf_case2316_sdet.m', 'pglib_opf_case1354_pegase.m', 'pglib_opf_case300_ieee.m', 'pglib_opf_case73_ieee_rts.m', 'pglib_opf_case2853_sdet.m', 'pglib_opf_case5_pjm.m', 'pglib_opf_case1951_rte.m'])"
      ]
     },
     "execution_count": 127,
     "metadata": {},
     "output_type": "execute_result"
    }
   ],
   "source": [
    "opf_data_dict.keys()"
   ]
  },
  {
   "cell_type": "markdown",
   "metadata": {},
   "source": [
    "### Check OPF dataset in detail"
   ]
  },
  {
   "cell_type": "markdown",
   "metadata": {
    "ExecuteTime": {
     "end_time": "2020-04-06T08:57:56.503942Z",
     "start_time": "2020-04-06T08:57:56.500929Z"
    }
   },
   "source": [
    "The given datasets [1] are designed to evaluate a well established version of the the **AC Optimal Power Flow problem** as follows.   \n",
    "\n",
    "\n",
    "<img src=\"figures/MODEL.png\" style=\"float: left; width: 550px;\"/>"
   ]
  },
  {
   "cell_type": "code",
   "execution_count": 4,
   "metadata": {
    "ExecuteTime": {
     "end_time": "2020-04-26T17:38:01.006488Z",
     "start_time": "2020-04-26T17:38:01.004606Z"
    }
   },
   "outputs": [],
   "source": [
    "import pandas as pd\n",
    "import pprint"
   ]
  },
  {
   "cell_type": "code",
   "execution_count": 5,
   "metadata": {
    "ExecuteTime": {
     "end_time": "2020-04-26T17:38:09.428605Z",
     "start_time": "2020-04-26T17:38:09.426106Z"
    }
   },
   "outputs": [],
   "source": [
    "# select datasets for the experiments\n",
    "test_cases = [\n",
    "    'pglib_opf_case24_ieee_rts.m', \n",
    "    'pglib_opf_case30_ieee.m',\n",
    "    'pglib_opf_case39_epri.m',\n",
    "    'pglib_opf_case57_ieee.m',\n",
    "    'pglib_opf_case73_ieee_rts.m',\n",
    "    'pglib_opf_case118_ieee.m',\n",
    "    'pglib_opf_case162_ieee_dtc.m',\n",
    "    'pglib_opf_case300_ieee.m',\n",
    "    'pglib_opf_case1888_rte.m',\n",
    "]"
   ]
  },
  {
   "cell_type": "markdown",
   "metadata": {},
   "source": [
    "### Check the selected test case dataset in detail"
   ]
  },
  {
   "cell_type": "code",
   "execution_count": 6,
   "metadata": {
    "ExecuteTime": {
     "end_time": "2020-04-26T17:38:18.163291Z",
     "start_time": "2020-04-26T17:38:18.160945Z"
    }
   },
   "outputs": [],
   "source": [
    "test_idx = 0\n",
    "opf_data = opf_data_dict[test_cases[test_idx]]"
   ]
  },
  {
   "cell_type": "code",
   "execution_count": 7,
   "metadata": {
    "ExecuteTime": {
     "end_time": "2020-04-26T17:38:28.385409Z",
     "start_time": "2020-04-26T17:38:28.383518Z"
    },
    "scrolled": false
   },
   "outputs": [],
   "source": [
    "pp = pprint.PrettyPrinter(indent=4)\n",
    "# pp.pprint(opf_data)"
   ]
  },
  {
   "cell_type": "markdown",
   "metadata": {},
   "source": [
    "#### Check data shape"
   ]
  },
  {
   "cell_type": "code",
   "execution_count": 8,
   "metadata": {
    "ExecuteTime": {
     "end_time": "2020-04-26T17:38:38.048778Z",
     "start_time": "2020-04-26T17:38:38.045308Z"
    }
   },
   "outputs": [
    {
     "name": "stdout",
     "output_type": "stream",
     "text": [
      "Bus data shape: (24, 13)\n",
      "Generator data shape: (33, 10)\n",
      "Generation cost data shape: (33, 7)\n",
      "Branch data shape: (38, 13)\n"
     ]
    }
   ],
   "source": [
    "print('Bus data shape: {}'.format(opf_data['bus'].shape))\n",
    "print('Generator data shape: {}'.format(opf_data['gen'].shape))\n",
    "print('Generation cost data shape: {}'.format(opf_data['gencost'].shape))\n",
    "print('Branch data shape: {}'.format(opf_data['branch'].shape))"
   ]
  },
  {
   "cell_type": "markdown",
   "metadata": {},
   "source": [
    "#### Bus data"
   ]
  },
  {
   "cell_type": "code",
   "execution_count": 9,
   "metadata": {
    "ExecuteTime": {
     "end_time": "2020-04-26T17:38:47.865273Z",
     "start_time": "2020-04-26T17:38:47.847495Z"
    }
   },
   "outputs": [
    {
     "data": {
      "text/html": [
       "<div>\n",
       "<style scoped>\n",
       "    .dataframe tbody tr th:only-of-type {\n",
       "        vertical-align: middle;\n",
       "    }\n",
       "\n",
       "    .dataframe tbody tr th {\n",
       "        vertical-align: top;\n",
       "    }\n",
       "\n",
       "    .dataframe thead th {\n",
       "        text-align: right;\n",
       "    }\n",
       "</style>\n",
       "<table border=\"1\" class=\"dataframe\">\n",
       "  <thead>\n",
       "    <tr style=\"text-align: right;\">\n",
       "      <th></th>\n",
       "      <th>bus_i</th>\n",
       "      <th>type</th>\n",
       "      <th>Pd</th>\n",
       "      <th>Qd</th>\n",
       "      <th>Gs</th>\n",
       "      <th>Bs</th>\n",
       "      <th>area</th>\n",
       "      <th>Vm</th>\n",
       "      <th>Va</th>\n",
       "      <th>baseKV</th>\n",
       "      <th>zone</th>\n",
       "      <th>Vmax</th>\n",
       "      <th>Vmin</th>\n",
       "    </tr>\n",
       "  </thead>\n",
       "  <tbody>\n",
       "    <tr>\n",
       "      <th>0</th>\n",
       "      <td>1.0</td>\n",
       "      <td>2.0</td>\n",
       "      <td>108.0</td>\n",
       "      <td>22.0</td>\n",
       "      <td>0.0</td>\n",
       "      <td>0.0</td>\n",
       "      <td>1.0</td>\n",
       "      <td>1.0</td>\n",
       "      <td>0.0</td>\n",
       "      <td>138.0</td>\n",
       "      <td>1.0</td>\n",
       "      <td>1.05</td>\n",
       "      <td>0.95</td>\n",
       "    </tr>\n",
       "    <tr>\n",
       "      <th>1</th>\n",
       "      <td>2.0</td>\n",
       "      <td>2.0</td>\n",
       "      <td>97.0</td>\n",
       "      <td>20.0</td>\n",
       "      <td>0.0</td>\n",
       "      <td>0.0</td>\n",
       "      <td>1.0</td>\n",
       "      <td>1.0</td>\n",
       "      <td>0.0</td>\n",
       "      <td>138.0</td>\n",
       "      <td>1.0</td>\n",
       "      <td>1.05</td>\n",
       "      <td>0.95</td>\n",
       "    </tr>\n",
       "    <tr>\n",
       "      <th>2</th>\n",
       "      <td>3.0</td>\n",
       "      <td>1.0</td>\n",
       "      <td>180.0</td>\n",
       "      <td>37.0</td>\n",
       "      <td>0.0</td>\n",
       "      <td>0.0</td>\n",
       "      <td>1.0</td>\n",
       "      <td>1.0</td>\n",
       "      <td>0.0</td>\n",
       "      <td>138.0</td>\n",
       "      <td>1.0</td>\n",
       "      <td>1.05</td>\n",
       "      <td>0.95</td>\n",
       "    </tr>\n",
       "    <tr>\n",
       "      <th>3</th>\n",
       "      <td>4.0</td>\n",
       "      <td>1.0</td>\n",
       "      <td>74.0</td>\n",
       "      <td>15.0</td>\n",
       "      <td>0.0</td>\n",
       "      <td>0.0</td>\n",
       "      <td>1.0</td>\n",
       "      <td>1.0</td>\n",
       "      <td>0.0</td>\n",
       "      <td>138.0</td>\n",
       "      <td>1.0</td>\n",
       "      <td>1.05</td>\n",
       "      <td>0.95</td>\n",
       "    </tr>\n",
       "    <tr>\n",
       "      <th>4</th>\n",
       "      <td>5.0</td>\n",
       "      <td>1.0</td>\n",
       "      <td>71.0</td>\n",
       "      <td>14.0</td>\n",
       "      <td>0.0</td>\n",
       "      <td>0.0</td>\n",
       "      <td>1.0</td>\n",
       "      <td>1.0</td>\n",
       "      <td>0.0</td>\n",
       "      <td>138.0</td>\n",
       "      <td>1.0</td>\n",
       "      <td>1.05</td>\n",
       "      <td>0.95</td>\n",
       "    </tr>\n",
       "  </tbody>\n",
       "</table>\n",
       "</div>"
      ],
      "text/plain": [
       "   bus_i  type     Pd    Qd   Gs   Bs  area   Vm   Va  baseKV  zone  Vmax  \\\n",
       "0    1.0   2.0  108.0  22.0  0.0  0.0   1.0  1.0  0.0   138.0   1.0  1.05   \n",
       "1    2.0   2.0   97.0  20.0  0.0  0.0   1.0  1.0  0.0   138.0   1.0  1.05   \n",
       "2    3.0   1.0  180.0  37.0  0.0  0.0   1.0  1.0  0.0   138.0   1.0  1.05   \n",
       "3    4.0   1.0   74.0  15.0  0.0  0.0   1.0  1.0  0.0   138.0   1.0  1.05   \n",
       "4    5.0   1.0   71.0  14.0  0.0  0.0   1.0  1.0  0.0   138.0   1.0  1.05   \n",
       "\n",
       "   Vmin  \n",
       "0  0.95  \n",
       "1  0.95  \n",
       "2  0.95  \n",
       "3  0.95  \n",
       "4  0.95  "
      ]
     },
     "execution_count": 9,
     "metadata": {},
     "output_type": "execute_result"
    }
   ],
   "source": [
    "opf_data['bus'].head()"
   ]
  },
  {
   "cell_type": "markdown",
   "metadata": {},
   "source": [
    "#### Generator data"
   ]
  },
  {
   "cell_type": "code",
   "execution_count": 10,
   "metadata": {
    "ExecuteTime": {
     "end_time": "2020-04-26T17:38:57.277659Z",
     "start_time": "2020-04-26T17:38:57.266608Z"
    }
   },
   "outputs": [
    {
     "data": {
      "text/html": [
       "<div>\n",
       "<style scoped>\n",
       "    .dataframe tbody tr th:only-of-type {\n",
       "        vertical-align: middle;\n",
       "    }\n",
       "\n",
       "    .dataframe tbody tr th {\n",
       "        vertical-align: top;\n",
       "    }\n",
       "\n",
       "    .dataframe thead th {\n",
       "        text-align: right;\n",
       "    }\n",
       "</style>\n",
       "<table border=\"1\" class=\"dataframe\">\n",
       "  <thead>\n",
       "    <tr style=\"text-align: right;\">\n",
       "      <th></th>\n",
       "      <th>bus</th>\n",
       "      <th>Pg</th>\n",
       "      <th>Qg</th>\n",
       "      <th>Qmax</th>\n",
       "      <th>Qmin</th>\n",
       "      <th>Vg</th>\n",
       "      <th>mBase</th>\n",
       "      <th>status</th>\n",
       "      <th>Pmax</th>\n",
       "      <th>Pmin</th>\n",
       "    </tr>\n",
       "  </thead>\n",
       "  <tbody>\n",
       "    <tr>\n",
       "      <th>0</th>\n",
       "      <td>1.0</td>\n",
       "      <td>18.0</td>\n",
       "      <td>5.0</td>\n",
       "      <td>10.0</td>\n",
       "      <td>0.0</td>\n",
       "      <td>1.0</td>\n",
       "      <td>100.0</td>\n",
       "      <td>1.0</td>\n",
       "      <td>20.0</td>\n",
       "      <td>16.0</td>\n",
       "    </tr>\n",
       "    <tr>\n",
       "      <th>1</th>\n",
       "      <td>1.0</td>\n",
       "      <td>18.0</td>\n",
       "      <td>5.0</td>\n",
       "      <td>10.0</td>\n",
       "      <td>0.0</td>\n",
       "      <td>1.0</td>\n",
       "      <td>100.0</td>\n",
       "      <td>1.0</td>\n",
       "      <td>20.0</td>\n",
       "      <td>16.0</td>\n",
       "    </tr>\n",
       "    <tr>\n",
       "      <th>2</th>\n",
       "      <td>1.0</td>\n",
       "      <td>45.6</td>\n",
       "      <td>2.5</td>\n",
       "      <td>30.0</td>\n",
       "      <td>-25.0</td>\n",
       "      <td>1.0</td>\n",
       "      <td>100.0</td>\n",
       "      <td>1.0</td>\n",
       "      <td>76.0</td>\n",
       "      <td>15.2</td>\n",
       "    </tr>\n",
       "    <tr>\n",
       "      <th>3</th>\n",
       "      <td>1.0</td>\n",
       "      <td>45.6</td>\n",
       "      <td>2.5</td>\n",
       "      <td>30.0</td>\n",
       "      <td>-25.0</td>\n",
       "      <td>1.0</td>\n",
       "      <td>100.0</td>\n",
       "      <td>1.0</td>\n",
       "      <td>76.0</td>\n",
       "      <td>15.2</td>\n",
       "    </tr>\n",
       "    <tr>\n",
       "      <th>4</th>\n",
       "      <td>2.0</td>\n",
       "      <td>18.0</td>\n",
       "      <td>5.0</td>\n",
       "      <td>10.0</td>\n",
       "      <td>0.0</td>\n",
       "      <td>1.0</td>\n",
       "      <td>100.0</td>\n",
       "      <td>1.0</td>\n",
       "      <td>20.0</td>\n",
       "      <td>16.0</td>\n",
       "    </tr>\n",
       "  </tbody>\n",
       "</table>\n",
       "</div>"
      ],
      "text/plain": [
       "   bus    Pg   Qg  Qmax  Qmin   Vg  mBase  status  Pmax  Pmin\n",
       "0  1.0  18.0  5.0  10.0   0.0  1.0  100.0     1.0  20.0  16.0\n",
       "1  1.0  18.0  5.0  10.0   0.0  1.0  100.0     1.0  20.0  16.0\n",
       "2  1.0  45.6  2.5  30.0 -25.0  1.0  100.0     1.0  76.0  15.2\n",
       "3  1.0  45.6  2.5  30.0 -25.0  1.0  100.0     1.0  76.0  15.2\n",
       "4  2.0  18.0  5.0  10.0   0.0  1.0  100.0     1.0  20.0  16.0"
      ]
     },
     "execution_count": 10,
     "metadata": {},
     "output_type": "execute_result"
    }
   ],
   "source": [
    "opf_data['gen'].head()"
   ]
  },
  {
   "cell_type": "markdown",
   "metadata": {},
   "source": [
    "#### Generation cost data"
   ]
  },
  {
   "cell_type": "code",
   "execution_count": 11,
   "metadata": {
    "ExecuteTime": {
     "end_time": "2020-04-26T17:39:05.971197Z",
     "start_time": "2020-04-26T17:39:05.960320Z"
    }
   },
   "outputs": [
    {
     "data": {
      "text/html": [
       "<div>\n",
       "<style scoped>\n",
       "    .dataframe tbody tr th:only-of-type {\n",
       "        vertical-align: middle;\n",
       "    }\n",
       "\n",
       "    .dataframe tbody tr th {\n",
       "        vertical-align: top;\n",
       "    }\n",
       "\n",
       "    .dataframe thead th {\n",
       "        text-align: right;\n",
       "    }\n",
       "</style>\n",
       "<table border=\"1\" class=\"dataframe\">\n",
       "  <thead>\n",
       "    <tr style=\"text-align: right;\">\n",
       "      <th></th>\n",
       "      <th>2</th>\n",
       "      <th>startup</th>\n",
       "      <th>shutdown</th>\n",
       "      <th>n</th>\n",
       "      <th>c2</th>\n",
       "      <th>c1</th>\n",
       "      <th>c0</th>\n",
       "    </tr>\n",
       "  </thead>\n",
       "  <tbody>\n",
       "    <tr>\n",
       "      <th>0</th>\n",
       "      <td>2.0</td>\n",
       "      <td>1500.0</td>\n",
       "      <td>0.0</td>\n",
       "      <td>3.0</td>\n",
       "      <td>0.000000</td>\n",
       "      <td>130.0000</td>\n",
       "      <td>400.6849</td>\n",
       "    </tr>\n",
       "    <tr>\n",
       "      <th>1</th>\n",
       "      <td>2.0</td>\n",
       "      <td>1500.0</td>\n",
       "      <td>0.0</td>\n",
       "      <td>3.0</td>\n",
       "      <td>0.000000</td>\n",
       "      <td>130.0000</td>\n",
       "      <td>400.6849</td>\n",
       "    </tr>\n",
       "    <tr>\n",
       "      <th>2</th>\n",
       "      <td>2.0</td>\n",
       "      <td>1500.0</td>\n",
       "      <td>0.0</td>\n",
       "      <td>3.0</td>\n",
       "      <td>0.014142</td>\n",
       "      <td>16.0811</td>\n",
       "      <td>212.3076</td>\n",
       "    </tr>\n",
       "    <tr>\n",
       "      <th>3</th>\n",
       "      <td>2.0</td>\n",
       "      <td>1500.0</td>\n",
       "      <td>0.0</td>\n",
       "      <td>3.0</td>\n",
       "      <td>0.014142</td>\n",
       "      <td>16.0811</td>\n",
       "      <td>212.3076</td>\n",
       "    </tr>\n",
       "    <tr>\n",
       "      <th>4</th>\n",
       "      <td>2.0</td>\n",
       "      <td>1500.0</td>\n",
       "      <td>0.0</td>\n",
       "      <td>3.0</td>\n",
       "      <td>0.000000</td>\n",
       "      <td>130.0000</td>\n",
       "      <td>400.6849</td>\n",
       "    </tr>\n",
       "  </tbody>\n",
       "</table>\n",
       "</div>"
      ],
      "text/plain": [
       "     2  startup  shutdown    n        c2        c1        c0\n",
       "0  2.0   1500.0       0.0  3.0  0.000000  130.0000  400.6849\n",
       "1  2.0   1500.0       0.0  3.0  0.000000  130.0000  400.6849\n",
       "2  2.0   1500.0       0.0  3.0  0.014142   16.0811  212.3076\n",
       "3  2.0   1500.0       0.0  3.0  0.014142   16.0811  212.3076\n",
       "4  2.0   1500.0       0.0  3.0  0.000000  130.0000  400.6849"
      ]
     },
     "execution_count": 11,
     "metadata": {},
     "output_type": "execute_result"
    }
   ],
   "source": [
    "opf_data['gencost'].head()"
   ]
  },
  {
   "cell_type": "markdown",
   "metadata": {},
   "source": [
    "#### Branch data"
   ]
  },
  {
   "cell_type": "code",
   "execution_count": 12,
   "metadata": {
    "ExecuteTime": {
     "end_time": "2020-04-26T17:39:14.651609Z",
     "start_time": "2020-04-26T17:39:14.638615Z"
    }
   },
   "outputs": [
    {
     "data": {
      "text/html": [
       "<div>\n",
       "<style scoped>\n",
       "    .dataframe tbody tr th:only-of-type {\n",
       "        vertical-align: middle;\n",
       "    }\n",
       "\n",
       "    .dataframe tbody tr th {\n",
       "        vertical-align: top;\n",
       "    }\n",
       "\n",
       "    .dataframe thead th {\n",
       "        text-align: right;\n",
       "    }\n",
       "</style>\n",
       "<table border=\"1\" class=\"dataframe\">\n",
       "  <thead>\n",
       "    <tr style=\"text-align: right;\">\n",
       "      <th></th>\n",
       "      <th>fbus</th>\n",
       "      <th>tbus</th>\n",
       "      <th>r</th>\n",
       "      <th>x</th>\n",
       "      <th>b</th>\n",
       "      <th>rateA</th>\n",
       "      <th>rateB</th>\n",
       "      <th>rateC</th>\n",
       "      <th>ratio</th>\n",
       "      <th>angle</th>\n",
       "      <th>status</th>\n",
       "      <th>angmin</th>\n",
       "      <th>angmax</th>\n",
       "    </tr>\n",
       "  </thead>\n",
       "  <tbody>\n",
       "    <tr>\n",
       "      <th>0</th>\n",
       "      <td>1.0</td>\n",
       "      <td>2.0</td>\n",
       "      <td>0.0026</td>\n",
       "      <td>0.0139</td>\n",
       "      <td>0.4611</td>\n",
       "      <td>175.0</td>\n",
       "      <td>193.0</td>\n",
       "      <td>200.0</td>\n",
       "      <td>0.0</td>\n",
       "      <td>0.0</td>\n",
       "      <td>1.0</td>\n",
       "      <td>-30.0</td>\n",
       "      <td>30.0</td>\n",
       "    </tr>\n",
       "    <tr>\n",
       "      <th>1</th>\n",
       "      <td>1.0</td>\n",
       "      <td>3.0</td>\n",
       "      <td>0.0546</td>\n",
       "      <td>0.2112</td>\n",
       "      <td>0.0572</td>\n",
       "      <td>175.0</td>\n",
       "      <td>208.0</td>\n",
       "      <td>220.0</td>\n",
       "      <td>0.0</td>\n",
       "      <td>0.0</td>\n",
       "      <td>1.0</td>\n",
       "      <td>-30.0</td>\n",
       "      <td>30.0</td>\n",
       "    </tr>\n",
       "    <tr>\n",
       "      <th>2</th>\n",
       "      <td>1.0</td>\n",
       "      <td>5.0</td>\n",
       "      <td>0.0218</td>\n",
       "      <td>0.0845</td>\n",
       "      <td>0.0229</td>\n",
       "      <td>175.0</td>\n",
       "      <td>208.0</td>\n",
       "      <td>220.0</td>\n",
       "      <td>0.0</td>\n",
       "      <td>0.0</td>\n",
       "      <td>1.0</td>\n",
       "      <td>-30.0</td>\n",
       "      <td>30.0</td>\n",
       "    </tr>\n",
       "    <tr>\n",
       "      <th>3</th>\n",
       "      <td>2.0</td>\n",
       "      <td>4.0</td>\n",
       "      <td>0.0328</td>\n",
       "      <td>0.1267</td>\n",
       "      <td>0.0343</td>\n",
       "      <td>175.0</td>\n",
       "      <td>208.0</td>\n",
       "      <td>220.0</td>\n",
       "      <td>0.0</td>\n",
       "      <td>0.0</td>\n",
       "      <td>1.0</td>\n",
       "      <td>-30.0</td>\n",
       "      <td>30.0</td>\n",
       "    </tr>\n",
       "    <tr>\n",
       "      <th>4</th>\n",
       "      <td>2.0</td>\n",
       "      <td>6.0</td>\n",
       "      <td>0.0497</td>\n",
       "      <td>0.1920</td>\n",
       "      <td>0.0520</td>\n",
       "      <td>175.0</td>\n",
       "      <td>208.0</td>\n",
       "      <td>220.0</td>\n",
       "      <td>0.0</td>\n",
       "      <td>0.0</td>\n",
       "      <td>1.0</td>\n",
       "      <td>-30.0</td>\n",
       "      <td>30.0</td>\n",
       "    </tr>\n",
       "  </tbody>\n",
       "</table>\n",
       "</div>"
      ],
      "text/plain": [
       "   fbus  tbus       r       x       b  rateA  rateB  rateC  ratio  angle  \\\n",
       "0   1.0   2.0  0.0026  0.0139  0.4611  175.0  193.0  200.0    0.0    0.0   \n",
       "1   1.0   3.0  0.0546  0.2112  0.0572  175.0  208.0  220.0    0.0    0.0   \n",
       "2   1.0   5.0  0.0218  0.0845  0.0229  175.0  208.0  220.0    0.0    0.0   \n",
       "3   2.0   4.0  0.0328  0.1267  0.0343  175.0  208.0  220.0    0.0    0.0   \n",
       "4   2.0   6.0  0.0497  0.1920  0.0520  175.0  208.0  220.0    0.0    0.0   \n",
       "\n",
       "   status  angmin  angmax  \n",
       "0     1.0   -30.0    30.0  \n",
       "1     1.0   -30.0    30.0  \n",
       "2     1.0   -30.0    30.0  \n",
       "3     1.0   -30.0    30.0  \n",
       "4     1.0   -30.0    30.0  "
      ]
     },
     "execution_count": 12,
     "metadata": {},
     "output_type": "execute_result"
    }
   ],
   "source": [
    "opf_data['branch'].head()"
   ]
  },
  {
   "cell_type": "markdown",
   "metadata": {},
   "source": [
    "---"
   ]
  },
  {
   "cell_type": "markdown",
   "metadata": {},
   "source": [
    "# Pre-process the datasets"
   ]
  },
  {
   "cell_type": "markdown",
   "metadata": {},
   "source": [
    "## Pre-process the datasets as DC-OPF problems [2]\n",
    "\n",
    "<img src=\"figures/DC_OPF.png\" style=\"float: left; width: 500px;\"/>"
   ]
  },
  {
   "cell_type": "code",
   "execution_count": 13,
   "metadata": {
    "ExecuteTime": {
     "end_time": "2020-04-26T17:39:23.408365Z",
     "start_time": "2020-04-26T17:39:23.406216Z"
    }
   },
   "outputs": [],
   "source": [
    "import numpy as np\n",
    "import math"
   ]
  },
  {
   "cell_type": "code",
   "execution_count": 14,
   "metadata": {
    "ExecuteTime": {
     "end_time": "2020-04-26T17:39:33.515116Z",
     "start_time": "2020-04-26T17:39:33.507477Z"
    },
    "code_folding": [
     9
    ]
   },
   "outputs": [],
   "source": [
    "def create_w(opf_data, mu=0, std_scaler=0.03):\n",
    "    \"\"\"\n",
    "    create uncertainty realization; w vector.\n",
    "    - shape = bus_v x 1\n",
    "    \"\"\"\n",
    "    bus_v = opf_data['bus']['bus_i'].shape[0]\n",
    "    d = np.array(opf_data['bus']['Pd'])\n",
    "    w = []\n",
    "\n",
    "    for i in range(bus_v):\n",
    "        sigma_i = d[i] * std_scaler\n",
    "        w_i = np.squeeze(np.random.normal(mu, sigma_i, 1))\n",
    "        w.append(w_i)\n",
    "    w = np.array(w)\n",
    "\n",
    "    assert (bus_v, ) == w.shape\n",
    "    return w\n",
    "\n",
    "\n",
    "def get_d(opf_data):\n",
    "    \"\"\"\n",
    "    loads; d vector.\n",
    "    - shape = bus_v x 1\n",
    "    \"\"\"\n",
    "    bus_v = opf_data['bus']['bus_i'].shape[0]\n",
    "    d = np.array(opf_data['bus']['Pd'])\n",
    "    \n",
    "    assert (bus_v, ) == d.shape\n",
    "    return d\n",
    "\n",
    "\n",
    "def get_H(opf_data):\n",
    "    \"\"\"\n",
    "    mapping from generators to their respective buses; H matrix.\n",
    "    - shape = bus_v x gen_n \n",
    "    \"\"\"\n",
    "    bus_v = opf_data['bus']['bus_i'].shape[0]\n",
    "    gen_n = opf_data['gen']['bus'].shape[0]\n",
    "\n",
    "    H = np.zeros([bus_v, gen_n])\n",
    "    for col_idx in range(gen_n):\n",
    "        row_idx = int(opf_data['gen']['bus'][col_idx]) - 1\n",
    "        H[row_idx][col_idx] = 1\n",
    "\n",
    "    assert (bus_v, gen_n) == H.shape\n",
    "    return H"
   ]
  },
  {
   "cell_type": "code",
   "execution_count": 15,
   "metadata": {
    "ExecuteTime": {
     "end_time": "2020-04-26T17:39:33.529221Z",
     "start_time": "2020-04-26T17:39:33.517222Z"
    },
    "code_folding": []
   },
   "outputs": [],
   "source": [
    "def get_X(opf_data):\n",
    "    \"\"\"\n",
    "    diagonal matrix with reactance; X matrix.\n",
    "    - shape = line_m x line_m\n",
    "    \"\"\"\n",
    "    line_m = opf_data['branch'].shape[0]\n",
    "\n",
    "    X = np.zeros([line_m, line_m])\n",
    "    for i in range(line_m):\n",
    "        X[i][i] = opf_data['branch']['x'][i]\n",
    "\n",
    "    assert (line_m, line_m) == X.shape\n",
    "    return X\n",
    "\n",
    "\n",
    "def get_A(opf_data):\n",
    "    \"\"\"\n",
    "    incidence matrix; A matrix.\n",
    "    - shape = line_m x bus_v\n",
    "    \"\"\"\n",
    "    line_m = opf_data['branch'].shape[0]\n",
    "    bus_v = opf_data['bus']['bus_i'].shape[0]\n",
    "\n",
    "    A = np.zeros([line_m, bus_v])\n",
    "    for i in range(line_m):\n",
    "        from_bus_idx = int(opf_data['branch']['fbus'][i]) - 1\n",
    "        to_bus_idx = int(opf_data['branch']['tbus'][i]) - 1\n",
    "        A[i, from_bus_idx] = 1\n",
    "        A[i, to_bus_idx] = -1\n",
    "\n",
    "    assert (line_m, bus_v) == A.shape\n",
    "    return A\n",
    "\n",
    "\n",
    "def get_A_r(opf_data):\n",
    "    \"\"\"\n",
    "    reduced incidence matrix; A_r matrix.\n",
    "    - shape = line_m x (bus_v - 1)\n",
    "    \"\"\"\n",
    "    line_m = opf_data['branch'].shape[0]\n",
    "    bus_v = opf_data['bus']['bus_i'].shape[0]\n",
    "\n",
    "    # get A matrix\n",
    "    A = get_A(opf_data)\n",
    "    # reduce the slack bus element\n",
    "    A_r = A[:, 1:]\n",
    "\n",
    "    assert (line_m, bus_v - 1) == A_r.shape\n",
    "    return A_r\n",
    "\n",
    "\n",
    "def get_B_r(A_r, X):\n",
    "    \"\"\"\n",
    "    reactance matrix;B_r matrix.\n",
    "    - shape = (bus_v - 1) x (bus_v - 1)\n",
    "    \"\"\"\n",
    "    bus_v = opf_data['bus']['bus_i'].shape[0]\n",
    "    B_r = np.matmul(\n",
    "        np.matmul(np.transpose(A_r), np.linalg.inv(X)),\n",
    "        A_r)\n",
    "\n",
    "    assert (bus_v - 1, bus_v - 1) == B_r.shape\n",
    "    return B_r\n",
    "\n",
    "\n",
    "def get_PTDF(X, A_r, B_r):\n",
    "    \"\"\"\n",
    "    PTDF (Injection Shift Factor); M matrix.\n",
    "    - shape = line_m x bus_v\n",
    "    \"\"\"\n",
    "    line_m = opf_data['branch'].shape[0]\n",
    "    bus_v = opf_data['bus']['bus_i'].shape[0]\n",
    "\n",
    "    # create a zero col vector\n",
    "    zero_col = np.zeros([line_m, 1])\n",
    "    # build PTDF\n",
    "    PTDF = np.hstack(\n",
    "        (zero_col, np.matmul(np.matmul(np.linalg.inv(X), A_r),\n",
    "                             np.linalg.inv(B_r))))\n",
    "\n",
    "    assert (line_m, bus_v) == PTDF.shape\n",
    "    return PTDF"
   ]
  },
  {
   "cell_type": "code",
   "execution_count": 16,
   "metadata": {
    "ExecuteTime": {
     "end_time": "2020-04-26T17:39:51.704388Z",
     "start_time": "2020-04-26T17:39:51.700284Z"
    },
    "code_folding": [
     0
    ]
   },
   "outputs": [],
   "source": [
    "# def angle_assign(ang, idx, raw_angle):\n",
    "#     if ang[idx] == 0:\n",
    "#         ang[idx] = raw_angle\n",
    "#     else:\n",
    "#         if ang[idx] == raw_angle:\n",
    "#             pass\n",
    "#         else:\n",
    "#             print(\"angle value not matched\")\n",
    "#             exit()\n",
    "#     return ang\n",
    "\n",
    "# def get_f_range_(opf_data, X, A):\n",
    "#     \"\"\"\n",
    "#     line flow limitation range; [f_min vector, f_max vector]\n",
    "#     - shape = bus_v x (1 x 2)\n",
    "#     \"\"\"\n",
    "#     line_m = opf_data['branch'].shape[0]\n",
    "#     bus_v = opf_data['bus']['bus_i'].shape[0]\n",
    "\n",
    "#     # load angle data\n",
    "#     ang_max_ = np.array(opf_data['branch']['angmax'])\n",
    "#     ang_min_ = np.array(opf_data['branch']['angmin'])\n",
    "\n",
    "#     f_bus = np.array(opf_data['branch']['fbus'])\n",
    "#     t_bus = np.array(opf_data['branch']['tbus'])\n",
    "\n",
    "#     # assigning angel value according to bus number\n",
    "#     ang_max = np.zeros([bus_v, 1])\n",
    "#     ang_min = np.zeros([bus_v, 1])\n",
    "#     for i in range(line_m):\n",
    "#         #         ang_max[int(f_bus[i]-1)] = math.radians(ang_max_[i])\n",
    "#         #         ang_max = angle_assign(ang_max, int(f_bus[i]-1), math.radians(ang_max_[i]))\n",
    "#         #         ang_max[int(t_bus[i]-1)] = math.radians(ang_max_[i])\n",
    "#         #         ang_min[int(f_bus[i]-1)] = math.radians(ang_min_[i])\n",
    "#         #         ang_min[int(t_bus[i]-1)] = math.radians(ang_min_[i])\n",
    "#         ang_max = angle_assign(ang_max, int(f_bus[i] - 1),\n",
    "#                                math.radians(ang_max_[i]))\n",
    "#         ang_max = angle_assign(ang_max, int(t_bus[i] - 1),\n",
    "#                                math.radians(ang_max_[i]))\n",
    "#         ang_min = angle_assign(ang_min, int(f_bus[i] - 1),\n",
    "#                                math.radians(ang_min_[i]))\n",
    "#         ang_min = angle_assign(ang_min, int(t_bus[i] - 1),\n",
    "#                                math.radians(ang_min_[i]))\n",
    "\n",
    "#     # calculate f; f = X_inv * A * angle\n",
    "#     print(ang_max - ang_min)\n",
    "#     print(A)\n",
    "#     print(np.matmul(A, ang_max - ang_min))\n",
    "#     ang_mn_max = ang_max - ang_min\n",
    "#     ang_mn_min = ang_min - ang_max\n",
    "#     f_max = np.matmul(np.matmul(np.linalg.inv(X), A), ang_mn_max)\n",
    "#     f_min = np.matmul(np.matmul(np.linalg.inv(X), A), ang_mn_min)\n",
    "\n",
    "#     f_range = np.hstack((f_min, f_max))\n",
    "\n",
    "#     assert (line_m, 1 * 2) == f_range.shape\n",
    "#     return f_range"
   ]
  },
  {
   "cell_type": "markdown",
   "metadata": {},
   "source": [
    "### Testing for preprocess the given dataset as a DC-OPF"
   ]
  },
  {
   "cell_type": "code",
   "execution_count": 17,
   "metadata": {
    "ExecuteTime": {
     "end_time": "2020-04-26T17:40:01.810353Z",
     "start_time": "2020-04-26T17:40:01.792848Z"
    }
   },
   "outputs": [],
   "source": [
    "H = get_H(opf_data)\n",
    "X = get_X(opf_data)\n",
    "A = get_A(opf_data)\n",
    "A_r = get_A_r(opf_data)\n",
    "B_r = get_B_r(A_r, X)\n",
    "PTDF = get_PTDF(X, A_r, B_r)"
   ]
  },
  {
   "cell_type": "code",
   "execution_count": null,
   "metadata": {
    "ExecuteTime": {
     "end_time": "2020-04-25T21:43:48.529353Z",
     "start_time": "2020-04-25T21:43:48.517891Z"
    }
   },
   "outputs": [],
   "source": []
  },
  {
   "cell_type": "markdown",
   "metadata": {},
   "source": [
    "## Parse Constraints from the dataset\n",
    "\n",
    "### Test-cases for Learning [2]\n",
    "\n",
    "<img src=\"figures/test_cases_for_learning.png\" style=\"float: left; width: 550px;\"/>"
   ]
  },
  {
   "cell_type": "code",
   "execution_count": 114,
   "metadata": {
    "ExecuteTime": {
     "end_time": "2020-04-26T19:19:38.775600Z",
     "start_time": "2020-04-26T19:19:38.767561Z"
    }
   },
   "outputs": [],
   "source": [
    "def get_gen_constraints(opf_data):\n",
    "    \"\"\"\n",
    "    get all generation constraints\n",
    "        - [p_min, p_max]\n",
    "    -> gen constraints num = gen_num\n",
    "    \"\"\"\n",
    "    gen_constraints = {}\n",
    "\n",
    "    gen_k = opf_data['gen'].shape[0]\n",
    "    for i in range(gen_k):\n",
    "        p_min = opf_data['gen']['Pmin'][i]\n",
    "        p_max = opf_data['gen']['Pmax'][i]\n",
    "        gen_constraints[i] = (p_min, p_max, 'gen')\n",
    "\n",
    "    return gen_constraints\n",
    "\n",
    "\n",
    "def get_flow_constraints(opf_data):\n",
    "    \"\"\"\n",
    "    get all flow constraints\n",
    "        - [f_min, f_max]\n",
    "    -> gen constraints num = gen_num + bus_num + \n",
    "    \"\"\"\n",
    "    flow_constraints = {}\n",
    "\n",
    "    line_m = opf_data['branch'].shape[0]\n",
    "    for i in range(line_m):\n",
    "        f_bus_idx = opf_data['branch']['fbus'][i]\n",
    "        t_bus_idx = opf_data['branch']['tbus'][i]\n",
    "        ang_max = opf_data['branch']['angmax'][i]\n",
    "        ang_min = opf_data['branch']['angmin'][i]\n",
    "        x = opf_data['branch']['x'][i]\n",
    "\n",
    "        f_min = math.radians(ang_min - ang_max) / x\n",
    "        f_max = math.radians(ang_max - ang_min) / x\n",
    "        flow_constraints[i] = (f_min, f_max, 'flow')\n",
    "\n",
    "    return flow_constraints\n",
    "\n",
    "\n",
    "# def get_constraints(opf_data):\n",
    "#     \"\"\"\n",
    "#     get all constraints of the given system\n",
    "#     \"\"\"\n",
    "#     gen_constraints = get_gen_constraints(opf_data)\n",
    "#     flow_constraints = get_flow_constraints(opf_data)\n",
    "\n",
    "#     constraints = {}\n",
    "#     for i in range(len(gen_constraints)):\n",
    "#         constraints[i] = gen_constraints[i]\n",
    "#     for i in range(len(flow_constraints)):\n",
    "#         constraints[i + len(gen_constraints)] = flow_constraints[i]\n",
    "\n",
    "#     return constraints"
   ]
  },
  {
   "cell_type": "code",
   "execution_count": 20,
   "metadata": {
    "ExecuteTime": {
     "end_time": "2020-04-26T17:40:29.871449Z",
     "start_time": "2020-04-26T17:40:29.860939Z"
    }
   },
   "outputs": [],
   "source": [
    "gen_constraints = get_gen_constraints(opf_data)\n",
    "flow_constraints = get_flow_constraints(opf_data)\n",
    "# constraints = get_constraints(opf_data)"
   ]
  },
  {
   "cell_type": "code",
   "execution_count": 21,
   "metadata": {
    "ExecuteTime": {
     "end_time": "2020-04-26T17:40:38.717960Z",
     "start_time": "2020-04-26T17:40:38.713304Z"
    }
   },
   "outputs": [
    {
     "name": "stdout",
     "output_type": "stream",
     "text": [
      "{   0: (16.0, 20.0, 'gen'),\n",
      "    1: (16.0, 20.0, 'gen'),\n",
      "    2: (15.2, 76.0, 'gen'),\n",
      "    3: (15.2, 76.0, 'gen'),\n",
      "    4: (16.0, 20.0, 'gen'),\n",
      "    5: (16.0, 20.0, 'gen'),\n",
      "    6: (15.2, 76.0, 'gen'),\n",
      "    7: (15.2, 76.0, 'gen'),\n",
      "    8: (25.0, 100.0, 'gen'),\n",
      "    9: (25.0, 100.0, 'gen'),\n",
      "    10: (25.0, 100.0, 'gen'),\n",
      "    11: (69.0, 197.0, 'gen'),\n",
      "    12: (69.0, 197.0, 'gen'),\n",
      "    13: (69.0, 197.0, 'gen'),\n",
      "    14: (0.0, 0.0, 'gen'),\n",
      "    15: (2.4, 12.0, 'gen'),\n",
      "    16: (2.4, 12.0, 'gen'),\n",
      "    17: (2.4, 12.0, 'gen'),\n",
      "    18: (2.4, 12.0, 'gen'),\n",
      "    19: (2.4, 12.0, 'gen'),\n",
      "    20: (54.3, 155.0, 'gen'),\n",
      "    21: (54.3, 155.0, 'gen'),\n",
      "    22: (100.0, 400.0, 'gen'),\n",
      "    23: (100.0, 400.0, 'gen'),\n",
      "    24: (10.0, 50.0, 'gen'),\n",
      "    25: (10.0, 50.0, 'gen'),\n",
      "    26: (10.0, 50.0, 'gen'),\n",
      "    27: (10.0, 50.0, 'gen'),\n",
      "    28: (10.0, 50.0, 'gen'),\n",
      "    29: (10.0, 50.0, 'gen'),\n",
      "    30: (54.3, 155.0, 'gen'),\n",
      "    31: (54.3, 155.0, 'gen'),\n",
      "    32: (140.0, 350.0, 'gen')}\n"
     ]
    }
   ],
   "source": [
    "pp.pprint(gen_constraints)"
   ]
  },
  {
   "cell_type": "code",
   "execution_count": 22,
   "metadata": {
    "ExecuteTime": {
     "end_time": "2020-04-26T17:40:47.654498Z",
     "start_time": "2020-04-26T17:40:47.650073Z"
    }
   },
   "outputs": [
    {
     "name": "stdout",
     "output_type": "stream",
     "text": [
      "{   0: (-75.33795332349624, 75.33795332349624, 'flow'),\n",
      "    1: (-4.958321738620254, 4.958321738620254, 'flow'),\n",
      "    2: (-12.392870428362102, 12.392870428362102, 'flow'),\n",
      "    3: (-8.26517404259351, 8.26517404259351, 'flow'),\n",
      "    4: (-5.454153912482279, 5.454153912482279, 'flow'),\n",
      "    5: (-8.799979421820149, 8.799979421820149, 'flow'),\n",
      "    6: (-12.48149643857685, 12.48149643857685, 'flow'),\n",
      "    7: (-10.098337041432957, 10.098337041432957, 'flow'),\n",
      "    8: (-11.859541916156259, 11.859541916156259, 'flow'),\n",
      "    9: (-17.309050433001616, 17.309050433001616, 'flow'),\n",
      "    10: (-17.055334710042306, 17.055334710042306, 'flow'),\n",
      "    11: (-6.342807699555407, 6.342807699555407, 'flow'),\n",
      "    12: (-6.342807699555407, 6.342807699555407, 'flow'),\n",
      "    13: (-12.48149643857685, 12.48149643857685, 'flow'),\n",
      "    14: (-12.48149643857685, 12.48149643857685, 'flow'),\n",
      "    15: (-12.48149643857685, 12.48149643857685, 'flow'),\n",
      "    16: (-12.48149643857685, 12.48149643857685, 'flow'),\n",
      "    17: (-21.999948554550368, 21.999948554550368, 'flow'),\n",
      "    18: (-25.052572995133918, 25.052572995133918, 'flow'),\n",
      "    19: (-21.999948554550368, 21.999948554550368, 'flow'),\n",
      "    20: (-10.840554360213225, 10.840554360213225, 'flow'),\n",
      "    21: (-12.106330071636968, 12.106330071636968, 'flow'),\n",
      "    22: (-26.920245532046213, 26.920245532046213, 'flow'),\n",
      "    23: (-60.531650358184834, 60.531650358184834, 'flow'),\n",
      "    24: (-21.37137859584893, 21.37137859584893, 'flow'),\n",
      "    25: (-21.37137859584893, 21.37137859584893, 'flow'),\n",
      "    26: (-20.17721678606161, 20.17721678606161, 'flow'),\n",
      "    27: (-40.43233788403852, 40.43233788403852, 'flow'),\n",
      "    28: (-45.33322732452804, 45.33322732452804, 'flow'),\n",
      "    29: (-72.72205216643039, 72.72205216643039, 'flow'),\n",
      "    30: (-9.94489602275971, 9.94489602275971, 'flow'),\n",
      "    31: (-40.43233788403852, 40.43233788403852, 'flow'),\n",
      "    32: (-40.43233788403852, 40.43233788403852, 'flow'),\n",
      "    33: (-26.444382605974685, 26.444382605974685, 'flow'),\n",
      "    34: (-26.444382605974685, 26.444382605974685, 'flow'),\n",
      "    35: (-48.48136811095359, 48.48136811095359, 'flow'),\n",
      "    36: (-48.48136811095359, 48.48136811095359, 'flow'),\n",
      "    37: (-15.445391610569287, 15.445391610569287, 'flow')}\n"
     ]
    }
   ],
   "source": [
    "pp.pprint(flow_constraints)"
   ]
  },
  {
   "cell_type": "markdown",
   "metadata": {},
   "source": [
    "## Pre-process for each test-case"
   ]
  },
  {
   "cell_type": "markdown",
   "metadata": {},
   "source": [
    "### OPF solver"
   ]
  },
  {
   "cell_type": "code",
   "execution_count": 23,
   "metadata": {
    "ExecuteTime": {
     "end_time": "2020-04-26T17:40:56.819176Z",
     "start_time": "2020-04-26T17:40:56.654325Z"
    }
   },
   "outputs": [],
   "source": [
    "import cvxpy as cp"
   ]
  },
  {
   "cell_type": "code",
   "execution_count": 153,
   "metadata": {
    "ExecuteTime": {
     "end_time": "2020-04-26T19:54:02.870512Z",
     "start_time": "2020-04-26T19:54:02.859357Z"
    }
   },
   "outputs": [],
   "source": [
    "def select_active_constraints(p, gen_constraints, f, flow_constraints=None):\n",
    "    \"\"\"\n",
    "    select active constraints\n",
    "    \"\"\"\n",
    "    active_constraints = {'gen': [], 'flow': []}\n",
    "    if gen_constraints is not None:\n",
    "        active_constraints['gen_num'] = len(gen_constraints)\n",
    "        for idx in gen_constraints.keys():\n",
    "            low_bound = p.value[idx] <= gen_constraints[idx][0]\n",
    "            upper_bound = gen_constraints[idx][1] <= p.value[idx]\n",
    "            if low_bound or upper_bound:\n",
    "                active_constraints['gen'].append(idx)\n",
    "    else:\n",
    "        active_constraints['gen_num'] = len(gen_constraints)\n",
    "    if flow_constraints is not None:\n",
    "        active_constraints['flow_num'] = len(flow_constraints)\n",
    "        for idx in flow_constraints.keys():\n",
    "            low_bound = f.value[idx] <= flow_constraints[idx][0]\n",
    "            upper_bound = flow_constraints[idx][1] <= f.value[idx]\n",
    "            if low_bound or upper_bound:\n",
    "                active_constraints['flow'].append(idx)\n",
    "    else:\n",
    "        active_constraints['flow_num'] = 0\n",
    "\n",
    "    if gen_constraints is not None:\n",
    "        gen_constraint_vec = np.zeros(active_constraints['gen_num'])\n",
    "        for i in range(active_constraints['gen_num']):\n",
    "            if i in active_constraints['gen']:\n",
    "                gen_constraint_vec[i] = 1\n",
    "    if flow_constraints is not None:\n",
    "        flow_constraint_vec = np.zeros(active_constraints['flow_num'])\n",
    "        for i in range(active_constraints['flow_num']):\n",
    "            if i in active_constraints['flow']:\n",
    "                flow_constraint_vec[i] = 1\n",
    "    if gen_constraints is not None:\n",
    "        active_constraints['idx_vec'] = gen_constraint_vec\n",
    "    if flow_constraints is not None:\n",
    "        active_constraints['idx_vec'] = np.hstack(\n",
    "            active_constraints['idx_vec'], flow_constraint_vec)\n",
    "\n",
    "    return active_constraints"
   ]
  },
  {
   "cell_type": "code",
   "execution_count": 154,
   "metadata": {
    "ExecuteTime": {
     "end_time": "2020-04-26T19:54:11.612750Z",
     "start_time": "2020-04-26T19:54:11.600567Z"
    }
   },
   "outputs": [],
   "source": [
    "def DC_OPF_solver(opf_data,\n",
    "                  gen_constraints,\n",
    "                  flow_constraints=None,\n",
    "                  uncertainty=False,\n",
    "                  verbose=False,\n",
    "                  dual=False):\n",
    "    # get demand and cost function data from the dataset\n",
    "    p_dim = opf_data['gen'].shape[0]\n",
    "    c2 = np.diag(opf_data['gencost']['c2'])\n",
    "    c1 = np.array(opf_data['gencost']['c1'])\n",
    "    c0 = np.array(opf_data['gencost']['c0'])\n",
    "\n",
    "    # set a variable and constants\n",
    "    w = create_w(opf_data)\n",
    "    d = get_d(opf_data)\n",
    "\n",
    "    H = get_H(opf_data)\n",
    "    X = get_X(opf_data)\n",
    "    A_r = get_A_r(opf_data)\n",
    "    B_r = get_B_r(A_r, X)\n",
    "    PTDF = get_PTDF(X, A_r, B_r)\n",
    "\n",
    "    p = cp.Variable(p_dim, name=\"p\")\n",
    "    if uncertainty:\n",
    "        f = PTDF @ (H @ p + w - d)\n",
    "        # @ operator usage: https://www.python.org/dev/peps/pep-0465/\n",
    "    else:\n",
    "        f = PTDF @ (H @ p - d)\n",
    "\n",
    "    # set constraints\n",
    "    ## power balance\n",
    "    if uncertainty:\n",
    "        constraints = [sum(p) == sum(d - w)]\n",
    "    else:\n",
    "        constraints = [sum(p) == sum(d)]\n",
    "    ## gen constraints\n",
    "    if gen_constraints is not None:\n",
    "        for idx in gen_constraints.keys():\n",
    "            p_min = gen_constraints[idx][0]\n",
    "            p_max = gen_constraints[idx][1]\n",
    "            constraints.append(p_min <= p[idx])\n",
    "            constraints.append(p[idx] <= p_max)\n",
    "    ## flow constraints\n",
    "    if flow_constraints is not None:\n",
    "        for idx in flow_constraints.keys():\n",
    "            f_min = flow_constraints[idx][0]\n",
    "            f_max = flow_constraints[idx][1]\n",
    "            constraints.append(f_min <= f[idx])\n",
    "            constraints.append(f[idx] <= f_max)\n",
    "\n",
    "    # set the objective function\n",
    "    Objective = cp.quad_form(p, c2) + c1.T @ p + sum(c0)\n",
    "\n",
    "    # solve the problem\n",
    "    problem = cp.Problem(cp.Minimize(Objective), constraints)\n",
    "    problem.solve()\n",
    "\n",
    "    # print result\n",
    "    if problem.status not in [\"infeasible\", \"unbounded\"]:\n",
    "        if verbose:\n",
    "            print(\"Optimal value: %s\" % problem.value)\n",
    "        # select active constriants\n",
    "        active_constraints = select_active_constraints(\n",
    "            p=p,\n",
    "            gen_constraints=gen_constraints,\n",
    "            f=f,\n",
    "            flow_constraints=flow_constraints)\n",
    "    else:\n",
    "        if verbose:\n",
    "            print(\"The problem is infeasible or unbounded\")\n",
    "        active_constraints = None\n",
    "    for variable in problem.variables():\n",
    "        if verbose:\n",
    "            print(\"Variable %s: value %s\" % (variable.name(), variable.value))\n",
    "    if dual:\n",
    "        if verbose:\n",
    "            print(\"A dual solution corresponding to the inequality constraints is\")\n",
    "            print(problem.constraints[0].dual_value)\n",
    "\n",
    "    return active_constraints, w"
   ]
  },
  {
   "cell_type": "code",
   "execution_count": 155,
   "metadata": {
    "ExecuteTime": {
     "end_time": "2020-04-26T19:54:20.120711Z",
     "start_time": "2020-04-26T19:54:19.997900Z"
    }
   },
   "outputs": [
    {
     "name": "stdout",
     "output_type": "stream",
     "text": [
      "Optimal value: 62283.50001808461\n",
      "Variable p: value [1.60003964e+01 1.60003964e+01 7.60004264e+01 7.60004264e+01\n",
      " 1.60003964e+01 1.60003964e+01 7.60004264e+01 7.60004264e+01\n",
      " 5.81039487e+01 5.81039487e+01 5.81039487e+01 8.38223040e+01\n",
      " 8.38223040e+01 8.38223040e+01 1.89014733e-04 2.40019629e+00\n",
      " 2.40019629e+00 2.40019629e+00 2.40019629e+00 2.40019629e+00\n",
      " 1.55000414e+02 1.55000414e+02 4.00000396e+02 4.00000396e+02\n",
      " 5.00003957e+01 5.00003957e+01 5.00003957e+01 5.00003957e+01\n",
      " 5.00003957e+01 5.00003957e+01 1.55000414e+02 1.55000414e+02\n",
      " 3.50000406e+02]\n"
     ]
    }
   ],
   "source": [
    "active_constraints, w = DC_OPF_solver(opf_data=opf_data,\n",
    "                                      gen_constraints=gen_constraints,\n",
    "                                      flow_constraints=None,\n",
    "                                      uncertainty=True,\n",
    "                                      verbose=True,\n",
    "                                      dual=False)"
   ]
  },
  {
   "cell_type": "code",
   "execution_count": 156,
   "metadata": {
    "ExecuteTime": {
     "end_time": "2020-04-26T19:54:28.884248Z",
     "start_time": "2020-04-26T19:54:28.881273Z"
    }
   },
   "outputs": [
    {
     "name": "stdout",
     "output_type": "stream",
     "text": [
      "array([ -0.03714642,  -0.26477911,  -1.74945861,   2.03828843,\n",
      "         0.22258383,  -0.67533943,  -2.1954226 ,  -4.85085145,\n",
      "         6.62182749,  -1.60615434,   0.        ,   0.        ,\n",
      "         3.54590667,  -5.5304322 , -11.92909225,   2.49039082,\n",
      "         0.        ,  -1.66785583,  -7.43375088,  -2.76716448,\n",
      "         0.        ,   0.        ,   0.        ,   0.        ])\n"
     ]
    }
   ],
   "source": [
    "pp.pprint(w)"
   ]
  },
  {
   "cell_type": "code",
   "execution_count": 157,
   "metadata": {
    "ExecuteTime": {
     "end_time": "2020-04-26T19:54:37.601971Z",
     "start_time": "2020-04-26T19:54:37.598489Z"
    }
   },
   "outputs": [
    {
     "name": "stdout",
     "output_type": "stream",
     "text": [
      "{   'flow': [],\n",
      "    'flow_num': 0,\n",
      "    'gen': [2, 3, 6, 7, 14, 20, 21, 22, 23, 24, 25, 26, 27, 28, 29, 30, 31, 32],\n",
      "    'gen_num': 33,\n",
      "    'idx_vec': array([0., 0., 1., 1., 0., 0., 1., 1., 0., 0., 0., 0., 0., 0., 1., 0., 0.,\n",
      "       0., 0., 0., 1., 1., 1., 1., 1., 1., 1., 1., 1., 1., 1., 1., 1.])}\n"
     ]
    }
   ],
   "source": [
    "pp.pprint(active_constraints)"
   ]
  },
  {
   "cell_type": "code",
   "execution_count": null,
   "metadata": {
    "ExecuteTime": {
     "end_time": "2020-04-26T19:52:57.266385Z",
     "start_time": "2020-04-26T19:52:57.263433Z"
    }
   },
   "outputs": [],
   "source": []
  },
  {
   "cell_type": "code",
   "execution_count": null,
   "metadata": {},
   "outputs": [],
   "source": []
  },
  {
   "cell_type": "code",
   "execution_count": null,
   "metadata": {},
   "outputs": [],
   "source": []
  },
  {
   "cell_type": "code",
   "execution_count": null,
   "metadata": {},
   "outputs": [],
   "source": []
  },
  {
   "cell_type": "code",
   "execution_count": null,
   "metadata": {},
   "outputs": [],
   "source": []
  },
  {
   "cell_type": "code",
   "execution_count": null,
   "metadata": {},
   "outputs": [],
   "source": []
  },
  {
   "cell_type": "code",
   "execution_count": null,
   "metadata": {},
   "outputs": [],
   "source": []
  },
  {
   "cell_type": "code",
   "execution_count": null,
   "metadata": {},
   "outputs": [],
   "source": []
  },
  {
   "cell_type": "code",
   "execution_count": null,
   "metadata": {},
   "outputs": [],
   "source": []
  },
  {
   "cell_type": "code",
   "execution_count": null,
   "metadata": {},
   "outputs": [],
   "source": []
  },
  {
   "cell_type": "code",
   "execution_count": null,
   "metadata": {},
   "outputs": [],
   "source": []
  },
  {
   "cell_type": "code",
   "execution_count": null,
   "metadata": {},
   "outputs": [],
   "source": []
  },
  {
   "cell_type": "code",
   "execution_count": null,
   "metadata": {},
   "outputs": [],
   "source": []
  },
  {
   "cell_type": "markdown",
   "metadata": {},
   "source": [
    "### Learning Active sets: DiscoverMass [3]\n",
    "<img src=\"figures/DiscoverMAss.png\" style=\"float: left; width: 850px;\"/>"
   ]
  },
  {
   "cell_type": "code",
   "execution_count": 125,
   "metadata": {
    "ExecuteTime": {
     "end_time": "2020-04-26T19:23:56.506681Z",
     "start_time": "2020-04-26T19:23:56.504325Z"
    }
   },
   "outputs": [],
   "source": [
    "import cmath as cm"
   ]
  },
  {
   "cell_type": "code",
   "execution_count": 126,
   "metadata": {
    "ExecuteTime": {
     "end_time": "2020-04-26T19:24:05.147716Z",
     "start_time": "2020-04-26T19:24:05.144926Z"
    }
   },
   "outputs": [],
   "source": [
    "# set parameters\n",
    "alpha = 0.05\n",
    "epsilon = 0.04\n",
    "delta = 0.01\n",
    "gamma = 2"
   ]
  },
  {
   "cell_type": "code",
   "execution_count": null,
   "metadata": {},
   "outputs": [],
   "source": [
    "def discover_mass(alpha, epsilon, delta, gamma):\n",
    "    # compute c amd M_low\n",
    "    c = 2 * gamma / pow(epsilon, 2)\n",
    "    M_low = 1 + pow(gamma / (delta * (gamma - 1)), 1 / (gamma - 1))\n",
    "    \n",
    "    # initialized\n",
    "    M = 1 # num of samples\n",
    "    discovered_active_sets = [] # empty set\n",
    "    \n",
    "    # iteration\n",
    "    while True:\n",
    "        # calculate window size Window_M\n",
    "        Window_M = c * max(cm.log(M_low), cm.log(M))\n",
    "        \n",
    "        # draw additional samples ???\n",
    "        additional_sample_size = 1 + W_M - \n",
    "        additional_samples = []\n",
    "        \n",
    "        # solve OP for each samples; obtain new active sets ???\n",
    "        new_active_sets = \n",
    "        \n",
    "        # add the newly observed active sets\n",
    "        set1 = set(discovered_active_sets)\n",
    "        set2 = set(new_active_sets)\n",
    "        discevered_active_sets = list(set1.union(set2))\n",
    "        \n",
    "        # compute Rate of discovery over the window size Window_M ???\n",
    "        Rate_discovery = (1/Window_M) * ()\n",
    "        # update M\n",
    "        M = M + 1\n",
    "        if R_discovery < alpha - epsilon:\n",
    "            break\n",
    "            \n",
    "    return discovered_active_sets, M, R_discovery"
   ]
  },
  {
   "cell_type": "code",
   "execution_count": null,
   "metadata": {},
   "outputs": [],
   "source": []
  },
  {
   "cell_type": "code",
   "execution_count": 18,
   "metadata": {
    "ExecuteTime": {
     "end_time": "2020-04-23T07:20:10.777457Z",
     "start_time": "2020-04-23T07:20:10.774450Z"
    }
   },
   "outputs": [],
   "source": [
    "set1 = set([1,2,3,4,5,6])\n",
    "set2 = set([3,4,5,6,8,9])"
   ]
  },
  {
   "cell_type": "code",
   "execution_count": 22,
   "metadata": {
    "ExecuteTime": {
     "end_time": "2020-04-23T07:20:42.716742Z",
     "start_time": "2020-04-23T07:20:42.712711Z"
    }
   },
   "outputs": [
    {
     "data": {
      "text/plain": [
       "[1, 2, 3, 4, 5, 6, 8, 9]"
      ]
     },
     "execution_count": 22,
     "metadata": {},
     "output_type": "execute_result"
    }
   ],
   "source": [
    "list(set1.union(set2))"
   ]
  },
  {
   "cell_type": "code",
   "execution_count": null,
   "metadata": {},
   "outputs": [],
   "source": []
  },
  {
   "cell_type": "code",
   "execution_count": null,
   "metadata": {},
   "outputs": [],
   "source": []
  },
  {
   "cell_type": "code",
   "execution_count": null,
   "metadata": {},
   "outputs": [],
   "source": []
  },
  {
   "cell_type": "code",
   "execution_count": null,
   "metadata": {
    "ExecuteTime": {
     "end_time": "2020-04-23T14:18:15.745552Z",
     "start_time": "2020-04-23T14:18:15.742148Z"
    }
   },
   "outputs": [],
   "source": []
  },
  {
   "cell_type": "code",
   "execution_count": null,
   "metadata": {},
   "outputs": [],
   "source": []
  },
  {
   "cell_type": "code",
   "execution_count": null,
   "metadata": {},
   "outputs": [],
   "source": []
  },
  {
   "cell_type": "code",
   "execution_count": null,
   "metadata": {},
   "outputs": [],
   "source": []
  },
  {
   "cell_type": "markdown",
   "metadata": {},
   "source": [
    "## Pre-process for Deep Learning\n",
    "\n",
    "### NNs Classifier [2]\n",
    "- **Input** = w_i \n",
    "    - Uncertainty realization vector, w.\n",
    "    - where i = 0,··· ,k−1 where k is the number of _injection nodes_.\n",
    "- **Output** = y_i \n",
    "    - k length binary vector that takes a value of 1 for the true active set and zero otherwise.\n",
    "    - where i = 0,··· ,k−1 where k is the number of _candidate active sets_.  \n",
    "    \n",
    "    \n",
    "<p>    \n",
    "<img src=\"figures/NNs_classifier.png\" style=\"float: left; width: 550px;\"/>  "
   ]
  },
  {
   "cell_type": "code",
   "execution_count": null,
   "metadata": {},
   "outputs": [],
   "source": []
  },
  {
   "cell_type": "code",
   "execution_count": null,
   "metadata": {},
   "outputs": [],
   "source": []
  },
  {
   "cell_type": "code",
   "execution_count": null,
   "metadata": {},
   "outputs": [],
   "source": []
  },
  {
   "cell_type": "code",
   "execution_count": null,
   "metadata": {},
   "outputs": [],
   "source": []
  },
  {
   "cell_type": "code",
   "execution_count": null,
   "metadata": {},
   "outputs": [],
   "source": []
  },
  {
   "cell_type": "code",
   "execution_count": null,
   "metadata": {},
   "outputs": [],
   "source": []
  },
  {
   "cell_type": "code",
   "execution_count": null,
   "metadata": {},
   "outputs": [],
   "source": []
  },
  {
   "cell_type": "markdown",
   "metadata": {},
   "source": [
    "---"
   ]
  },
  {
   "cell_type": "markdown",
   "metadata": {},
   "source": [
    "# References"
   ]
  },
  {
   "cell_type": "markdown",
   "metadata": {},
   "source": [
    "[1] The IEEE PES Task Force on Benchmarks for Validation of Emerging Power System Algorithms, “PGLib Optimal Power Flow Bench-marks,” Published online at https://github.com/power-grid-lib/pglib-opf, accessed: April 3, 2020.  \n",
    "[2] D. Deka and S. Misra. “Learning for DC-OPF: Classifying active sets using neural nets,” 2019 IEEE Milan PowerTech,2019.     \n",
    "[3] S. Misra, L. Roald, and Y. Ng, “Learning for convex optimization,” arXiv preprint arXiv:1802.09639, 2018."
   ]
  },
  {
   "cell_type": "code",
   "execution_count": null,
   "metadata": {},
   "outputs": [],
   "source": []
  }
 ],
 "metadata": {
  "kernelspec": {
   "display_name": "Python 3",
   "language": "python",
   "name": "python3"
  },
  "language_info": {
   "codemirror_mode": {
    "name": "ipython",
    "version": 3
   },
   "file_extension": ".py",
   "mimetype": "text/x-python",
   "name": "python",
   "nbconvert_exporter": "python",
   "pygments_lexer": "ipython3",
   "version": "3.7.7"
  },
  "toc": {
   "base_numbering": 1,
   "nav_menu": {},
   "number_sections": true,
   "sideBar": true,
   "skip_h1_title": false,
   "title_cell": "Table of Contents",
   "title_sidebar": "Contents",
   "toc_cell": false,
   "toc_position": {},
   "toc_section_display": true,
   "toc_window_display": false
  },
  "varInspector": {
   "cols": {
    "lenName": 16,
    "lenType": 16,
    "lenVar": 40
   },
   "kernels_config": {
    "python": {
     "delete_cmd_postfix": "",
     "delete_cmd_prefix": "del ",
     "library": "var_list.py",
     "varRefreshCmd": "print(var_dic_list())"
    },
    "r": {
     "delete_cmd_postfix": ") ",
     "delete_cmd_prefix": "rm(",
     "library": "var_list.r",
     "varRefreshCmd": "cat(var_dic_list()) "
    }
   },
   "types_to_exclude": [
    "module",
    "function",
    "builtin_function_or_method",
    "instance",
    "_Feature"
   ],
   "window_display": false
  }
 },
 "nbformat": 4,
 "nbformat_minor": 2
}
