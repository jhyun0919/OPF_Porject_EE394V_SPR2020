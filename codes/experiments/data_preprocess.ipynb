{
 "cells": [
  {
   "cell_type": "markdown",
   "metadata": {},
   "source": [
    "# Check parsed dataset"
   ]
  },
  {
   "cell_type": "markdown",
   "metadata": {},
   "source": [
    "## Load the pickle file"
   ]
  },
  {
   "cell_type": "code",
   "execution_count": 1,
   "metadata": {
    "ExecuteTime": {
     "end_time": "2020-04-04T20:47:04.066237Z",
     "start_time": "2020-04-04T20:47:04.063924Z"
    }
   },
   "outputs": [],
   "source": [
    "import pickle"
   ]
  },
  {
   "cell_type": "code",
   "execution_count": 2,
   "metadata": {
    "ExecuteTime": {
     "end_time": "2020-04-04T20:47:05.108189Z",
     "start_time": "2020-04-04T20:47:05.085923Z"
    }
   },
   "outputs": [],
   "source": [
    "infile = open('../pglib-opf-master/opf_data.pickle','rb')\n",
    "opf_data_dict = pickle.load(infile)\n",
    "infile.close()"
   ]
  },
  {
   "cell_type": "markdown",
   "metadata": {},
   "source": [
    "## Check OPF dataset names"
   ]
  },
  {
   "cell_type": "code",
   "execution_count": 3,
   "metadata": {
    "ExecuteTime": {
     "end_time": "2020-04-04T20:47:05.946876Z",
     "start_time": "2020-04-04T20:47:05.937460Z"
    }
   },
   "outputs": [
    {
     "data": {
      "text/plain": [
       "['pglib_opf_case2746wop_k.m',\n",
       " 'pglib_opf_case2746wp_k.m',\n",
       " 'pglib_opf_case13659_pegase.m',\n",
       " 'pglib_opf_case2000_tamu.m',\n",
       " 'pglib_opf_case6470_rte.m',\n",
       " 'pglib_opf_case6515_rte.m',\n",
       " 'pglib_opf_case3375wp_k.m',\n",
       " 'pglib_opf_case162_ieee_dtc.m',\n",
       " 'pglib_opf_case118_ieee.m',\n",
       " 'pglib_opf_case2737sop_k.m',\n",
       " 'pglib_opf_case500_tamu.m',\n",
       " 'pglib_opf_case89_pegase.m',\n",
       " 'pglib_opf_case2868_rte.m',\n",
       " 'pglib_opf_case3120sp_k.m',\n",
       " 'pglib_opf_case2736sp_k.m',\n",
       " 'pglib_opf_case9241_pegase.m',\n",
       " 'pglib_opf_case3012wp_k.m',\n",
       " 'pglib_opf_case200_tamu.m',\n",
       " 'pglib_opf_case240_pserc.m',\n",
       " 'pglib_opf_case4661_sdet.m',\n",
       " 'pglib_opf_case30_as.m',\n",
       " 'pglib_opf_case2848_rte.m',\n",
       " 'pglib_opf_case6468_rte.m',\n",
       " 'pglib_opf_case6495_rte.m',\n",
       " 'pglib_opf_case588_sdet.m',\n",
       " 'pglib_opf_case24_ieee_rts.m',\n",
       " 'pglib_opf_case57_ieee.m',\n",
       " 'pglib_opf_case2383wp_k.m',\n",
       " 'pglib_opf_case3_lmbd.m',\n",
       " 'pglib_opf_case10000_tamu.m',\n",
       " 'pglib_opf_case179_goc.m',\n",
       " 'pglib_opf_case14_ieee.m',\n",
       " 'pglib_opf_case1888_rte.m',\n",
       " 'pglib_opf_case2869_pegase.m',\n",
       " 'pglib_opf_case30_ieee.m',\n",
       " 'pglib_opf_case39_epri.m',\n",
       " 'pglib_opf_case30_fsr.m',\n",
       " 'pglib_opf_case2316_sdet.m',\n",
       " 'pglib_opf_case1354_pegase.m',\n",
       " 'pglib_opf_case300_ieee.m',\n",
       " 'pglib_opf_case73_ieee_rts.m',\n",
       " 'pglib_opf_case2853_sdet.m',\n",
       " 'pglib_opf_case5_pjm.m',\n",
       " 'pglib_opf_case1951_rte.m']"
      ]
     },
     "execution_count": 3,
     "metadata": {},
     "output_type": "execute_result"
    }
   ],
   "source": [
    "list(opf_data_dict.keys())"
   ]
  },
  {
   "cell_type": "markdown",
   "metadata": {},
   "source": [
    "## Check an example OPF dataset"
   ]
  },
  {
   "cell_type": "code",
   "execution_count": 6,
   "metadata": {
    "ExecuteTime": {
     "end_time": "2020-04-04T20:49:36.793750Z",
     "start_time": "2020-04-04T20:49:36.790291Z"
    }
   },
   "outputs": [
    {
     "data": {
      "text/plain": [
       "'pglib_opf_case2746wop_k.m'"
      ]
     },
     "execution_count": 6,
     "metadata": {},
     "output_type": "execute_result"
    }
   ],
   "source": [
    "list(opf_data_dict.keys())[0]"
   ]
  },
  {
   "cell_type": "code",
   "execution_count": 5,
   "metadata": {
    "ExecuteTime": {
     "end_time": "2020-04-04T20:48:26.546161Z",
     "start_time": "2020-04-04T20:48:26.539275Z"
    }
   },
   "outputs": [
    {
     "data": {
      "text/plain": [
       "{'version': '2',\n",
       " 'baseMVA': 100.0,\n",
       " 'bus': array([[1.000e+00, 1.000e+00, 0.000e+00, ..., 1.000e+00, 1.110e+00,\n",
       "         9.500e-01],\n",
       "        [2.000e+00, 1.000e+00, 0.000e+00, ..., 1.000e+00, 1.110e+00,\n",
       "         9.500e-01],\n",
       "        [3.000e+00, 1.000e+00, 0.000e+00, ..., 1.000e+00, 1.110e+00,\n",
       "         9.500e-01],\n",
       "        ...,\n",
       "        [2.744e+03, 1.000e+00, 5.100e+01, ..., 0.000e+00, 1.120e+00,\n",
       "         9.500e-01],\n",
       "        [2.745e+03, 1.000e+00, 2.500e+01, ..., 0.000e+00, 1.120e+00,\n",
       "         9.500e-01],\n",
       "        [2.746e+03, 1.000e+00, 6.800e+01, ..., 0.000e+00, 1.120e+00,\n",
       "         9.500e-01]]),\n",
       " 'gen': array([[ 1.700e+01,  1.700e+02,  5.500e+01, ...,  1.000e+00,  2.000e+02,\n",
       "          1.400e+02],\n",
       "        [ 1.800e+01,  1.700e+02,  5.500e+01, ...,  1.000e+00,  2.000e+02,\n",
       "          1.400e+02],\n",
       "        [ 2.600e+01,  0.000e+00,  0.000e+00, ...,  0.000e+00,  3.700e+02,\n",
       "          2.900e+02],\n",
       "        ...,\n",
       "        [ 2.738e+03,  0.000e+00,  0.000e+00, ...,  1.000e+00,  0.000e+00,\n",
       "          0.000e+00],\n",
       "        [ 2.739e+03,  2.000e+02,  0.000e+00, ...,  1.000e+00,  2.000e+02,\n",
       "          2.000e+02],\n",
       "        [ 2.740e+03,  8.000e+01, -4.530e+00, ...,  1.000e+00,  8.000e+01,\n",
       "          8.000e+01]]),\n",
       " 'gencost': array([[  2.  ,   0.  ,   0.  , ...,   0.  , 112.78,   0.  ],\n",
       "        [  2.  ,   0.  ,   0.  , ...,   0.  , 112.78,   0.  ],\n",
       "        [  2.  ,   0.  ,   0.  , ...,   0.  ,  76.1 ,   0.  ],\n",
       "        ...,\n",
       "        [  2.  ,   0.  ,   0.  , ...,   0.  ,   0.  ,   0.  ],\n",
       "        [  2.  ,   0.  ,   0.  , ...,   0.  ,   0.  ,   0.  ],\n",
       "        [  2.  ,   0.  ,   0.  , ...,   0.  ,   0.  ,   0.  ]]),\n",
       " 'branch': array([[ 7.000e+00,  8.000e+00,  6.400e-04, ...,  1.000e+00, -3.000e+01,\n",
       "          3.000e+01],\n",
       "        [ 2.600e+01,  2.800e+01,  3.600e-04, ...,  1.000e+00, -3.000e+01,\n",
       "          3.000e+01],\n",
       "        [ 2.700e+01,  2.900e+01,  3.600e-04, ...,  1.000e+00, -3.000e+01,\n",
       "          3.000e+01],\n",
       "        ...,\n",
       "        [ 2.722e+03,  2.721e+03,  8.300e-05, ...,  1.000e+00, -3.000e+01,\n",
       "          3.000e+01],\n",
       "        [ 2.727e+03,  2.726e+03,  8.300e-05, ...,  1.000e+00, -3.000e+01,\n",
       "          3.000e+01],\n",
       "        [ 2.730e+03,  2.729e+03,  8.300e-05, ...,  1.000e+00, -3.000e+01,\n",
       "          3.000e+01]])}"
      ]
     },
     "execution_count": 5,
     "metadata": {},
     "output_type": "execute_result"
    }
   ],
   "source": [
    "opf_data_dict[list(opf_data_dict.keys())[0]]"
   ]
  },
  {
   "cell_type": "markdown",
   "metadata": {},
   "source": [
    "# Pre-process dataset"
   ]
  },
  {
   "cell_type": "code",
   "execution_count": null,
   "metadata": {},
   "outputs": [],
   "source": []
  }
 ],
 "metadata": {
  "kernelspec": {
   "display_name": "Python 3",
   "language": "python",
   "name": "python3"
  },
  "language_info": {
   "codemirror_mode": {
    "name": "ipython",
    "version": 3
   },
   "file_extension": ".py",
   "mimetype": "text/x-python",
   "name": "python",
   "nbconvert_exporter": "python",
   "pygments_lexer": "ipython3",
   "version": "3.7.7"
  },
  "toc": {
   "base_numbering": 1,
   "nav_menu": {},
   "number_sections": true,
   "sideBar": true,
   "skip_h1_title": false,
   "title_cell": "Table of Contents",
   "title_sidebar": "Contents",
   "toc_cell": false,
   "toc_position": {},
   "toc_section_display": true,
   "toc_window_display": false
  },
  "varInspector": {
   "cols": {
    "lenName": 16,
    "lenType": 16,
    "lenVar": 40
   },
   "kernels_config": {
    "python": {
     "delete_cmd_postfix": "",
     "delete_cmd_prefix": "del ",
     "library": "var_list.py",
     "varRefreshCmd": "print(var_dic_list())"
    },
    "r": {
     "delete_cmd_postfix": ") ",
     "delete_cmd_prefix": "rm(",
     "library": "var_list.r",
     "varRefreshCmd": "cat(var_dic_list()) "
    }
   },
   "types_to_exclude": [
    "module",
    "function",
    "builtin_function_or_method",
    "instance",
    "_Feature"
   ],
   "window_display": false
  }
 },
 "nbformat": 4,
 "nbformat_minor": 2
}
