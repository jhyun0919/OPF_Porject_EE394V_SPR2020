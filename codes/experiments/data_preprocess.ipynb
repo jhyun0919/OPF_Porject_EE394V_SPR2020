{
 "cells": [
  {
   "cell_type": "markdown",
   "metadata": {},
   "source": [
    "# Check parsed dataset"
   ]
  },
  {
   "cell_type": "markdown",
   "metadata": {},
   "source": [
    "## Load the pickle file"
   ]
  },
  {
   "cell_type": "code",
   "execution_count": 1,
   "metadata": {
    "ExecuteTime": {
     "end_time": "2020-04-23T14:14:03.851623Z",
     "start_time": "2020-04-23T14:14:03.849858Z"
    }
   },
   "outputs": [],
   "source": [
    "import pickle"
   ]
  },
  {
   "cell_type": "code",
   "execution_count": 2,
   "metadata": {
    "ExecuteTime": {
     "end_time": "2020-04-23T14:14:04.219069Z",
     "start_time": "2020-04-23T14:14:03.876883Z"
    }
   },
   "outputs": [],
   "source": [
    "infile = open('../pglib-opf-master/opf_dataset.pickle','rb')\n",
    "opf_data_dict = pickle.load(infile)\n",
    "infile.close()"
   ]
  },
  {
   "cell_type": "markdown",
   "metadata": {},
   "source": [
    "## Check OPF dataset names"
   ]
  },
  {
   "cell_type": "code",
   "execution_count": 3,
   "metadata": {
    "ExecuteTime": {
     "end_time": "2020-04-23T14:14:08.884610Z",
     "start_time": "2020-04-23T14:14:08.877625Z"
    }
   },
   "outputs": [
    {
     "data": {
      "text/plain": [
       "dict_keys(['pglib_opf_case2746wop_k.m', 'pglib_opf_case2746wp_k.m', 'pglib_opf_case13659_pegase.m', 'pglib_opf_case2000_tamu.m', 'pglib_opf_case6470_rte.m', 'pglib_opf_case6515_rte.m', 'pglib_opf_case3375wp_k.m', 'pglib_opf_case162_ieee_dtc.m', 'pglib_opf_case118_ieee.m', 'pglib_opf_case2737sop_k.m', 'pglib_opf_case500_tamu.m', 'pglib_opf_case89_pegase.m', 'pglib_opf_case2868_rte.m', 'pglib_opf_case3120sp_k.m', 'pglib_opf_case2736sp_k.m', 'pglib_opf_case9241_pegase.m', 'pglib_opf_case3012wp_k.m', 'pglib_opf_case200_tamu.m', 'pglib_opf_case240_pserc.m', 'pglib_opf_case4661_sdet.m', 'pglib_opf_case30_as.m', 'pglib_opf_case2848_rte.m', 'pglib_opf_case6468_rte.m', 'pglib_opf_case6495_rte.m', 'pglib_opf_case588_sdet.m', 'pglib_opf_case24_ieee_rts.m', 'pglib_opf_case57_ieee.m', 'pglib_opf_case2383wp_k.m', 'pglib_opf_case3_lmbd.m', 'pglib_opf_case10000_tamu.m', 'pglib_opf_case179_goc.m', 'pglib_opf_case14_ieee.m', 'pglib_opf_case1888_rte.m', 'pglib_opf_case2869_pegase.m', 'pglib_opf_case30_ieee.m', 'pglib_opf_case39_epri.m', 'pglib_opf_case30_fsr.m', 'pglib_opf_case2316_sdet.m', 'pglib_opf_case1354_pegase.m', 'pglib_opf_case300_ieee.m', 'pglib_opf_case73_ieee_rts.m', 'pglib_opf_case2853_sdet.m', 'pglib_opf_case5_pjm.m', 'pglib_opf_case1951_rte.m'])"
      ]
     },
     "execution_count": 3,
     "metadata": {},
     "output_type": "execute_result"
    }
   ],
   "source": [
    "opf_data_dict.keys()"
   ]
  },
  {
   "cell_type": "markdown",
   "metadata": {},
   "source": [
    "## Check an example OPF dataset"
   ]
  },
  {
   "cell_type": "markdown",
   "metadata": {
    "ExecuteTime": {
     "end_time": "2020-04-06T08:57:56.503942Z",
     "start_time": "2020-04-06T08:57:56.500929Z"
    }
   },
   "source": [
    "The given datasets [1] are designed to evaluate a well established version of the the AC Optimal Power Flow problem as follows.   \n",
    "\n",
    "\n",
    "<img src=\"figures/MODEL.png\" style=\"float: left; width: 550px;\"/>"
   ]
  },
  {
   "cell_type": "code",
   "execution_count": 4,
   "metadata": {
    "ExecuteTime": {
     "end_time": "2020-04-23T14:14:13.492059Z",
     "start_time": "2020-04-23T14:14:13.489039Z"
    }
   },
   "outputs": [],
   "source": [
    "import pandas as pd\n",
    "import pprint"
   ]
  },
  {
   "cell_type": "code",
   "execution_count": 5,
   "metadata": {
    "ExecuteTime": {
     "end_time": "2020-04-23T14:14:18.169729Z",
     "start_time": "2020-04-23T14:14:18.167296Z"
    }
   },
   "outputs": [],
   "source": [
    "test_cases = [\n",
    "    'pglib_opf_case24_ieee_rts.m', \n",
    "    'pglib_opf_case30_ieee.m',\n",
    "    'pglib_opf_case39_epri.m',\n",
    "    'pglib_opf_case57_ieee.m',\n",
    "    'pglib_opf_case73_ieee_rts.m',\n",
    "    'pglib_opf_case118_ieee.m',\n",
    "    'pglib_opf_case162_ieee_dtc.m',\n",
    "    'pglib_opf_case300_ieee.m',\n",
    "    'pglib_opf_case1888_rte.m',\n",
    "]"
   ]
  },
  {
   "cell_type": "code",
   "execution_count": 6,
   "metadata": {
    "ExecuteTime": {
     "end_time": "2020-04-23T14:14:22.841242Z",
     "start_time": "2020-04-23T14:14:22.838199Z"
    }
   },
   "outputs": [],
   "source": [
    "test_idx = 0\n",
    "opf_data = opf_data_dict[test_cases[test_idx]]"
   ]
  },
  {
   "cell_type": "code",
   "execution_count": 7,
   "metadata": {
    "ExecuteTime": {
     "end_time": "2020-04-23T14:14:27.793409Z",
     "start_time": "2020-04-23T14:14:27.791442Z"
    },
    "scrolled": false
   },
   "outputs": [],
   "source": [
    "# pp = pprint.PrettyPrinter(indent=4)\n",
    "# pp.pprint(opf_data)"
   ]
  },
  {
   "cell_type": "markdown",
   "metadata": {},
   "source": [
    "### Check data shape"
   ]
  },
  {
   "cell_type": "code",
   "execution_count": 8,
   "metadata": {
    "ExecuteTime": {
     "end_time": "2020-04-23T14:14:32.515353Z",
     "start_time": "2020-04-23T14:14:32.511646Z"
    }
   },
   "outputs": [
    {
     "name": "stdout",
     "output_type": "stream",
     "text": [
      "bus shape: (24, 13)\n",
      "gen shape: (33, 10)\n",
      "gencost shape: (33, 7)\n",
      "branch shape: (38, 13)\n"
     ]
    }
   ],
   "source": [
    "print('bus shape: {}'.format(opf_data['bus'].shape))\n",
    "print('gen shape: {}'.format(opf_data['gen'].shape))\n",
    "print('gencost shape: {}'.format(opf_data['gencost'].shape))\n",
    "print('branch shape: {}'.format(opf_data['branch'].shape))"
   ]
  },
  {
   "cell_type": "markdown",
   "metadata": {},
   "source": [
    "### Check data details\n",
    "#### Bus data"
   ]
  },
  {
   "cell_type": "code",
   "execution_count": 9,
   "metadata": {
    "ExecuteTime": {
     "end_time": "2020-04-23T14:14:37.156524Z",
     "start_time": "2020-04-23T14:14:37.142513Z"
    }
   },
   "outputs": [
    {
     "data": {
      "text/html": [
       "<div>\n",
       "<style scoped>\n",
       "    .dataframe tbody tr th:only-of-type {\n",
       "        vertical-align: middle;\n",
       "    }\n",
       "\n",
       "    .dataframe tbody tr th {\n",
       "        vertical-align: top;\n",
       "    }\n",
       "\n",
       "    .dataframe thead th {\n",
       "        text-align: right;\n",
       "    }\n",
       "</style>\n",
       "<table border=\"1\" class=\"dataframe\">\n",
       "  <thead>\n",
       "    <tr style=\"text-align: right;\">\n",
       "      <th></th>\n",
       "      <th>bus_i</th>\n",
       "      <th>type</th>\n",
       "      <th>Pd</th>\n",
       "      <th>Qd</th>\n",
       "      <th>Gs</th>\n",
       "      <th>Bs</th>\n",
       "      <th>area</th>\n",
       "      <th>Vm</th>\n",
       "      <th>Va</th>\n",
       "      <th>baseKV</th>\n",
       "      <th>zone</th>\n",
       "      <th>Vmax</th>\n",
       "      <th>Vmin</th>\n",
       "    </tr>\n",
       "  </thead>\n",
       "  <tbody>\n",
       "    <tr>\n",
       "      <th>0</th>\n",
       "      <td>1.0</td>\n",
       "      <td>2.0</td>\n",
       "      <td>108.0</td>\n",
       "      <td>22.0</td>\n",
       "      <td>0.0</td>\n",
       "      <td>0.0</td>\n",
       "      <td>1.0</td>\n",
       "      <td>1.0</td>\n",
       "      <td>0.0</td>\n",
       "      <td>138.0</td>\n",
       "      <td>1.0</td>\n",
       "      <td>1.05</td>\n",
       "      <td>0.95</td>\n",
       "    </tr>\n",
       "    <tr>\n",
       "      <th>1</th>\n",
       "      <td>2.0</td>\n",
       "      <td>2.0</td>\n",
       "      <td>97.0</td>\n",
       "      <td>20.0</td>\n",
       "      <td>0.0</td>\n",
       "      <td>0.0</td>\n",
       "      <td>1.0</td>\n",
       "      <td>1.0</td>\n",
       "      <td>0.0</td>\n",
       "      <td>138.0</td>\n",
       "      <td>1.0</td>\n",
       "      <td>1.05</td>\n",
       "      <td>0.95</td>\n",
       "    </tr>\n",
       "    <tr>\n",
       "      <th>2</th>\n",
       "      <td>3.0</td>\n",
       "      <td>1.0</td>\n",
       "      <td>180.0</td>\n",
       "      <td>37.0</td>\n",
       "      <td>0.0</td>\n",
       "      <td>0.0</td>\n",
       "      <td>1.0</td>\n",
       "      <td>1.0</td>\n",
       "      <td>0.0</td>\n",
       "      <td>138.0</td>\n",
       "      <td>1.0</td>\n",
       "      <td>1.05</td>\n",
       "      <td>0.95</td>\n",
       "    </tr>\n",
       "    <tr>\n",
       "      <th>3</th>\n",
       "      <td>4.0</td>\n",
       "      <td>1.0</td>\n",
       "      <td>74.0</td>\n",
       "      <td>15.0</td>\n",
       "      <td>0.0</td>\n",
       "      <td>0.0</td>\n",
       "      <td>1.0</td>\n",
       "      <td>1.0</td>\n",
       "      <td>0.0</td>\n",
       "      <td>138.0</td>\n",
       "      <td>1.0</td>\n",
       "      <td>1.05</td>\n",
       "      <td>0.95</td>\n",
       "    </tr>\n",
       "    <tr>\n",
       "      <th>4</th>\n",
       "      <td>5.0</td>\n",
       "      <td>1.0</td>\n",
       "      <td>71.0</td>\n",
       "      <td>14.0</td>\n",
       "      <td>0.0</td>\n",
       "      <td>0.0</td>\n",
       "      <td>1.0</td>\n",
       "      <td>1.0</td>\n",
       "      <td>0.0</td>\n",
       "      <td>138.0</td>\n",
       "      <td>1.0</td>\n",
       "      <td>1.05</td>\n",
       "      <td>0.95</td>\n",
       "    </tr>\n",
       "  </tbody>\n",
       "</table>\n",
       "</div>"
      ],
      "text/plain": [
       "   bus_i  type     Pd    Qd   Gs   Bs  area   Vm   Va  baseKV  zone  Vmax  \\\n",
       "0    1.0   2.0  108.0  22.0  0.0  0.0   1.0  1.0  0.0   138.0   1.0  1.05   \n",
       "1    2.0   2.0   97.0  20.0  0.0  0.0   1.0  1.0  0.0   138.0   1.0  1.05   \n",
       "2    3.0   1.0  180.0  37.0  0.0  0.0   1.0  1.0  0.0   138.0   1.0  1.05   \n",
       "3    4.0   1.0   74.0  15.0  0.0  0.0   1.0  1.0  0.0   138.0   1.0  1.05   \n",
       "4    5.0   1.0   71.0  14.0  0.0  0.0   1.0  1.0  0.0   138.0   1.0  1.05   \n",
       "\n",
       "   Vmin  \n",
       "0  0.95  \n",
       "1  0.95  \n",
       "2  0.95  \n",
       "3  0.95  \n",
       "4  0.95  "
      ]
     },
     "execution_count": 9,
     "metadata": {},
     "output_type": "execute_result"
    }
   ],
   "source": [
    "opf_data['bus'].head()"
   ]
  },
  {
   "cell_type": "markdown",
   "metadata": {},
   "source": [
    "#### Generator data"
   ]
  },
  {
   "cell_type": "code",
   "execution_count": 10,
   "metadata": {
    "ExecuteTime": {
     "end_time": "2020-04-23T14:14:41.785705Z",
     "start_time": "2020-04-23T14:14:41.774787Z"
    }
   },
   "outputs": [
    {
     "data": {
      "text/html": [
       "<div>\n",
       "<style scoped>\n",
       "    .dataframe tbody tr th:only-of-type {\n",
       "        vertical-align: middle;\n",
       "    }\n",
       "\n",
       "    .dataframe tbody tr th {\n",
       "        vertical-align: top;\n",
       "    }\n",
       "\n",
       "    .dataframe thead th {\n",
       "        text-align: right;\n",
       "    }\n",
       "</style>\n",
       "<table border=\"1\" class=\"dataframe\">\n",
       "  <thead>\n",
       "    <tr style=\"text-align: right;\">\n",
       "      <th></th>\n",
       "      <th>bus</th>\n",
       "      <th>Pg</th>\n",
       "      <th>Qg</th>\n",
       "      <th>Qmax</th>\n",
       "      <th>Qmin</th>\n",
       "      <th>Vg</th>\n",
       "      <th>mBase</th>\n",
       "      <th>status</th>\n",
       "      <th>Pmax</th>\n",
       "      <th>Pmin</th>\n",
       "    </tr>\n",
       "  </thead>\n",
       "  <tbody>\n",
       "    <tr>\n",
       "      <th>0</th>\n",
       "      <td>1.0</td>\n",
       "      <td>18.0</td>\n",
       "      <td>5.0</td>\n",
       "      <td>10.0</td>\n",
       "      <td>0.0</td>\n",
       "      <td>1.0</td>\n",
       "      <td>100.0</td>\n",
       "      <td>1.0</td>\n",
       "      <td>20.0</td>\n",
       "      <td>16.0</td>\n",
       "    </tr>\n",
       "    <tr>\n",
       "      <th>1</th>\n",
       "      <td>1.0</td>\n",
       "      <td>18.0</td>\n",
       "      <td>5.0</td>\n",
       "      <td>10.0</td>\n",
       "      <td>0.0</td>\n",
       "      <td>1.0</td>\n",
       "      <td>100.0</td>\n",
       "      <td>1.0</td>\n",
       "      <td>20.0</td>\n",
       "      <td>16.0</td>\n",
       "    </tr>\n",
       "    <tr>\n",
       "      <th>2</th>\n",
       "      <td>1.0</td>\n",
       "      <td>45.6</td>\n",
       "      <td>2.5</td>\n",
       "      <td>30.0</td>\n",
       "      <td>-25.0</td>\n",
       "      <td>1.0</td>\n",
       "      <td>100.0</td>\n",
       "      <td>1.0</td>\n",
       "      <td>76.0</td>\n",
       "      <td>15.2</td>\n",
       "    </tr>\n",
       "    <tr>\n",
       "      <th>3</th>\n",
       "      <td>1.0</td>\n",
       "      <td>45.6</td>\n",
       "      <td>2.5</td>\n",
       "      <td>30.0</td>\n",
       "      <td>-25.0</td>\n",
       "      <td>1.0</td>\n",
       "      <td>100.0</td>\n",
       "      <td>1.0</td>\n",
       "      <td>76.0</td>\n",
       "      <td>15.2</td>\n",
       "    </tr>\n",
       "    <tr>\n",
       "      <th>4</th>\n",
       "      <td>2.0</td>\n",
       "      <td>18.0</td>\n",
       "      <td>5.0</td>\n",
       "      <td>10.0</td>\n",
       "      <td>0.0</td>\n",
       "      <td>1.0</td>\n",
       "      <td>100.0</td>\n",
       "      <td>1.0</td>\n",
       "      <td>20.0</td>\n",
       "      <td>16.0</td>\n",
       "    </tr>\n",
       "  </tbody>\n",
       "</table>\n",
       "</div>"
      ],
      "text/plain": [
       "   bus    Pg   Qg  Qmax  Qmin   Vg  mBase  status  Pmax  Pmin\n",
       "0  1.0  18.0  5.0  10.0   0.0  1.0  100.0     1.0  20.0  16.0\n",
       "1  1.0  18.0  5.0  10.0   0.0  1.0  100.0     1.0  20.0  16.0\n",
       "2  1.0  45.6  2.5  30.0 -25.0  1.0  100.0     1.0  76.0  15.2\n",
       "3  1.0  45.6  2.5  30.0 -25.0  1.0  100.0     1.0  76.0  15.2\n",
       "4  2.0  18.0  5.0  10.0   0.0  1.0  100.0     1.0  20.0  16.0"
      ]
     },
     "execution_count": 10,
     "metadata": {},
     "output_type": "execute_result"
    }
   ],
   "source": [
    "opf_data['gen'].head()"
   ]
  },
  {
   "cell_type": "markdown",
   "metadata": {},
   "source": [
    "#### Generation cost data"
   ]
  },
  {
   "cell_type": "code",
   "execution_count": 11,
   "metadata": {
    "ExecuteTime": {
     "end_time": "2020-04-23T14:14:46.455699Z",
     "start_time": "2020-04-23T14:14:46.447183Z"
    }
   },
   "outputs": [
    {
     "data": {
      "text/html": [
       "<div>\n",
       "<style scoped>\n",
       "    .dataframe tbody tr th:only-of-type {\n",
       "        vertical-align: middle;\n",
       "    }\n",
       "\n",
       "    .dataframe tbody tr th {\n",
       "        vertical-align: top;\n",
       "    }\n",
       "\n",
       "    .dataframe thead th {\n",
       "        text-align: right;\n",
       "    }\n",
       "</style>\n",
       "<table border=\"1\" class=\"dataframe\">\n",
       "  <thead>\n",
       "    <tr style=\"text-align: right;\">\n",
       "      <th></th>\n",
       "      <th>2</th>\n",
       "      <th>startup</th>\n",
       "      <th>shutdown</th>\n",
       "      <th>n</th>\n",
       "      <th>c2</th>\n",
       "      <th>c1</th>\n",
       "      <th>c0</th>\n",
       "    </tr>\n",
       "  </thead>\n",
       "  <tbody>\n",
       "    <tr>\n",
       "      <th>0</th>\n",
       "      <td>2.0</td>\n",
       "      <td>1500.0</td>\n",
       "      <td>0.0</td>\n",
       "      <td>3.0</td>\n",
       "      <td>0.000000</td>\n",
       "      <td>130.0000</td>\n",
       "      <td>400.6849</td>\n",
       "    </tr>\n",
       "    <tr>\n",
       "      <th>1</th>\n",
       "      <td>2.0</td>\n",
       "      <td>1500.0</td>\n",
       "      <td>0.0</td>\n",
       "      <td>3.0</td>\n",
       "      <td>0.000000</td>\n",
       "      <td>130.0000</td>\n",
       "      <td>400.6849</td>\n",
       "    </tr>\n",
       "    <tr>\n",
       "      <th>2</th>\n",
       "      <td>2.0</td>\n",
       "      <td>1500.0</td>\n",
       "      <td>0.0</td>\n",
       "      <td>3.0</td>\n",
       "      <td>0.014142</td>\n",
       "      <td>16.0811</td>\n",
       "      <td>212.3076</td>\n",
       "    </tr>\n",
       "    <tr>\n",
       "      <th>3</th>\n",
       "      <td>2.0</td>\n",
       "      <td>1500.0</td>\n",
       "      <td>0.0</td>\n",
       "      <td>3.0</td>\n",
       "      <td>0.014142</td>\n",
       "      <td>16.0811</td>\n",
       "      <td>212.3076</td>\n",
       "    </tr>\n",
       "    <tr>\n",
       "      <th>4</th>\n",
       "      <td>2.0</td>\n",
       "      <td>1500.0</td>\n",
       "      <td>0.0</td>\n",
       "      <td>3.0</td>\n",
       "      <td>0.000000</td>\n",
       "      <td>130.0000</td>\n",
       "      <td>400.6849</td>\n",
       "    </tr>\n",
       "  </tbody>\n",
       "</table>\n",
       "</div>"
      ],
      "text/plain": [
       "     2  startup  shutdown    n        c2        c1        c0\n",
       "0  2.0   1500.0       0.0  3.0  0.000000  130.0000  400.6849\n",
       "1  2.0   1500.0       0.0  3.0  0.000000  130.0000  400.6849\n",
       "2  2.0   1500.0       0.0  3.0  0.014142   16.0811  212.3076\n",
       "3  2.0   1500.0       0.0  3.0  0.014142   16.0811  212.3076\n",
       "4  2.0   1500.0       0.0  3.0  0.000000  130.0000  400.6849"
      ]
     },
     "execution_count": 11,
     "metadata": {},
     "output_type": "execute_result"
    }
   ],
   "source": [
    "opf_data['gencost'].head()"
   ]
  },
  {
   "cell_type": "markdown",
   "metadata": {},
   "source": [
    "#### Branch data"
   ]
  },
  {
   "cell_type": "code",
   "execution_count": 12,
   "metadata": {
    "ExecuteTime": {
     "end_time": "2020-04-23T14:14:51.248671Z",
     "start_time": "2020-04-23T14:14:51.236644Z"
    }
   },
   "outputs": [
    {
     "data": {
      "text/html": [
       "<div>\n",
       "<style scoped>\n",
       "    .dataframe tbody tr th:only-of-type {\n",
       "        vertical-align: middle;\n",
       "    }\n",
       "\n",
       "    .dataframe tbody tr th {\n",
       "        vertical-align: top;\n",
       "    }\n",
       "\n",
       "    .dataframe thead th {\n",
       "        text-align: right;\n",
       "    }\n",
       "</style>\n",
       "<table border=\"1\" class=\"dataframe\">\n",
       "  <thead>\n",
       "    <tr style=\"text-align: right;\">\n",
       "      <th></th>\n",
       "      <th>fbus</th>\n",
       "      <th>tbus</th>\n",
       "      <th>r</th>\n",
       "      <th>x</th>\n",
       "      <th>b</th>\n",
       "      <th>rateA</th>\n",
       "      <th>rateB</th>\n",
       "      <th>rateC</th>\n",
       "      <th>ratio</th>\n",
       "      <th>angle</th>\n",
       "      <th>status</th>\n",
       "      <th>angmin</th>\n",
       "      <th>angmax</th>\n",
       "    </tr>\n",
       "  </thead>\n",
       "  <tbody>\n",
       "    <tr>\n",
       "      <th>0</th>\n",
       "      <td>1.0</td>\n",
       "      <td>2.0</td>\n",
       "      <td>0.0026</td>\n",
       "      <td>0.0139</td>\n",
       "      <td>0.4611</td>\n",
       "      <td>175.0</td>\n",
       "      <td>193.0</td>\n",
       "      <td>200.0</td>\n",
       "      <td>0.0</td>\n",
       "      <td>0.0</td>\n",
       "      <td>1.0</td>\n",
       "      <td>-30.0</td>\n",
       "      <td>30.0</td>\n",
       "    </tr>\n",
       "    <tr>\n",
       "      <th>1</th>\n",
       "      <td>1.0</td>\n",
       "      <td>3.0</td>\n",
       "      <td>0.0546</td>\n",
       "      <td>0.2112</td>\n",
       "      <td>0.0572</td>\n",
       "      <td>175.0</td>\n",
       "      <td>208.0</td>\n",
       "      <td>220.0</td>\n",
       "      <td>0.0</td>\n",
       "      <td>0.0</td>\n",
       "      <td>1.0</td>\n",
       "      <td>-30.0</td>\n",
       "      <td>30.0</td>\n",
       "    </tr>\n",
       "    <tr>\n",
       "      <th>2</th>\n",
       "      <td>1.0</td>\n",
       "      <td>5.0</td>\n",
       "      <td>0.0218</td>\n",
       "      <td>0.0845</td>\n",
       "      <td>0.0229</td>\n",
       "      <td>175.0</td>\n",
       "      <td>208.0</td>\n",
       "      <td>220.0</td>\n",
       "      <td>0.0</td>\n",
       "      <td>0.0</td>\n",
       "      <td>1.0</td>\n",
       "      <td>-30.0</td>\n",
       "      <td>30.0</td>\n",
       "    </tr>\n",
       "    <tr>\n",
       "      <th>3</th>\n",
       "      <td>2.0</td>\n",
       "      <td>4.0</td>\n",
       "      <td>0.0328</td>\n",
       "      <td>0.1267</td>\n",
       "      <td>0.0343</td>\n",
       "      <td>175.0</td>\n",
       "      <td>208.0</td>\n",
       "      <td>220.0</td>\n",
       "      <td>0.0</td>\n",
       "      <td>0.0</td>\n",
       "      <td>1.0</td>\n",
       "      <td>-30.0</td>\n",
       "      <td>30.0</td>\n",
       "    </tr>\n",
       "    <tr>\n",
       "      <th>4</th>\n",
       "      <td>2.0</td>\n",
       "      <td>6.0</td>\n",
       "      <td>0.0497</td>\n",
       "      <td>0.1920</td>\n",
       "      <td>0.0520</td>\n",
       "      <td>175.0</td>\n",
       "      <td>208.0</td>\n",
       "      <td>220.0</td>\n",
       "      <td>0.0</td>\n",
       "      <td>0.0</td>\n",
       "      <td>1.0</td>\n",
       "      <td>-30.0</td>\n",
       "      <td>30.0</td>\n",
       "    </tr>\n",
       "  </tbody>\n",
       "</table>\n",
       "</div>"
      ],
      "text/plain": [
       "   fbus  tbus       r       x       b  rateA  rateB  rateC  ratio  angle  \\\n",
       "0   1.0   2.0  0.0026  0.0139  0.4611  175.0  193.0  200.0    0.0    0.0   \n",
       "1   1.0   3.0  0.0546  0.2112  0.0572  175.0  208.0  220.0    0.0    0.0   \n",
       "2   1.0   5.0  0.0218  0.0845  0.0229  175.0  208.0  220.0    0.0    0.0   \n",
       "3   2.0   4.0  0.0328  0.1267  0.0343  175.0  208.0  220.0    0.0    0.0   \n",
       "4   2.0   6.0  0.0497  0.1920  0.0520  175.0  208.0  220.0    0.0    0.0   \n",
       "\n",
       "   status  angmin  angmax  \n",
       "0     1.0   -30.0    30.0  \n",
       "1     1.0   -30.0    30.0  \n",
       "2     1.0   -30.0    30.0  \n",
       "3     1.0   -30.0    30.0  \n",
       "4     1.0   -30.0    30.0  "
      ]
     },
     "execution_count": 12,
     "metadata": {},
     "output_type": "execute_result"
    }
   ],
   "source": [
    "opf_data['branch'].head()"
   ]
  },
  {
   "cell_type": "markdown",
   "metadata": {},
   "source": [
    "---"
   ]
  },
  {
   "cell_type": "markdown",
   "metadata": {},
   "source": [
    "# Pre-process the datasets"
   ]
  },
  {
   "cell_type": "markdown",
   "metadata": {},
   "source": [
    "## Pre-process the datasets as DC-OPF problems [2]\n",
    "\n",
    "<img src=\"figures/DC_OPF.png\" style=\"float: left; width: 500px;\"/>"
   ]
  },
  {
   "cell_type": "code",
   "execution_count": 13,
   "metadata": {
    "ExecuteTime": {
     "end_time": "2020-04-23T14:14:56.022022Z",
     "start_time": "2020-04-23T14:14:56.019543Z"
    }
   },
   "outputs": [],
   "source": [
    "import numpy as np"
   ]
  },
  {
   "cell_type": "code",
   "execution_count": 14,
   "metadata": {
    "ExecuteTime": {
     "end_time": "2020-04-23T14:15:01.086354Z",
     "start_time": "2020-04-23T14:15:01.079079Z"
    }
   },
   "outputs": [],
   "source": [
    "def create_w(opf_data, mu=0, std_scaler=0.03):\n",
    "    \"\"\"\n",
    "    create uncertainty realization vector\n",
    "    - shape = bus_v x 1\n",
    "    \"\"\"\n",
    "    bus_v = opf_data['bus']['bus_i'].shape[0]\n",
    "    d = np.array(opf_data['bus']['Pd'])\n",
    "    w = []\n",
    "\n",
    "    for i in range(bus_v):\n",
    "        sigma_i = d[i] * std_scaler\n",
    "        w_i = np.squeeze(np.random.normal(mu, sigma_i, 1))\n",
    "        w.append(w_i)\n",
    "    w = np.array(w)\n",
    "\n",
    "    assert (bus_v, ) == w.shape\n",
    "    return w\n",
    "\n",
    "\n",
    "def get_d(opf_data):\n",
    "    \"\"\"\n",
    "    load vector\n",
    "    - shape = bus_v x 1\n",
    "    \"\"\"\n",
    "    bus_v = opf_data['bus']['bus_i'].shape[0]\n",
    "    d = np.array(opf_data['bus']['Pd'])\n",
    "    assert (bus_v, ) == d.shape\n",
    "    return d\n",
    "\n",
    "\n",
    "def get_H(opf_data):\n",
    "    \"\"\"\n",
    "    mapping from generators to their respective buses\n",
    "    - shape = bus_v x gen_n \n",
    "    \"\"\"\n",
    "    bus_v = opf_data['bus']['bus_i'].shape[0]\n",
    "    gen_n = opf_data['gen']['bus'].shape[0]\n",
    "\n",
    "    H = np.zeros([bus_v, gen_n])\n",
    "    for col_idx in range(gen_n):\n",
    "        row_idx = int(opf_data['gen']['bus'][col_idx]) - 1\n",
    "        H[row_idx][col_idx] = 1\n",
    "\n",
    "    assert (bus_v, gen_n) == H.shape\n",
    "    return H"
   ]
  },
  {
   "cell_type": "code",
   "execution_count": 15,
   "metadata": {
    "ExecuteTime": {
     "end_time": "2020-04-23T14:15:06.258857Z",
     "start_time": "2020-04-23T14:15:06.249440Z"
    }
   },
   "outputs": [],
   "source": [
    "def get_X(opf_data):\n",
    "    \"\"\"\n",
    "    diagonal matrix with reactance\n",
    "    - shape = line_m x line_m\n",
    "    \"\"\"\n",
    "    line_m = opf_data['branch'].shape[0]\n",
    "\n",
    "    X = np.zeros([line_m, line_m])\n",
    "    for i in range(line_m):\n",
    "        X[i][i] = opf_data['branch']['x'][i]\n",
    "\n",
    "    return X\n",
    "\n",
    "\n",
    "def get_A_r(opf_data):\n",
    "    \"\"\"\n",
    "    reduced incidence matrix\n",
    "    - shape = line_m x (bus_v - 1)\n",
    "    \"\"\"\n",
    "    line_m = opf_data['branch'].shape[0]\n",
    "    bus_v = opf_data['bus']['bus_i'].shape[0]\n",
    "\n",
    "    A = np.zeros([line_m, bus_v])\n",
    "    for i in range(line_m):\n",
    "        from_bus_idx = int(opf_data['branch']['fbus'][i]) - 1\n",
    "        to_bus_idx = int(opf_data['branch']['tbus'][i]) - 1\n",
    "        A[i, from_bus_idx] = 1\n",
    "        A[i, to_bus_idx] = -1\n",
    "\n",
    "    A_r = A[:, 1:]\n",
    "\n",
    "    return A_r\n",
    "\n",
    "\n",
    "def get_B_r(A_r, X):\n",
    "    \"\"\"\n",
    "    reactance matrix\n",
    "    - shape = (bus_v - 1) x (bus_v - 1)\n",
    "    \"\"\"\n",
    "    B_r = np.matmul(np.matmul(np.transpose(A_r), np.linalg.inv(X)), A_r)\n",
    "    return B_r\n",
    "\n",
    "\n",
    "def get_PTDF(X, A_r, B_r):\n",
    "    \"\"\"\n",
    "    matrix M = PTDF (Injection Shift Factor)\n",
    "    - shape = line_m x bus_v\n",
    "    \"\"\"\n",
    "    line_m = opf_data['branch'].shape[0]\n",
    "    bus_v = opf_data['bus']['bus_i'].shape[0]\n",
    "\n",
    "    zero_col = np.zeros([line_m, 1])\n",
    "    PTDF = np.hstack((zero_col, np.matmul(np.matmul(np.linalg.inv(X), A_r), np.linalg.inv(B_r))))\n",
    "\n",
    "    assert (line_m, bus_v) == PTDF.shape\n",
    "    return PTDF"
   ]
  },
  {
   "cell_type": "code",
   "execution_count": 16,
   "metadata": {
    "ExecuteTime": {
     "end_time": "2020-04-23T14:15:11.260315Z",
     "start_time": "2020-04-23T14:15:11.249089Z"
    }
   },
   "outputs": [],
   "source": [
    "w = create_w(opf_data)\n",
    "\n",
    "d = get_d(opf_data)\n",
    "H = get_H(opf_data)\n",
    "X = get_X(opf_data)\n",
    "A_r = get_A_r(opf_data)\n",
    "B_r = get_B_r(A_r, X)\n",
    "PTDF = get_PTDF(X, A_r, B_r)"
   ]
  },
  {
   "cell_type": "code",
   "execution_count": null,
   "metadata": {
    "ExecuteTime": {
     "end_time": "2020-04-23T14:34:49.562692Z",
     "start_time": "2020-04-23T14:34:49.559484Z"
    }
   },
   "outputs": [],
   "source": []
  },
  {
   "cell_type": "code",
   "execution_count": null,
   "metadata": {},
   "outputs": [],
   "source": []
  },
  {
   "cell_type": "code",
   "execution_count": null,
   "metadata": {},
   "outputs": [],
   "source": []
  },
  {
   "cell_type": "code",
   "execution_count": 17,
   "metadata": {
    "ExecuteTime": {
     "end_time": "2020-04-23T14:15:20.503290Z",
     "start_time": "2020-04-23T14:15:20.497258Z"
    }
   },
   "outputs": [],
   "source": [
    "def get_gen_constraints():\n",
    "    \"\"\"\n",
    "    get all generation constraints\n",
    "        - [Pmin, Pmax]\n",
    "        - [Vmin, Vmax] ???\n",
    "    -> gen constraints num = gen_num + bus_num\n",
    "    \"\"\"\n",
    "    gen_constraints = {}\n",
    "    \n",
    "    num_constraints = len(opf_data['gen']) \n",
    "    \n",
    "    \n",
    "    return gen_constraints\n",
    "\n",
    "\n",
    "def get_flow_constraints():\n",
    "    \"\"\"\n",
    "    get all flow constraints\n",
    "        - [Pmin, Pmax]\n",
    "        - [Vmin, Vmax]\n",
    "        - on/off\n",
    "        - [angmin, angmax]\n",
    "    -> gen constraints num = gen_num + bus_num + \n",
    "    \"\"\"\n",
    "    flow_constraints = {}\n",
    "    \n",
    "    return flow_constraints\n",
    "\n",
    "\n",
    "def get_constraints():\n",
    "    \"\"\"\n",
    "    get all constraints of the given system\n",
    "    \"\"\"\n",
    "    gen_constraints = get_gen_constraints()\n",
    "    flow_constraints = get_flow_constraints()\n",
    "    \n",
    "    constraints = {}\n",
    "    for i in range(len(gen_constraints)):\n",
    "        constraints[i] = gen_constraints[i]\n",
    "    for i in range(len(flow_constraints)):\n",
    "        constraints[i + len(gen_constraints)] = flow_constraints[i]\n",
    "    \n",
    "    return constraints\n",
    "\n",
    "\n",
    "def select_active_constraints():\n",
    "    \"\"\"\n",
    "    select active constraints from the constraints\n",
    "    \"\"\"\n",
    "    active_constraints = []\n",
    "    return active_constraints"
   ]
  },
  {
   "cell_type": "code",
   "execution_count": null,
   "metadata": {},
   "outputs": [],
   "source": []
  },
  {
   "cell_type": "code",
   "execution_count": null,
   "metadata": {
    "ExecuteTime": {
     "end_time": "2020-04-23T13:07:18.067998Z",
     "start_time": "2020-04-23T13:07:18.064370Z"
    }
   },
   "outputs": [],
   "source": []
  },
  {
   "cell_type": "code",
   "execution_count": null,
   "metadata": {},
   "outputs": [],
   "source": []
  },
  {
   "cell_type": "code",
   "execution_count": 159,
   "metadata": {
    "ExecuteTime": {
     "end_time": "2020-04-23T15:37:51.145110Z",
     "start_time": "2020-04-23T15:37:51.141845Z"
    }
   },
   "outputs": [],
   "source": [
    "c2 = list(opf_data['gencost']['c2'])\n",
    "c1 = list(opf_data['gencost']['c1'])\n",
    "c0 = list(opf_data['gencost']['c0'])"
   ]
  },
  {
   "cell_type": "code",
   "execution_count": 160,
   "metadata": {
    "ExecuteTime": {
     "end_time": "2020-04-23T15:37:56.542957Z",
     "start_time": "2020-04-23T15:37:56.540128Z"
    }
   },
   "outputs": [],
   "source": [
    "x2 = np.squeeze(np.matmul(np.matmul(np.transpose(p), np.diag(c2)), p))\n",
    "x1 = np.matmul(np.transpose(c1), p)\n",
    "x0 = sum(c0)"
   ]
  },
  {
   "cell_type": "code",
   "execution_count": 73,
   "metadata": {
    "ExecuteTime": {
     "end_time": "2020-04-23T15:09:33.814001Z",
     "start_time": "2020-04-23T15:09:33.811225Z"
    }
   },
   "outputs": [],
   "source": [
    "p = np.ones((p_dim, 1)) + np.ones((p_dim, 1))"
   ]
  },
  {
   "cell_type": "code",
   "execution_count": 162,
   "metadata": {
    "ExecuteTime": {
     "end_time": "2020-04-23T15:38:17.739419Z",
     "start_time": "2020-04-23T15:38:17.735487Z"
    }
   },
   "outputs": [
    {
     "data": {
      "text/plain": [
       "array([1.30000e+02, 1.30000e+02, 1.60811e+01, 1.60811e+01, 1.30000e+02,\n",
       "       1.30000e+02, 1.60811e+01, 1.60811e+01, 4.36615e+01, 4.36615e+01,\n",
       "       4.36615e+01, 4.85804e+01, 4.85804e+01, 4.85804e+01, 0.00000e+00,\n",
       "       5.65640e+01, 5.65640e+01, 5.65640e+01, 5.65640e+01, 5.65640e+01,\n",
       "       1.23883e+01, 1.23883e+01, 4.42310e+00, 4.42310e+00, 1.00000e-03,\n",
       "       1.00000e-03, 1.00000e-03, 1.00000e-03, 1.00000e-03, 1.00000e-03,\n",
       "       1.23883e+01, 1.23883e+01, 1.18495e+01])"
      ]
     },
     "execution_count": 162,
     "metadata": {},
     "output_type": "execute_result"
    }
   ],
   "source": [
    "np.transpose(c1)"
   ]
  },
  {
   "cell_type": "code",
   "execution_count": 131,
   "metadata": {
    "ExecuteTime": {
     "end_time": "2020-04-23T15:27:48.405996Z",
     "start_time": "2020-04-23T15:27:48.403608Z"
    }
   },
   "outputs": [],
   "source": [
    "c2 = "
   ]
  },
  {
   "cell_type": "code",
   "execution_count": 133,
   "metadata": {
    "ExecuteTime": {
     "end_time": "2020-04-23T15:28:34.527685Z",
     "start_time": "2020-04-23T15:28:34.525080Z"
    }
   },
   "outputs": [],
   "source": []
  },
  {
   "cell_type": "code",
   "execution_count": 134,
   "metadata": {
    "ExecuteTime": {
     "end_time": "2020-04-23T15:28:53.762305Z",
     "start_time": "2020-04-23T15:28:53.759531Z"
    }
   },
   "outputs": [],
   "source": [
    "c1 = list(opf_data['gencost']['c1'])"
   ]
  },
  {
   "cell_type": "code",
   "execution_count": 142,
   "metadata": {
    "ExecuteTime": {
     "end_time": "2020-04-23T15:31:24.276840Z",
     "start_time": "2020-04-23T15:31:24.274357Z"
    }
   },
   "outputs": [],
   "source": []
  },
  {
   "cell_type": "code",
   "execution_count": 154,
   "metadata": {
    "ExecuteTime": {
     "end_time": "2020-04-23T15:34:49.779242Z",
     "start_time": "2020-04-23T15:34:49.776624Z"
    }
   },
   "outputs": [],
   "source": []
  },
  {
   "cell_type": "code",
   "execution_count": 161,
   "metadata": {
    "ExecuteTime": {
     "end_time": "2020-04-23T15:38:01.766524Z",
     "start_time": "2020-04-23T15:38:01.761908Z"
    }
   },
   "outputs": [
    {
     "data": {
      "text/plain": [
       "array([13147.470472])"
      ]
     },
     "execution_count": 161,
     "metadata": {},
     "output_type": "execute_result"
    }
   ],
   "source": [
    "x2 + x1 + x0"
   ]
  },
  {
   "cell_type": "code",
   "execution_count": null,
   "metadata": {
    "ExecuteTime": {
     "end_time": "2020-04-23T15:31:46.864059Z",
     "start_time": "2020-04-23T15:31:46.861304Z"
    }
   },
   "outputs": [],
   "source": []
  },
  {
   "cell_type": "code",
   "execution_count": 128,
   "metadata": {
    "ExecuteTime": {
     "end_time": "2020-04-23T15:27:09.094446Z",
     "start_time": "2020-04-23T15:27:09.092658Z"
    }
   },
   "outputs": [],
   "source": []
  },
  {
   "cell_type": "code",
   "execution_count": null,
   "metadata": {},
   "outputs": [],
   "source": []
  },
  {
   "cell_type": "code",
   "execution_count": null,
   "metadata": {},
   "outputs": [],
   "source": []
  },
  {
   "cell_type": "code",
   "execution_count": null,
   "metadata": {},
   "outputs": [],
   "source": []
  },
  {
   "cell_type": "markdown",
   "metadata": {},
   "source": [
    "## Pre-process for each test-case"
   ]
  },
  {
   "cell_type": "markdown",
   "metadata": {},
   "source": [
    "### OPF solver"
   ]
  },
  {
   "cell_type": "code",
   "execution_count": 20,
   "metadata": {
    "ExecuteTime": {
     "end_time": "2020-04-23T14:42:07.123391Z",
     "start_time": "2020-04-23T14:42:06.001827Z"
    }
   },
   "outputs": [],
   "source": [
    "import picos"
   ]
  },
  {
   "cell_type": "code",
   "execution_count": 24,
   "metadata": {
    "ExecuteTime": {
     "end_time": "2020-04-23T07:38:48.843101Z",
     "start_time": "2020-04-23T07:38:48.841206Z"
    }
   },
   "outputs": [],
   "source": [
    "def OP_solver(constraints, opf_data):\n",
    "    p_dim = opf_data['gen']['Pg'].shape[0]\n",
    "    c2 = list(opf_data['gencost']['c2'])\n",
    "    c1 = list(opf_data['gencost']['c1'])\n",
    "    c0 = list(opf_data['gencost']['c0'])\n",
    "    \n",
    "    OP = picos.Problem()\n",
    "    p = picos.RealVariable(\"p\", p_dim)\n",
    "    \n",
    "    # set constraints\n",
    "    for constraint in constraints:\n",
    "        OP.add_constraint(constraint)\n",
    "    \n",
    "    # set the objective function\n",
    "    x2 = np.squeeze(np.matmul(np.matmul(np.transpose(p), np.diag(c2)), p))\n",
    "    x1 = np.matmul(np.transpose(c1), p)\n",
    "    x0 = sum(c0)\n",
    "    OP.set_objective(\"min\", x2+x1+x0)\n",
    "    \n",
    "    # solve OPF\n",
    "    OP.solve()"
   ]
  },
  {
   "cell_type": "code",
   "execution_count": null,
   "metadata": {},
   "outputs": [],
   "source": []
  },
  {
   "cell_type": "code",
   "execution_count": null,
   "metadata": {},
   "outputs": [],
   "source": []
  },
  {
   "cell_type": "code",
   "execution_count": null,
   "metadata": {},
   "outputs": [],
   "source": []
  },
  {
   "cell_type": "code",
   "execution_count": null,
   "metadata": {},
   "outputs": [],
   "source": []
  },
  {
   "cell_type": "code",
   "execution_count": 17,
   "metadata": {
    "ExecuteTime": {
     "end_time": "2020-04-23T07:07:09.796484Z",
     "start_time": "2020-04-23T07:07:09.793253Z"
    }
   },
   "outputs": [],
   "source": []
  },
  {
   "cell_type": "markdown",
   "metadata": {},
   "source": [
    "### Learning Active sets: DiscoverMass [3]\n",
    "<img src=\"figures/DiscoverMAss.png\" style=\"float: left; width: 850px;\"/>"
   ]
  },
  {
   "cell_type": "code",
   "execution_count": null,
   "metadata": {},
   "outputs": [],
   "source": [
    "import cmath as cm"
   ]
  },
  {
   "cell_type": "code",
   "execution_count": 16,
   "metadata": {
    "ExecuteTime": {
     "end_time": "2020-04-23T07:03:37.567081Z",
     "start_time": "2020-04-23T07:03:37.564110Z"
    }
   },
   "outputs": [],
   "source": [
    "alpha = 0.05\n",
    "epsilon = 0.04\n",
    "delta = 0.01\n",
    "gamma = 2"
   ]
  },
  {
   "cell_type": "code",
   "execution_count": null,
   "metadata": {},
   "outputs": [],
   "source": [
    "def discover_mass(alpha, epsilon, delta, gamma):\n",
    "    # compute c amd M_low\n",
    "    c = 2 * gamma / pow(epsilon, 2)\n",
    "    M_low = 1 + pow(gamma / (delta * (gamma - 1)), 1 / (gamma - 1))\n",
    "    \n",
    "    # initialized\n",
    "    M = 1 # num of samples\n",
    "    discevered_active_sets = [] # empty set\n",
    "    \n",
    "    # iteration\n",
    "    while True:\n",
    "        # calculate window size Window_M\n",
    "        Window_M = c * max(cm.log(M_low), cm.log(M))\n",
    "        \n",
    "        # draw additional samples ???\n",
    "        additional_sample_size = 1 + W_M - \n",
    "        additional_samples = []\n",
    "        \n",
    "        # solve OP for each samples; obtain new active sets ???\n",
    "        new_active_sets = \n",
    "        \n",
    "        # add the newly observed active sets\n",
    "        set1 = set(discevered_active_sets)\n",
    "        set2 = set(new_active_sets)\n",
    "        discevered_active_sets = list(set1.union(set2))\n",
    "        \n",
    "        # compute Rate of discovery over the window size Window_M ???\n",
    "        Rate_discovery = (1/Window_M) * ()\n",
    "        # update M\n",
    "        M = M + 1\n",
    "        if R_discovery < alpha - epsilon:\n",
    "            break\n",
    "    return discevered_active_sets, M, R_discovery"
   ]
  },
  {
   "cell_type": "code",
   "execution_count": null,
   "metadata": {},
   "outputs": [],
   "source": []
  },
  {
   "cell_type": "code",
   "execution_count": 18,
   "metadata": {
    "ExecuteTime": {
     "end_time": "2020-04-23T07:20:10.777457Z",
     "start_time": "2020-04-23T07:20:10.774450Z"
    }
   },
   "outputs": [],
   "source": [
    "set1 = set([1,2,3,4,5,6])\n",
    "set2 = set([3,4,5,6,8,9])"
   ]
  },
  {
   "cell_type": "code",
   "execution_count": 22,
   "metadata": {
    "ExecuteTime": {
     "end_time": "2020-04-23T07:20:42.716742Z",
     "start_time": "2020-04-23T07:20:42.712711Z"
    }
   },
   "outputs": [
    {
     "data": {
      "text/plain": [
       "[1, 2, 3, 4, 5, 6, 8, 9]"
      ]
     },
     "execution_count": 22,
     "metadata": {},
     "output_type": "execute_result"
    }
   ],
   "source": [
    "list(set1.union(set2))"
   ]
  },
  {
   "cell_type": "code",
   "execution_count": null,
   "metadata": {},
   "outputs": [],
   "source": []
  },
  {
   "cell_type": "code",
   "execution_count": null,
   "metadata": {},
   "outputs": [],
   "source": []
  },
  {
   "cell_type": "code",
   "execution_count": null,
   "metadata": {},
   "outputs": [],
   "source": []
  },
  {
   "cell_type": "code",
   "execution_count": null,
   "metadata": {
    "ExecuteTime": {
     "end_time": "2020-04-23T14:18:15.745552Z",
     "start_time": "2020-04-23T14:18:15.742148Z"
    }
   },
   "outputs": [],
   "source": []
  },
  {
   "cell_type": "code",
   "execution_count": null,
   "metadata": {},
   "outputs": [],
   "source": []
  },
  {
   "cell_type": "code",
   "execution_count": null,
   "metadata": {},
   "outputs": [],
   "source": []
  },
  {
   "cell_type": "code",
   "execution_count": null,
   "metadata": {},
   "outputs": [],
   "source": []
  },
  {
   "cell_type": "markdown",
   "metadata": {},
   "source": [
    "### Test-cases for Learning [4]\n",
    "\n",
    "<img src=\"figures/test_cases_for_learning.png\" style=\"float: left; width: 550px;\"/>"
   ]
  },
  {
   "cell_type": "markdown",
   "metadata": {},
   "source": [
    "## Pre-process for Deep Learning\n",
    "\n",
    "### NNs Classifier [2]\n",
    "- **Input** = w_i \n",
    "    - Uncertainty realization vector, w.\n",
    "    - where i = 0,··· ,k−1 where k is the number of _injection nodes_.\n",
    "- **Output** = y_i \n",
    "    - k length binary vector that takes a value of 1 for the true active set and zero otherwise.\n",
    "    - where i = 0,··· ,k−1 where k is the number of _candidate active sets_.  \n",
    "    \n",
    "    \n",
    "<p>    \n",
    "<img src=\"figures/NNs_classifier.png\" style=\"float: left; width: 550px;\"/>  "
   ]
  },
  {
   "cell_type": "code",
   "execution_count": null,
   "metadata": {},
   "outputs": [],
   "source": []
  },
  {
   "cell_type": "code",
   "execution_count": null,
   "metadata": {},
   "outputs": [],
   "source": []
  },
  {
   "cell_type": "code",
   "execution_count": null,
   "metadata": {},
   "outputs": [],
   "source": []
  },
  {
   "cell_type": "code",
   "execution_count": null,
   "metadata": {},
   "outputs": [],
   "source": []
  },
  {
   "cell_type": "code",
   "execution_count": null,
   "metadata": {},
   "outputs": [],
   "source": []
  },
  {
   "cell_type": "code",
   "execution_count": null,
   "metadata": {},
   "outputs": [],
   "source": []
  },
  {
   "cell_type": "code",
   "execution_count": null,
   "metadata": {},
   "outputs": [],
   "source": []
  },
  {
   "cell_type": "markdown",
   "metadata": {},
   "source": [
    "---"
   ]
  },
  {
   "cell_type": "markdown",
   "metadata": {},
   "source": [
    "# References"
   ]
  },
  {
   "cell_type": "markdown",
   "metadata": {},
   "source": [
    "[1] The IEEE PES Task Force on Benchmarks for Validation of Emerging Power System Algorithms, “PGLib Optimal Power Flow Bench-marks,” Published online at https://github.com/power-grid-lib/pglib-opf, accessed: April 3, 2020.  \n",
    "[2] D. Deka and S. Misra. “Learning for DC-OPF: Classifying active sets using neural nets,” 2019 IEEE Milan PowerTech,2019.     \n",
    "[3] R. D. Christie, B. F. Wollenberg, and I. Wangensteen, “Transmission management in the deregulated environment,” Proceedings of the IEEE, vol. 88, no. 2, pp. 170–195, 2000.     \n",
    "[4] "
   ]
  },
  {
   "cell_type": "code",
   "execution_count": null,
   "metadata": {},
   "outputs": [],
   "source": []
  }
 ],
 "metadata": {
  "kernelspec": {
   "display_name": "Python 3",
   "language": "python",
   "name": "python3"
  },
  "language_info": {
   "codemirror_mode": {
    "name": "ipython",
    "version": 3
   },
   "file_extension": ".py",
   "mimetype": "text/x-python",
   "name": "python",
   "nbconvert_exporter": "python",
   "pygments_lexer": "ipython3",
   "version": "3.7.7"
  },
  "toc": {
   "base_numbering": 1,
   "nav_menu": {},
   "number_sections": true,
   "sideBar": true,
   "skip_h1_title": false,
   "title_cell": "Table of Contents",
   "title_sidebar": "Contents",
   "toc_cell": false,
   "toc_position": {},
   "toc_section_display": true,
   "toc_window_display": false
  },
  "varInspector": {
   "cols": {
    "lenName": 16,
    "lenType": 16,
    "lenVar": 40
   },
   "kernels_config": {
    "python": {
     "delete_cmd_postfix": "",
     "delete_cmd_prefix": "del ",
     "library": "var_list.py",
     "varRefreshCmd": "print(var_dic_list())"
    },
    "r": {
     "delete_cmd_postfix": ") ",
     "delete_cmd_prefix": "rm(",
     "library": "var_list.r",
     "varRefreshCmd": "cat(var_dic_list()) "
    }
   },
   "types_to_exclude": [
    "module",
    "function",
    "builtin_function_or_method",
    "instance",
    "_Feature"
   ],
   "window_display": false
  }
 },
 "nbformat": 4,
 "nbformat_minor": 2
}
