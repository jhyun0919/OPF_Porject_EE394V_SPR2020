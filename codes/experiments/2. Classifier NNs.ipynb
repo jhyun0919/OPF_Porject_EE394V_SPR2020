{
 "cells": [
  {
   "cell_type": "markdown",
   "metadata": {},
   "source": [
    "# Classifier NNs\n",
    "\n",
    "## NNs summary\n",
    "- **Input: an uncertainty realization vector.**\n",
    "- **Output: a label vector with multiple choices.**\n",
    "\n",
    "\n",
    "\n",
    "- NNs components\n",
    "    - Dense\n",
    "    - BatchNormalization\n",
    "    - DropOut\n",
    "    - SoftMax\n",
    "\n",
    "- Optimizer\n",
    "    - Adam\n",
    "\n",
    "- Loss\n",
    "    - BinaryCrossEntropy\n",
    "\n",
    "- Metric\n",
    "    - Accuracy [%]"
   ]
  },
  {
   "cell_type": "code",
   "execution_count": 1,
   "metadata": {
    "ExecuteTime": {
     "end_time": "2020-05-05T19:00:43.205007Z",
     "start_time": "2020-05-05T19:00:40.514658Z"
    }
   },
   "outputs": [],
   "source": [
    "import pickle\n",
    "import pprint\n",
    "from sklearn.model_selection import train_test_split\n",
    "from os import path\n",
    "\n",
    "from datetime import datetime\n",
    "from packaging import version\n",
    "\n",
    "import tensorflow as tf\n",
    "from tensorflow import keras\n",
    "from tensorflow.keras import layers\n",
    "from tensorflow.keras import metrics\n",
    "\n",
    "import matplotlib.pyplot as plt\n",
    "import numpy as np\n",
    "import seaborn as sns\n",
    "import math"
   ]
  },
  {
   "cell_type": "markdown",
   "metadata": {},
   "source": [
    "## prepare dataset"
   ]
  },
  {
   "cell_type": "code",
   "execution_count": 2,
   "metadata": {
    "ExecuteTime": {
     "end_time": "2020-05-05T19:00:43.209628Z",
     "start_time": "2020-05-05T19:00:43.206681Z"
    }
   },
   "outputs": [],
   "source": [
    "test_cases = [\n",
    "    'pglib_opf_case24_ieee_rts.pickle', \n",
    "    'pglib_opf_case73_ieee_rts.pickle',\n",
    "    'pglib_opf_case162_ieee_dtc.pickle',\n",
    "    'pglib_opf_case300_ieee.pickle',\n",
    "]"
   ]
  },
  {
   "cell_type": "code",
   "execution_count": 3,
   "metadata": {
    "ExecuteTime": {
     "end_time": "2020-05-05T19:00:43.215609Z",
     "start_time": "2020-05-05T19:00:43.213184Z"
    }
   },
   "outputs": [],
   "source": [
    "# choose a dataset\n",
    "case_idx = 3\n",
    "file_dir = path.join('./datasets/', test_cases[case_idx])"
   ]
  },
  {
   "cell_type": "code",
   "execution_count": 4,
   "metadata": {
    "ExecuteTime": {
     "end_time": "2020-05-05T19:00:43.726540Z",
     "start_time": "2020-05-05T19:00:43.218275Z"
    }
   },
   "outputs": [],
   "source": [
    "infile = open(file_dir,'rb')\n",
    "dataset = pickle.load(infile)\n",
    "infile.close()"
   ]
  },
  {
   "cell_type": "code",
   "execution_count": 5,
   "metadata": {
    "ExecuteTime": {
     "end_time": "2020-05-05T19:00:44.062139Z",
     "start_time": "2020-05-05T19:00:43.728538Z"
    }
   },
   "outputs": [],
   "source": [
    "# train & test\n",
    "x_train, x_test, y_train, y_test = train_test_split(dataset['x'],\n",
    "                                                    dataset['y'],\n",
    "                                                    test_size=0.2,\n",
    "                                                    random_state=19)\n",
    "# train & validation\n",
    "x_train, x_val, y_train, y_val = train_test_split(x_train,\n",
    "                                                  y_train,\n",
    "                                                  test_size=0.2,\n",
    "                                                  random_state=19)"
   ]
  },
  {
   "cell_type": "code",
   "execution_count": 6,
   "metadata": {
    "ExecuteTime": {
     "end_time": "2020-05-05T19:00:44.171621Z",
     "start_time": "2020-05-05T19:00:44.064231Z"
    }
   },
   "outputs": [],
   "source": [
    "x_train = x_train.astype('float32')\n",
    "x_val = x_val.astype('float32')\n",
    "x_test = x_test.astype('float32')\n",
    "\n",
    "y_train = y_train.astype('float32')\n",
    "y_val = y_val.astype('float32')\n",
    "y_test = y_test.astype('float32')"
   ]
  },
  {
   "cell_type": "code",
   "execution_count": 7,
   "metadata": {
    "ExecuteTime": {
     "end_time": "2020-05-05T19:00:44.179002Z",
     "start_time": "2020-05-05T19:00:44.174302Z"
    }
   },
   "outputs": [
    {
     "name": "stdout",
     "output_type": "stream",
     "text": [
      "((32000, 300), (32000, 549))\n",
      "((8000, 300), (8000, 549))\n",
      "((10000, 300), (10000, 549))\n"
     ]
    }
   ],
   "source": [
    "print((x_train.shape, y_train.shape))\n",
    "print((x_val.shape, y_val.shape))\n",
    "print((x_test.shape, y_test.shape))"
   ]
  },
  {
   "cell_type": "markdown",
   "metadata": {},
   "source": [
    "## Set a Classifier Model"
   ]
  },
  {
   "cell_type": "code",
   "execution_count": 8,
   "metadata": {
    "ExecuteTime": {
     "end_time": "2020-05-05T19:00:44.324995Z",
     "start_time": "2020-05-05T19:00:44.184273Z"
    }
   },
   "outputs": [],
   "source": [
    "%load_ext tensorboard\n",
    "# Clear any logs from previous runs\n",
    "!rm -rf ./logs/ "
   ]
  },
  {
   "cell_type": "code",
   "execution_count": 9,
   "metadata": {
    "ExecuteTime": {
     "end_time": "2020-05-05T19:00:44.552812Z",
     "start_time": "2020-05-05T19:00:44.328529Z"
    }
   },
   "outputs": [],
   "source": [
    "inputs = keras.Input(shape=(x_train.shape[1], ), name='uncertainty_realization')\n",
    "\n",
    "x = layers.Dense(x_train.shape[1], activation='relu', name='dense_1')(inputs)\n",
    "x = layers.BatchNormalization(name='bn_1')(x)\n",
    "x = layers.Dropout(rate=0.2, name='dropout_1')(x)\n",
    "\n",
    "x = layers.Dense(x_train.shape[1]*2, activation='relu', name='dense_2')(x)\n",
    "x = layers.BatchNormalization(name='bn_2')(x)\n",
    "x = layers.Dropout(rate=0.2, name='dropout_2')(x)\n",
    "\n",
    "x = layers.Dense(y_train.shape[1], activation='relu', name='dense_3')(x)\n",
    "x = layers.BatchNormalization(name='bn_3')(x)\n",
    "x = layers.Dropout(rate=0.2, name='dropout_3')(x)\n",
    "\n",
    "outputs = layers.Dense(y_train.shape[1], activation='sigmoid', name='sigmoid')(x)\n",
    "\n",
    "model = keras.Model(inputs=inputs, outputs=outputs, name=\"multi-label-classification\")"
   ]
  },
  {
   "cell_type": "code",
   "execution_count": 10,
   "metadata": {
    "ExecuteTime": {
     "end_time": "2020-05-05T19:00:44.609537Z",
     "start_time": "2020-05-05T19:00:44.554802Z"
    }
   },
   "outputs": [],
   "source": [
    "model.compile(\n",
    "    optimizer=keras.optimizers.Adam(),  # Optimizer\n",
    "    # Loss function to minimize\n",
    "    loss=keras.losses.BinaryCrossentropy(),\n",
    "    # List of metrics to monitor\n",
    "    metrics=['binary_accuracy', 'binary_crossentropy'])"
   ]
  },
  {
   "cell_type": "code",
   "execution_count": 11,
   "metadata": {
    "ExecuteTime": {
     "end_time": "2020-05-05T19:00:44.614814Z",
     "start_time": "2020-05-05T19:00:44.611433Z"
    }
   },
   "outputs": [],
   "source": [
    "# Define the Keras TensorBoard callback.\n",
    "logdir=\"logs/fit/\" + datetime.now().strftime(\"%Y%m%d-%H%M%S\")\n",
    "tensorboard_callback = keras.callbacks.TensorBoard(log_dir=logdir)"
   ]
  },
  {
   "cell_type": "code",
   "execution_count": 12,
   "metadata": {
    "ExecuteTime": {
     "end_time": "2020-05-05T19:00:44.622974Z",
     "start_time": "2020-05-05T19:00:44.617341Z"
    }
   },
   "outputs": [
    {
     "name": "stdout",
     "output_type": "stream",
     "text": [
      "Model: \"multi-label-classification\"\n",
      "_________________________________________________________________\n",
      "Layer (type)                 Output Shape              Param #   \n",
      "=================================================================\n",
      "uncertainty_realization (Inp [(None, 300)]             0         \n",
      "_________________________________________________________________\n",
      "dense_1 (Dense)              (None, 300)               90300     \n",
      "_________________________________________________________________\n",
      "bn_1 (BatchNormalization)    (None, 300)               1200      \n",
      "_________________________________________________________________\n",
      "dropout_1 (Dropout)          (None, 300)               0         \n",
      "_________________________________________________________________\n",
      "dense_2 (Dense)              (None, 600)               180600    \n",
      "_________________________________________________________________\n",
      "bn_2 (BatchNormalization)    (None, 600)               2400      \n",
      "_________________________________________________________________\n",
      "dropout_2 (Dropout)          (None, 600)               0         \n",
      "_________________________________________________________________\n",
      "dense_3 (Dense)              (None, 549)               329949    \n",
      "_________________________________________________________________\n",
      "bn_3 (BatchNormalization)    (None, 549)               2196      \n",
      "_________________________________________________________________\n",
      "dropout_3 (Dropout)          (None, 549)               0         \n",
      "_________________________________________________________________\n",
      "sigmoid (Dense)              (None, 549)               301950    \n",
      "=================================================================\n",
      "Total params: 908,595\n",
      "Trainable params: 905,697\n",
      "Non-trainable params: 2,898\n",
      "_________________________________________________________________\n"
     ]
    }
   ],
   "source": [
    "model.summary()"
   ]
  },
  {
   "cell_type": "markdown",
   "metadata": {},
   "source": [
    "### Train the Model"
   ]
  },
  {
   "cell_type": "code",
   "execution_count": 13,
   "metadata": {
    "ExecuteTime": {
     "end_time": "2020-05-05T19:00:59.851516Z",
     "start_time": "2020-05-05T19:00:44.625041Z"
    },
    "scrolled": false
   },
   "outputs": [
    {
     "name": "stdout",
     "output_type": "stream",
     "text": [
      "> Fit model on training data\n",
      "Train on 32000 samples, validate on 8000 samples\n",
      "Epoch 1/5\n",
      "32000/32000 [==============================] - 4s 114us/sample - loss: 0.2048 - binary_accuracy: 0.9091 - binary_crossentropy: 0.2048 - val_loss: 0.0041 - val_binary_accuracy: 1.0000 - val_binary_crossentropy: 0.0041\n",
      "Epoch 2/5\n",
      "32000/32000 [==============================] - 3s 79us/sample - loss: 0.0026 - binary_accuracy: 1.0000 - binary_crossentropy: 0.0026 - val_loss: 9.5487e-04 - val_binary_accuracy: 1.0000 - val_binary_crossentropy: 9.5487e-04\n",
      "Epoch 3/5\n",
      "32000/32000 [==============================] - 3s 84us/sample - loss: 8.4809e-04 - binary_accuracy: 1.0000 - binary_crossentropy: 8.4809e-04 - val_loss: 4.2308e-04 - val_binary_accuracy: 1.0000 - val_binary_crossentropy: 4.2308e-04\n",
      "Epoch 4/5\n",
      "32000/32000 [==============================] - 3s 93us/sample - loss: 4.5386e-04 - binary_accuracy: 1.0000 - binary_crossentropy: 4.5386e-04 - val_loss: 2.3587e-04 - val_binary_accuracy: 1.0000 - val_binary_crossentropy: 2.3587e-04\n",
      "Epoch 5/5\n",
      "32000/32000 [==============================] - 3s 102us/sample - loss: 2.6072e-04 - binary_accuracy: 1.0000 - binary_crossentropy: 2.6072e-04 - val_loss: 1.4931e-04 - val_binary_accuracy: 1.0000 - val_binary_crossentropy: 1.4931e-04\n"
     ]
    }
   ],
   "source": [
    "print('> Fit model on training data')\n",
    "history = model.fit(\n",
    "    x_train,\n",
    "    y_train,\n",
    "    batch_size=128,\n",
    "    epochs=5,\n",
    "    validation_data=(x_val, y_val),\n",
    "    callbacks=[tensorboard_callback])"
   ]
  },
  {
   "cell_type": "code",
   "execution_count": 14,
   "metadata": {
    "ExecuteTime": {
     "end_time": "2020-05-05T19:00:59.857801Z",
     "start_time": "2020-05-05T19:00:59.853642Z"
    }
   },
   "outputs": [
    {
     "name": "stdout",
     "output_type": "stream",
     "text": [
      "> History dict:\n",
      "{   'binary_accuracy': [0.90909266, 0.9999937, 1.0, 0.99999934, 1.0],\n",
      "    'binary_crossentropy': [   0.20478582,\n",
      "                               0.0026159538,\n",
      "                               0.0008480886,\n",
      "                               0.00045386257,\n",
      "                               0.00026071674],\n",
      "    'loss': [   0.2047858105506748,\n",
      "                0.0026159526873379946,\n",
      "                0.00084808888589032,\n",
      "                0.00045386239956133066,\n",
      "                0.00026071667327778414],\n",
      "    'val_binary_accuracy': [1.0, 1.0, 1.0, 1.0, 1.0],\n",
      "    'val_binary_crossentropy': [   0.004061135,\n",
      "                                   0.0009548749,\n",
      "                                   0.00042307517,\n",
      "                                   0.00023587066,\n",
      "                                   0.00014930968],\n",
      "    'val_loss': [   0.0040611341297626495,\n",
      "                    0.0009548749392852187,\n",
      "                    0.0004230751562863588,\n",
      "                    0.00023587065283209085,\n",
      "                    0.00014930967928376048]}\n"
     ]
    }
   ],
   "source": [
    "pp = pprint.PrettyPrinter(indent=4)\n",
    "print('> History dict:')\n",
    "pp.pprint(history.history)"
   ]
  },
  {
   "cell_type": "code",
   "execution_count": 15,
   "metadata": {
    "ExecuteTime": {
     "end_time": "2020-05-05T19:00:59.873610Z",
     "start_time": "2020-05-05T19:00:59.859954Z"
    }
   },
   "outputs": [
    {
     "data": {
      "text/plain": [
       "Reusing TensorBoard on port 6006 (pid 70636), started 18:43:03 ago. (Use '!kill 70636' to kill it.)"
      ]
     },
     "metadata": {},
     "output_type": "display_data"
    },
    {
     "data": {
      "text/html": [
       "\n",
       "      <iframe id=\"tensorboard-frame-85d780660f71b6d8\" width=\"100%\" height=\"800\" frameborder=\"0\">\n",
       "      </iframe>\n",
       "      <script>\n",
       "        (function() {\n",
       "          const frame = document.getElementById(\"tensorboard-frame-85d780660f71b6d8\");\n",
       "          const url = new URL(\"/\", window.location);\n",
       "          url.port = 6006;\n",
       "          frame.src = url;\n",
       "        })();\n",
       "      </script>\n",
       "  "
      ],
      "text/plain": [
       "<IPython.core.display.HTML object>"
      ]
     },
     "metadata": {},
     "output_type": "display_data"
    }
   ],
   "source": [
    "%tensorboard --logdir logs"
   ]
  },
  {
   "cell_type": "markdown",
   "metadata": {},
   "source": [
    "### Evaluate the Model"
   ]
  },
  {
   "cell_type": "code",
   "execution_count": 16,
   "metadata": {
    "ExecuteTime": {
     "end_time": "2020-05-05T19:01:00.552404Z",
     "start_time": "2020-05-05T19:00:59.876259Z"
    },
    "scrolled": false
   },
   "outputs": [
    {
     "name": "stdout",
     "output_type": "stream",
     "text": [
      "\n",
      "# Evaluate\n",
      "10000/10000 [==============================] - 1s 63us/sample - loss: 1.4854e-04 - binary_accuracy: 1.0000 - binary_crossentropy: 1.4854e-04\n"
     ]
    },
    {
     "data": {
      "text/plain": [
       "{'loss': 0.00014853947644587607,\n",
       " 'binary_accuracy': 1.0,\n",
       " 'binary_crossentropy': 0.00014853953}"
      ]
     },
     "execution_count": 16,
     "metadata": {},
     "output_type": "execute_result"
    }
   ],
   "source": [
    "print('\\n# Evaluate')\n",
    "result = model.evaluate(x_test, y_test)\n",
    "dict(zip(model.metrics_names, result))"
   ]
  },
  {
   "cell_type": "markdown",
   "metadata": {},
   "source": [
    "### Visualize the prediction"
   ]
  },
  {
   "cell_type": "code",
   "execution_count": 17,
   "metadata": {
    "ExecuteTime": {
     "end_time": "2020-05-05T19:01:01.129456Z",
     "start_time": "2020-05-05T19:01:00.553947Z"
    }
   },
   "outputs": [],
   "source": [
    "y_pred = model.predict(x_test)"
   ]
  },
  {
   "cell_type": "code",
   "execution_count": 18,
   "metadata": {
    "ExecuteTime": {
     "end_time": "2020-05-05T19:01:01.139878Z",
     "start_time": "2020-05-05T19:01:01.130892Z"
    }
   },
   "outputs": [],
   "source": [
    "def result_reshape(data):\n",
    "    result_dim = math.ceil(math.sqrt(len(data)))\n",
    "    reshaped_data = np.zeros((result_dim, result_dim))\n",
    "\n",
    "    for i in range(result_dim):\n",
    "        for j in range(result_dim):\n",
    "            try:\n",
    "                reshaped_data[i][j] = data[result_dim * i + j]\n",
    "            except IndexError:\n",
    "                reshaped_data[i][j] = -1\n",
    "    return reshaped_data\n",
    "\n",
    "\n",
    "def test_vs_pred(y_test, y_pred, data_idx, test_case):\n",
    "    y_test_reshaped = result_reshape(y_test[data_idx])\n",
    "    y_pred_reshaped = result_reshape(y_pred[data_idx])\n",
    "\n",
    "    fig, axes = plt.subplots(nrows=1, ncols=2, figsize=(16, 8))\n",
    "\n",
    "    fig.suptitle('Active Constraints Distribution: ' + test_case.split('.')[0], size=19, y=0.88)\n",
    "    axes[0].set_title('y_test', size=15, y=1.03)\n",
    "    axes[1].set_title('y_pred', size=15, y=1.03)\n",
    "\n",
    "    sns.heatmap(y_test_reshaped,\n",
    "                xticklabels=False,\n",
    "                yticklabels=False,\n",
    "                cbar_kws={'ticks': [-1, 0, 1], 'shrink': .75},\n",
    "                square=True,\n",
    "                ax=axes[0])\n",
    "\n",
    "    sns.heatmap(y_pred_reshaped,\n",
    "                xticklabels=False,\n",
    "                yticklabels=False,\n",
    "                cbar_kws={'ticks': [-1, 0, 1], 'shrink': .75},\n",
    "                square=True,\n",
    "                ax=axes[1])\n",
    "\n",
    "    fig.show()\n",
    "    file_dir = path.join('./figures/', test_case.split('.')[0] + '.png')\n",
    "    fig.savefig(file_dir, format='png')"
   ]
  },
  {
   "cell_type": "markdown",
   "metadata": {},
   "source": [
    "#### Heatmap label:\n",
    "- **1: active constraint**   \n",
    "- **0: inactive constraint**\n",
    "- -1: meaningless data (added cells to make the array as a square matrix)\n"
   ]
  },
  {
   "cell_type": "code",
   "execution_count": 19,
   "metadata": {
    "ExecuteTime": {
     "end_time": "2020-05-05T19:01:01.456139Z",
     "start_time": "2020-05-05T19:01:01.141644Z"
    },
    "scrolled": false
   },
   "outputs": [
    {
     "name": "stderr",
     "output_type": "stream",
     "text": [
      "/Users/jeehyunpark/anaconda3/envs/EE394V/lib/python3.7/site-packages/ipykernel_launcher.py:38: UserWarning: Matplotlib is currently using module://ipykernel.pylab.backend_inline, which is a non-GUI backend, so cannot show the figure.\n"
     ]
    },
    {
     "data": {
      "image/png": "[encoded data removed]",
      "text/plain": [
       "<Figure size 1152x576 with 4 Axes>"
      ]
     },
     "metadata": {
      "needs_background": "light"
     },
     "output_type": "display_data"
    }
   ],
   "source": [
    "data_idx = 55\n",
    "\n",
    "test_vs_pred(y_test, y_pred, data_idx, test_cases[case_idx])"
   ]
  },
  {
   "cell_type": "code",
   "execution_count": 20,
   "metadata": {
    "ExecuteTime": {
     "end_time": "2020-05-05T19:01:01.463330Z",
     "start_time": "2020-05-05T19:01:01.458025Z"
    }
   },
   "outputs": [
    {
     "data": {
      "text/plain": [
       "array([[0., 0., 0., ..., 0., 1., 0.],\n",
       "       [0., 0., 0., ..., 0., 1., 0.],\n",
       "       [0., 0., 0., ..., 0., 1., 0.],\n",
       "       ...,\n",
       "       [0., 0., 0., ..., 0., 1., 0.],\n",
       "       [0., 0., 0., ..., 0., 1., 0.],\n",
       "       [0., 0., 0., ..., 0., 1., 0.]], dtype=float32)"
      ]
     },
     "execution_count": 20,
     "metadata": {},
     "output_type": "execute_result"
    }
   ],
   "source": [
    "y_train"
   ]
  },
  {
   "cell_type": "code",
   "execution_count": null,
   "metadata": {},
   "outputs": [],
   "source": []
  }
 ],
 "metadata": {
  "kernelspec": {
   "display_name": "Python 3",
   "language": "python",
   "name": "python3"
  },
  "language_info": {
   "codemirror_mode": {
    "name": "ipython",
    "version": 3
   },
   "file_extension": ".py",
   "mimetype": "text/x-python",
   "name": "python",
   "nbconvert_exporter": "python",
   "pygments_lexer": "ipython3",
   "version": "3.7.7"
  },
  "toc": {
   "base_numbering": 1,
   "nav_menu": {},
   "number_sections": true,
   "sideBar": true,
   "skip_h1_title": false,
   "title_cell": "Table of Contents",
   "title_sidebar": "Contents",
   "toc_cell": false,
   "toc_position": {
    "height": "calc(100% - 180px)",
    "left": "10px",
    "top": "150px",
    "width": "165px"
   },
   "toc_section_display": true,
   "toc_window_display": false
  },
  "varInspector": {
   "cols": {
    "lenName": 16,
    "lenType": 16,
    "lenVar": 40
   },
   "kernels_config": {
    "python": {
     "delete_cmd_postfix": "",
     "delete_cmd_prefix": "del ",
     "library": "var_list.py",
     "varRefreshCmd": "print(var_dic_list())"
    },
    "r": {
     "delete_cmd_postfix": ") ",
     "delete_cmd_prefix": "rm(",
     "library": "var_list.r",
     "varRefreshCmd": "cat(var_dic_list()) "
    }
   },
   "types_to_exclude": [
    "module",
    "function",
    "builtin_function_or_method",
    "instance",
    "_Feature"
   ],
   "window_display": false
  }
 },
 "nbformat": 4,
 "nbformat_minor": 2
}
