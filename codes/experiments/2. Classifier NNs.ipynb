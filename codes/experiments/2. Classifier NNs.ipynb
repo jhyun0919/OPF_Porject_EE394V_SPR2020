{
 "cells": [
  {
   "cell_type": "markdown",
   "metadata": {},
   "source": [
    "# Classifier NNs\n",
    "\n",
    "## NNs summary\n",
    "- **Input: an uncertainty realization vector.**\n",
    "- **Output: a label vector with multiple choices.**\n",
    "\n",
    "\n",
    "\n",
    "- NNs components\n",
    "    - Dense\n",
    "    - BatchNormalization\n",
    "    - DropOut\n",
    "    - SoftMax\n",
    "\n",
    "- Optimizer\n",
    "    - Adam\n",
    "\n",
    "- Loss\n",
    "    - BinaryCrossEntropy\n",
    "\n",
    "- Metric\n",
    "    - Accuracy [%]"
   ]
  },
  {
   "cell_type": "code",
   "execution_count": 1,
   "metadata": {
    "ExecuteTime": {
     "end_time": "2020-05-03T03:27:08.857273Z",
     "start_time": "2020-05-03T03:27:05.823526Z"
    }
   },
   "outputs": [],
   "source": [
    "import pickle\n",
    "import pprint\n",
    "from sklearn.model_selection import train_test_split\n",
    "from os import path\n",
    "\n",
    "from datetime import datetime\n",
    "from packaging import version\n",
    "\n",
    "import tensorflow as tf\n",
    "from tensorflow import keras\n",
    "from tensorflow.keras import layers\n",
    "\n",
    "import matplotlib.pyplot as plt\n",
    "import numpy as np\n",
    "import seaborn as sns\n",
    "import math"
   ]
  },
  {
   "cell_type": "markdown",
   "metadata": {},
   "source": [
    "## prepare dataset"
   ]
  },
  {
   "cell_type": "code",
   "execution_count": 2,
   "metadata": {
    "ExecuteTime": {
     "end_time": "2020-05-03T03:27:08.863084Z",
     "start_time": "2020-05-03T03:27:08.859790Z"
    }
   },
   "outputs": [],
   "source": [
    "test_cases = [\n",
    "    'pglib_opf_case24_ieee_rts.pickle', \n",
    "    'pglib_opf_case73_ieee_rts.pickle',\n",
    "    'pglib_opf_case162_ieee_dtc.pickle',\n",
    "    'pglib_opf_case300_ieee.pickle',\n",
    "]"
   ]
  },
  {
   "cell_type": "code",
   "execution_count": 3,
   "metadata": {
    "ExecuteTime": {
     "end_time": "2020-05-03T03:27:08.870432Z",
     "start_time": "2020-05-03T03:27:08.867357Z"
    }
   },
   "outputs": [],
   "source": [
    "# choose a dataset\n",
    "case_idx = 3\n",
    "file_dir = path.join('./datasets/', test_cases[case_idx])"
   ]
  },
  {
   "cell_type": "code",
   "execution_count": 4,
   "metadata": {
    "ExecuteTime": {
     "end_time": "2020-05-03T03:27:09.334928Z",
     "start_time": "2020-05-03T03:27:08.873032Z"
    }
   },
   "outputs": [],
   "source": [
    "infile = open(file_dir,'rb')\n",
    "dataset = pickle.load(infile)\n",
    "infile.close()"
   ]
  },
  {
   "cell_type": "code",
   "execution_count": 5,
   "metadata": {
    "ExecuteTime": {
     "end_time": "2020-05-03T03:27:09.641109Z",
     "start_time": "2020-05-03T03:27:09.337028Z"
    }
   },
   "outputs": [],
   "source": [
    "# train & test\n",
    "x_train, x_test, y_train, y_test = train_test_split(dataset['x'],\n",
    "                                                    dataset['y'],\n",
    "                                                    test_size=0.2,\n",
    "                                                    random_state=19)\n",
    "# train & validation\n",
    "x_train, x_val, y_train, y_val = train_test_split(x_train,\n",
    "                                                  y_train,\n",
    "                                                  test_size=0.2,\n",
    "                                                  random_state=19)"
   ]
  },
  {
   "cell_type": "code",
   "execution_count": 6,
   "metadata": {
    "ExecuteTime": {
     "end_time": "2020-05-03T03:27:09.731697Z",
     "start_time": "2020-05-03T03:27:09.642916Z"
    }
   },
   "outputs": [],
   "source": [
    "x_train = x_train.astype('float32')\n",
    "x_val = x_val.astype('float32')\n",
    "x_test = x_test.astype('float32')\n",
    "\n",
    "y_train = y_train.astype('float32')\n",
    "y_val = y_val.astype('float32')\n",
    "y_test = y_test.astype('float32')"
   ]
  },
  {
   "cell_type": "code",
   "execution_count": 7,
   "metadata": {
    "ExecuteTime": {
     "end_time": "2020-05-03T03:27:09.737754Z",
     "start_time": "2020-05-03T03:27:09.734102Z"
    }
   },
   "outputs": [
    {
     "name": "stdout",
     "output_type": "stream",
     "text": [
      "((32000, 300), (32000, 549))\n",
      "((8000, 300), (8000, 549))\n",
      "((10000, 300), (10000, 549))\n"
     ]
    }
   ],
   "source": [
    "print((x_train.shape, y_train.shape))\n",
    "print((x_val.shape, y_val.shape))\n",
    "print((x_test.shape, y_test.shape))"
   ]
  },
  {
   "cell_type": "markdown",
   "metadata": {},
   "source": [
    "## Set a Classifier Model"
   ]
  },
  {
   "cell_type": "code",
   "execution_count": 8,
   "metadata": {
    "ExecuteTime": {
     "end_time": "2020-05-03T03:27:09.878161Z",
     "start_time": "2020-05-03T03:27:09.742161Z"
    }
   },
   "outputs": [],
   "source": [
    "%load_ext tensorboard\n",
    "# Clear any logs from previous runs\n",
    "!rm -rf ./logs/ "
   ]
  },
  {
   "cell_type": "code",
   "execution_count": 9,
   "metadata": {
    "ExecuteTime": {
     "end_time": "2020-05-03T03:27:10.053405Z",
     "start_time": "2020-05-03T03:27:09.881330Z"
    }
   },
   "outputs": [],
   "source": [
    "inputs = keras.Input(shape=(x_train.shape[1], ), name='uncertainty_realization')\n",
    "\n",
    "x = layers.Dense(x_train.shape[1], activation='relu', name='dense_1')(inputs)\n",
    "x = layers.BatchNormalization(name='bn_1')(x)\n",
    "x = layers.Dropout(rate=0.2, name='dropout_1')(x)\n",
    "\n",
    "x = layers.Dense(x_train.shape[1]*2, activation='relu', name='dense_2')(x)\n",
    "x = layers.BatchNormalization(name='bn_2')(x)\n",
    "x = layers.Dropout(rate=0.2, name='dropout_2')(x)\n",
    "\n",
    "x = layers.Dense(y_train.shape[1], activation='relu', name='dense_3')(x)\n",
    "x = layers.BatchNormalization(name='bn_3')(x)\n",
    "x = layers.Dropout(rate=0.2, name='dropout_3')(x)\n",
    "\n",
    "outputs = layers.Dense(y_train.shape[1], activation='sigmoid', name='sigmoid')(x)\n",
    "\n",
    "model = keras.Model(inputs=inputs, outputs=outputs, name=\"multi-label-classification\")"
   ]
  },
  {
   "cell_type": "code",
   "execution_count": 10,
   "metadata": {
    "ExecuteTime": {
     "end_time": "2020-05-03T03:27:10.097023Z",
     "start_time": "2020-05-03T03:27:10.055298Z"
    }
   },
   "outputs": [],
   "source": [
    "model.compile(\n",
    "    optimizer=keras.optimizers.Adam(),  # Optimizer\n",
    "    # Loss function to minimize\n",
    "    loss=keras.losses.BinaryCrossentropy(),\n",
    "    # List of metrics to monitor\n",
    "    metrics=['accuracy'])"
   ]
  },
  {
   "cell_type": "code",
   "execution_count": 11,
   "metadata": {
    "ExecuteTime": {
     "end_time": "2020-05-03T03:27:10.102288Z",
     "start_time": "2020-05-03T03:27:10.099027Z"
    }
   },
   "outputs": [],
   "source": [
    "# Define the Keras TensorBoard callback.\n",
    "logdir=\"logs/fit/\" + datetime.now().strftime(\"%Y%m%d-%H%M%S\")\n",
    "tensorboard_callback = keras.callbacks.TensorBoard(log_dir=logdir)"
   ]
  },
  {
   "cell_type": "code",
   "execution_count": 12,
   "metadata": {
    "ExecuteTime": {
     "end_time": "2020-05-03T03:27:10.110398Z",
     "start_time": "2020-05-03T03:27:10.104382Z"
    }
   },
   "outputs": [
    {
     "name": "stdout",
     "output_type": "stream",
     "text": [
      "Model: \"multi-label-classification\"\n",
      "_________________________________________________________________\n",
      "Layer (type)                 Output Shape              Param #   \n",
      "=================================================================\n",
      "uncertainty_realization (Inp [(None, 300)]             0         \n",
      "_________________________________________________________________\n",
      "dense_1 (Dense)              (None, 300)               90300     \n",
      "_________________________________________________________________\n",
      "bn_1 (BatchNormalization)    (None, 300)               1200      \n",
      "_________________________________________________________________\n",
      "dropout_1 (Dropout)          (None, 300)               0         \n",
      "_________________________________________________________________\n",
      "dense_2 (Dense)              (None, 600)               180600    \n",
      "_________________________________________________________________\n",
      "bn_2 (BatchNormalization)    (None, 600)               2400      \n",
      "_________________________________________________________________\n",
      "dropout_2 (Dropout)          (None, 600)               0         \n",
      "_________________________________________________________________\n",
      "dense_3 (Dense)              (None, 549)               329949    \n",
      "_________________________________________________________________\n",
      "bn_3 (BatchNormalization)    (None, 549)               2196      \n",
      "_________________________________________________________________\n",
      "dropout_3 (Dropout)          (None, 549)               0         \n",
      "_________________________________________________________________\n",
      "sigmoid (Dense)              (None, 549)               301950    \n",
      "=================================================================\n",
      "Total params: 908,595\n",
      "Trainable params: 905,697\n",
      "Non-trainable params: 2,898\n",
      "_________________________________________________________________\n"
     ]
    }
   ],
   "source": [
    "model.summary()"
   ]
  },
  {
   "cell_type": "markdown",
   "metadata": {},
   "source": [
    "### Train the Model"
   ]
  },
  {
   "cell_type": "code",
   "execution_count": 13,
   "metadata": {
    "ExecuteTime": {
     "end_time": "2020-05-03T03:27:39.762310Z",
     "start_time": "2020-05-03T03:27:10.112651Z"
    },
    "scrolled": false
   },
   "outputs": [
    {
     "name": "stdout",
     "output_type": "stream",
     "text": [
      "> Fit model on training data\n",
      "Train on 32000 samples, validate on 8000 samples\n",
      "Epoch 1/5\n",
      "32000/32000 [==============================] - 8s 237us/sample - loss: 0.0635 - accuracy: 0.9717 - val_loss: 3.5578e-04 - val_accuracy: 1.0000\n",
      "Epoch 2/5\n",
      "32000/32000 [==============================] - 6s 177us/sample - loss: 2.3853e-04 - accuracy: 1.0000 - val_loss: 8.1120e-05 - val_accuracy: 1.0000\n",
      "Epoch 3/5\n",
      "32000/32000 [==============================] - 5s 168us/sample - loss: 7.4771e-05 - accuracy: 1.0000 - val_loss: 3.1350e-05 - val_accuracy: 1.0000\n",
      "Epoch 4/5\n",
      "32000/32000 [==============================] - 5s 171us/sample - loss: 3.1548e-05 - accuracy: 1.0000 - val_loss: 1.4615e-05 - val_accuracy: 1.0000\n",
      "Epoch 5/5\n",
      "32000/32000 [==============================] - 5s 170us/sample - loss: 1.9345e-05 - accuracy: 1.0000 - val_loss: 2.7552e-05 - val_accuracy: 1.0000\n"
     ]
    }
   ],
   "source": [
    "print('> Fit model on training data')\n",
    "history = model.fit(\n",
    "    x_train,\n",
    "    y_train,\n",
    "    batch_size=32,\n",
    "    epochs=5,\n",
    "    # We pass some validation for\n",
    "    # monitoring validation loss and metrics\n",
    "    # at the end of each epoch\n",
    "    validation_data=(x_val, y_val),\n",
    "    callbacks=[tensorboard_callback])"
   ]
  },
  {
   "cell_type": "code",
   "execution_count": 14,
   "metadata": {
    "ExecuteTime": {
     "end_time": "2020-05-03T03:27:39.767787Z",
     "start_time": "2020-05-03T03:27:39.763984Z"
    }
   },
   "outputs": [
    {
     "name": "stdout",
     "output_type": "stream",
     "text": [
      "> History dict:\n",
      "{   'accuracy': [0.97169334, 1.0, 1.0, 1.0, 0.99999994],\n",
      "    'loss': [   0.06347948436439037,\n",
      "                0.0002385281043825671,\n",
      "                7.477082772311405e-05,\n",
      "                3.1547860446153206e-05,\n",
      "                1.9344767012626108e-05],\n",
      "    'val_accuracy': [1.0, 1.0, 1.0, 1.0, 1.0],\n",
      "    'val_loss': [   0.0003557815335225314,\n",
      "                    8.112020682892762e-05,\n",
      "                    3.1350133911473676e-05,\n",
      "                    1.4615178650274175e-05,\n",
      "                    2.7552324179850983e-05]}\n"
     ]
    }
   ],
   "source": [
    "pp = pprint.PrettyPrinter(indent=4)\n",
    "print('> History dict:')\n",
    "pp.pprint(history.history)"
   ]
  },
  {
   "cell_type": "code",
   "execution_count": 15,
   "metadata": {
    "ExecuteTime": {
     "end_time": "2020-05-03T03:27:39.782517Z",
     "start_time": "2020-05-03T03:27:39.769732Z"
    },
    "scrolled": false
   },
   "outputs": [
    {
     "data": {
      "text/plain": [
       "Reusing TensorBoard on port 6006 (pid 30431), started 2 days, 20:58:25 ago. (Use '!kill 30431' to kill it.)"
      ]
     },
     "metadata": {},
     "output_type": "display_data"
    },
    {
     "data": {
      "text/html": [
       "\n",
       "      <iframe id=\"tensorboard-frame-e1cbd92632337454\" width=\"100%\" height=\"800\" frameborder=\"0\">\n",
       "      </iframe>\n",
       "      <script>\n",
       "        (function() {\n",
       "          const frame = document.getElementById(\"tensorboard-frame-e1cbd92632337454\");\n",
       "          const url = new URL(\"/\", window.location);\n",
       "          url.port = 6006;\n",
       "          frame.src = url;\n",
       "        })();\n",
       "      </script>\n",
       "  "
      ],
      "text/plain": [
       "<IPython.core.display.HTML object>"
      ]
     },
     "metadata": {},
     "output_type": "display_data"
    }
   ],
   "source": [
    "%tensorboard --logdir logs"
   ]
  },
  {
   "cell_type": "markdown",
   "metadata": {},
   "source": [
    "### Evaluate the Model"
   ]
  },
  {
   "cell_type": "code",
   "execution_count": 16,
   "metadata": {
    "ExecuteTime": {
     "end_time": "2020-05-03T03:27:40.630500Z",
     "start_time": "2020-05-03T03:27:39.784311Z"
    }
   },
   "outputs": [
    {
     "name": "stdout",
     "output_type": "stream",
     "text": [
      "\n",
      "# Evaluate\n",
      "10000/10000 [==============================] - 1s 81us/sample - loss: 2.7020e-05 - accuracy: 1.0000\n"
     ]
    },
    {
     "data": {
      "text/plain": [
       "{'loss': 2.701979262637906e-05, 'accuracy': 1.0}"
      ]
     },
     "execution_count": 16,
     "metadata": {},
     "output_type": "execute_result"
    }
   ],
   "source": [
    "print('\\n# Evaluate')\n",
    "result = model.evaluate(x_test, y_test)\n",
    "dict(zip(model.metrics_names, result))"
   ]
  },
  {
   "cell_type": "markdown",
   "metadata": {},
   "source": [
    "### Visualize the prediction"
   ]
  },
  {
   "cell_type": "code",
   "execution_count": 17,
   "metadata": {
    "ExecuteTime": {
     "end_time": "2020-05-03T03:27:41.246671Z",
     "start_time": "2020-05-03T03:27:40.632465Z"
    }
   },
   "outputs": [],
   "source": [
    "y_pred = model.predict(x_test)"
   ]
  },
  {
   "cell_type": "code",
   "execution_count": 143,
   "metadata": {
    "ExecuteTime": {
     "end_time": "2020-05-03T04:21:09.530990Z",
     "start_time": "2020-05-03T04:21:09.521569Z"
    }
   },
   "outputs": [],
   "source": [
    "def result_reshape(data):\n",
    "    result_dim = math.ceil(math.sqrt(len(data)))\n",
    "    reshaped_data = np.zeros((result_dim, result_dim))\n",
    "\n",
    "    for i in range(result_dim):\n",
    "        for j in range(result_dim):\n",
    "            try:\n",
    "                reshaped_data[i][j] = data[result_dim * i + j]\n",
    "            except IndexError:\n",
    "                reshaped_data[i][j] = -1\n",
    "    return reshaped_data\n",
    "\n",
    "\n",
    "def test_vs_pred(y_test, y_pred, data_idx):\n",
    "    y_test_reshaped = result_reshape(y_test[data_idx])\n",
    "    y_pred_reshaped = result_reshape(y_pred[data_idx])\n",
    "\n",
    "    fig, axes = plt.subplots(nrows=1, ncols=2, figsize=(16, 8))\n",
    "\n",
    "    fig.suptitle('Active Constraints Distribution', size=19)\n",
    "    axes[0].set_title('y_test', size=15, y=1.03)\n",
    "    axes[1].set_title('y_pred', size=15, y=1.03)\n",
    "\n",
    "    sns.heatmap(y_test_reshaped,\n",
    "                xticklabels=False,\n",
    "                yticklabels=False,\n",
    "                cbar_kws={'ticks': [-1, 0, 1]},\n",
    "                ax=axes[0])\n",
    "\n",
    "    sns.heatmap(y_pred_reshaped,\n",
    "                xticklabels=False,\n",
    "                yticklabels=False,\n",
    "                cbar_kws={'ticks': [-1, 0, 1]},\n",
    "                ax=axes[1])\n",
    "\n",
    "    plt.show()"
   ]
  },
  {
   "cell_type": "markdown",
   "metadata": {},
   "source": [
    "#### Heatmap label:\n",
    "- **1: active constraint**   \n",
    "- **0: inactive constraint**\n",
    "- -1: meaningless data (added cells to make the array as a square matrix)\n"
   ]
  },
  {
   "cell_type": "code",
   "execution_count": 145,
   "metadata": {
    "ExecuteTime": {
     "end_time": "2020-05-03T04:22:32.472345Z",
     "start_time": "2020-05-03T04:22:32.227146Z"
    },
    "scrolled": false
   },
   "outputs": [
    {
     "data": {
      "image/png": "[encoded data removed]",
      "text/plain": [
       "<Figure size 1152x576 with 4 Axes>"
      ]
     },
     "metadata": {
      "needs_background": "light"
     },
     "output_type": "display_data"
    }
   ],
   "source": [
    "data_idx = 5\n",
    "test_vs_pred(y_test, y_pred, data_idx)"
   ]
  },
  {
   "cell_type": "code",
   "execution_count": null,
   "metadata": {
    "ExecuteTime": {
     "end_time": "2020-05-03T04:00:20.747993Z",
     "start_time": "2020-05-03T04:00:20.518539Z"
    }
   },
   "outputs": [],
   "source": []
  },
  {
   "cell_type": "code",
   "execution_count": null,
   "metadata": {},
   "outputs": [],
   "source": []
  }
 ],
 "metadata": {
  "kernelspec": {
   "display_name": "Python 3",
   "language": "python",
   "name": "python3"
  },
  "language_info": {
   "codemirror_mode": {
    "name": "ipython",
    "version": 3
   },
   "file_extension": ".py",
   "mimetype": "text/x-python",
   "name": "python",
   "nbconvert_exporter": "python",
   "pygments_lexer": "ipython3",
   "version": "3.7.7"
  },
  "toc": {
   "base_numbering": 1,
   "nav_menu": {},
   "number_sections": true,
   "sideBar": true,
   "skip_h1_title": false,
   "title_cell": "Table of Contents",
   "title_sidebar": "Contents",
   "toc_cell": false,
   "toc_position": {
    "height": "calc(100% - 180px)",
    "left": "10px",
    "top": "150px",
    "width": "165px"
   },
   "toc_section_display": true,
   "toc_window_display": false
  },
  "varInspector": {
   "cols": {
    "lenName": 16,
    "lenType": 16,
    "lenVar": 40
   },
   "kernels_config": {
    "python": {
     "delete_cmd_postfix": "",
     "delete_cmd_prefix": "del ",
     "library": "var_list.py",
     "varRefreshCmd": "print(var_dic_list())"
    },
    "r": {
     "delete_cmd_postfix": ") ",
     "delete_cmd_prefix": "rm(",
     "library": "var_list.r",
     "varRefreshCmd": "cat(var_dic_list()) "
    }
   },
   "types_to_exclude": [
    "module",
    "function",
    "builtin_function_or_method",
    "instance",
    "_Feature"
   ],
   "window_display": false
  }
 },
 "nbformat": 4,
 "nbformat_minor": 2
}
