{
 "cells": [
  {
   "cell_type": "markdown",
   "metadata": {},
   "source": [
    "# Classifier NNs\n",
    "\n",
    "## NNs summary\n",
    "- **Input: an uncertainty realization vector.**\n",
    "- **Output: a label vector with multiple choices.**\n",
    "\n",
    "\n",
    "\n",
    "- NNs components\n",
    "    - Dense\n",
    "    - BatchNormalization\n",
    "    - DropOut\n",
    "    - SoftMax\n",
    "\n",
    "- Optimizer\n",
    "    - Adam\n",
    "\n",
    "- Loss\n",
    "    - BinaryCrossEntropy\n",
    "\n",
    "- Metric\n",
    "    - Accuracy [%]"
   ]
  },
  {
   "cell_type": "code",
   "execution_count": 1,
   "metadata": {
    "ExecuteTime": {
     "end_time": "2020-05-08T23:50:37.771058Z",
     "start_time": "2020-05-08T23:50:24.700359Z"
    }
   },
   "outputs": [],
   "source": [
    "import pickle\n",
    "import pprint\n",
    "from sklearn.model_selection import train_test_split\n",
    "from os import path\n",
    "\n",
    "from datetime import datetime\n",
    "from packaging import version\n",
    "\n",
    "import tensorflow as tf\n",
    "from tensorflow import keras\n",
    "from tensorflow.keras import layers\n",
    "from tensorflow.keras import metrics\n",
    "\n",
    "import matplotlib.pyplot as plt\n",
    "import numpy as np\n",
    "import seaborn as sns\n",
    "import math"
   ]
  },
  {
   "cell_type": "markdown",
   "metadata": {},
   "source": [
    "## prepare dataset"
   ]
  },
  {
   "cell_type": "code",
   "execution_count": 2,
   "metadata": {
    "ExecuteTime": {
     "end_time": "2020-05-08T23:50:37.776816Z",
     "start_time": "2020-05-08T23:50:37.773352Z"
    }
   },
   "outputs": [],
   "source": [
    "test_cases = [\n",
    "    'pglib_opf_case24_ieee_rts.pickle',\n",
    "    'pglib_opf_case30_ieee.pickle',\n",
    "    'pglib_opf_case57_ieee.pickle',\n",
    "    'pglib_opf_case73_ieee_rts.pickle',\n",
    "    'pglib_opf_case89_pegase.pickle',\n",
    "    'pglib_opf_case118_ieee.pickle',\n",
    "    'pglib_opf_case162_ieee_dtc.pickle',\n",
    "    'pglib_opf_case179_goc.pickle',\n",
    "    'pglib_opf_case200_tamu.pickle',\n",
    "    'pglib_opf_case240_pserc.pickle',\n",
    "    'pglib_opf_case300_ieee.pickle',\n",
    "    'pglib_opf_case500_tamu.pickle',\n",
    "    'pglib_opf_case588_sdet.pickle',\n",
    "#     'pglib_opf_case1354_pegase.pickle',\n",
    "#     'pglib_opf_case1888_rte.pickle',\n",
    "#     'pglib_opf_case1951_rte.pickle',\n",
    "#     'pglib_opf_case2000_tamu.pickle'\n",
    "]"
   ]
  },
  {
   "cell_type": "code",
   "execution_count": 3,
   "metadata": {
    "ExecuteTime": {
     "end_time": "2020-05-08T23:50:37.782304Z",
     "start_time": "2020-05-08T23:50:37.779569Z"
    }
   },
   "outputs": [],
   "source": [
    "# choose a dataset\n",
    "case_idx = 12\n",
    "file_dir = path.join('./datasets/', test_cases[case_idx])"
   ]
  },
  {
   "cell_type": "code",
   "execution_count": 4,
   "metadata": {
    "ExecuteTime": {
     "end_time": "2020-05-08T23:50:38.633373Z",
     "start_time": "2020-05-08T23:50:37.784536Z"
    }
   },
   "outputs": [],
   "source": [
    "infile = open(file_dir,'rb')\n",
    "dataset = pickle.load(infile)\n",
    "infile.close()"
   ]
  },
  {
   "cell_type": "code",
   "execution_count": 5,
   "metadata": {
    "ExecuteTime": {
     "end_time": "2020-05-08T23:50:39.127666Z",
     "start_time": "2020-05-08T23:50:38.635261Z"
    }
   },
   "outputs": [],
   "source": [
    "# train & test\n",
    "x_train, x_test, y_train, y_test = train_test_split(dataset['x'],\n",
    "                                                    dataset['y'],\n",
    "                                                    test_size=0.2,\n",
    "                                                    random_state=19)\n",
    "# train & validation\n",
    "x_train, x_val, y_train, y_val = train_test_split(x_train,\n",
    "                                                  y_train,\n",
    "                                                  test_size=0.2,\n",
    "                                                  random_state=19)"
   ]
  },
  {
   "cell_type": "code",
   "execution_count": 6,
   "metadata": {
    "ExecuteTime": {
     "end_time": "2020-05-08T23:50:39.303937Z",
     "start_time": "2020-05-08T23:50:39.129926Z"
    }
   },
   "outputs": [],
   "source": [
    "x_train = x_train.astype('float32')\n",
    "x_val = x_val.astype('float32')\n",
    "x_test = x_test.astype('float32')\n",
    "\n",
    "y_train = y_train.astype('float32')\n",
    "y_val = y_val.astype('float32')\n",
    "y_test = y_test.astype('float32')"
   ]
  },
  {
   "cell_type": "code",
   "execution_count": 7,
   "metadata": {
    "ExecuteTime": {
     "end_time": "2020-05-08T23:50:39.312170Z",
     "start_time": "2020-05-08T23:50:39.306157Z"
    }
   },
   "outputs": [
    {
     "name": "stdout",
     "output_type": "stream",
     "text": [
      "((32000, 588), (32000, 977))\n",
      "((8000, 588), (8000, 977))\n",
      "((10000, 588), (10000, 977))\n"
     ]
    }
   ],
   "source": [
    "print((x_train.shape, y_train.shape))\n",
    "print((x_val.shape, y_val.shape))\n",
    "print((x_test.shape, y_test.shape))"
   ]
  },
  {
   "cell_type": "markdown",
   "metadata": {},
   "source": [
    "## Set a Classifier Model"
   ]
  },
  {
   "cell_type": "code",
   "execution_count": 8,
   "metadata": {
    "ExecuteTime": {
     "end_time": "2020-05-08T23:50:39.475059Z",
     "start_time": "2020-05-08T23:50:39.318507Z"
    }
   },
   "outputs": [],
   "source": [
    "%load_ext tensorboard\n",
    "# Clear any logs from previous runs\n",
    "!rm -rf ./logs/ "
   ]
  },
  {
   "cell_type": "code",
   "execution_count": 9,
   "metadata": {
    "ExecuteTime": {
     "end_time": "2020-05-08T23:50:39.688910Z",
     "start_time": "2020-05-08T23:50:39.478368Z"
    }
   },
   "outputs": [],
   "source": [
    "inputs = keras.Input(shape=(x_train.shape[1], ), name='uncertainty_realization')\n",
    "\n",
    "x = layers.Dense(x_train.shape[1], activation='relu', name='dense_1')(inputs)\n",
    "x = layers.BatchNormalization(name='bn_1')(x)\n",
    "x = layers.Dropout(rate=0.2, name='dropout_1')(x)\n",
    "\n",
    "x = layers.Dense(x_train.shape[1]*2, activation='relu', name='dense_2')(x)\n",
    "x = layers.BatchNormalization(name='bn_2')(x)\n",
    "x = layers.Dropout(rate=0.2, name='dropout_2')(x)\n",
    "\n",
    "x = layers.Dense(y_train.shape[1], activation='relu', name='dense_3')(x)\n",
    "x = layers.BatchNormalization(name='bn_3')(x)\n",
    "x = layers.Dropout(rate=0.2, name='dropout_3')(x)\n",
    "\n",
    "outputs = layers.Dense(y_train.shape[1], activation='sigmoid', name='sigmoid')(x)\n",
    "\n",
    "model = keras.Model(inputs=inputs, outputs=outputs, name=\"multi-label-classification\")"
   ]
  },
  {
   "cell_type": "code",
   "execution_count": 10,
   "metadata": {
    "ExecuteTime": {
     "end_time": "2020-05-08T23:50:39.745304Z",
     "start_time": "2020-05-08T23:50:39.691784Z"
    }
   },
   "outputs": [],
   "source": [
    "model.compile(\n",
    "    optimizer=keras.optimizers.Adam(),  # Optimizer\n",
    "    # Loss function to minimize\n",
    "    loss=keras.losses.BinaryCrossentropy(),\n",
    "    # List of metrics to monitor\n",
    "    metrics=['binary_accuracy', 'binary_crossentropy'])"
   ]
  },
  {
   "cell_type": "code",
   "execution_count": 11,
   "metadata": {
    "ExecuteTime": {
     "end_time": "2020-05-08T23:50:39.750473Z",
     "start_time": "2020-05-08T23:50:39.747393Z"
    }
   },
   "outputs": [],
   "source": [
    "# Define the Keras TensorBoard callback.\n",
    "logdir=\"logs/fit/\" + datetime.now().strftime(\"%Y%m%d-%H%M%S\")\n",
    "tensorboard_callback = keras.callbacks.TensorBoard(log_dir=logdir)"
   ]
  },
  {
   "cell_type": "code",
   "execution_count": 12,
   "metadata": {
    "ExecuteTime": {
     "end_time": "2020-05-08T23:50:39.759419Z",
     "start_time": "2020-05-08T23:50:39.752570Z"
    }
   },
   "outputs": [
    {
     "name": "stdout",
     "output_type": "stream",
     "text": [
      "Model: \"multi-label-classification\"\n",
      "_________________________________________________________________\n",
      "Layer (type)                 Output Shape              Param #   \n",
      "=================================================================\n",
      "uncertainty_realization (Inp [(None, 588)]             0         \n",
      "_________________________________________________________________\n",
      "dense_1 (Dense)              (None, 588)               346332    \n",
      "_________________________________________________________________\n",
      "bn_1 (BatchNormalization)    (None, 588)               2352      \n",
      "_________________________________________________________________\n",
      "dropout_1 (Dropout)          (None, 588)               0         \n",
      "_________________________________________________________________\n",
      "dense_2 (Dense)              (None, 1176)              692664    \n",
      "_________________________________________________________________\n",
      "bn_2 (BatchNormalization)    (None, 1176)              4704      \n",
      "_________________________________________________________________\n",
      "dropout_2 (Dropout)          (None, 1176)              0         \n",
      "_________________________________________________________________\n",
      "dense_3 (Dense)              (None, 977)               1149929   \n",
      "_________________________________________________________________\n",
      "bn_3 (BatchNormalization)    (None, 977)               3908      \n",
      "_________________________________________________________________\n",
      "dropout_3 (Dropout)          (None, 977)               0         \n",
      "_________________________________________________________________\n",
      "sigmoid (Dense)              (None, 977)               955506    \n",
      "=================================================================\n",
      "Total params: 3,155,395\n",
      "Trainable params: 3,149,913\n",
      "Non-trainable params: 5,482\n",
      "_________________________________________________________________\n"
     ]
    }
   ],
   "source": [
    "model.summary()"
   ]
  },
  {
   "cell_type": "markdown",
   "metadata": {},
   "source": [
    "### Train the Model"
   ]
  },
  {
   "cell_type": "code",
   "execution_count": 13,
   "metadata": {
    "ExecuteTime": {
     "end_time": "2020-05-08T23:51:23.146278Z",
     "start_time": "2020-05-08T23:50:39.761746Z"
    },
    "scrolled": false
   },
   "outputs": [
    {
     "name": "stdout",
     "output_type": "stream",
     "text": [
      "> Fit model on training data\n",
      "Train on 32000 samples, validate on 8000 samples\n",
      "Epoch 1/5\n",
      "32000/32000 [==============================] - 8s 248us/sample - loss: 0.1741 - binary_accuracy: 0.9300 - binary_crossentropy: 0.1741 - val_loss: 0.0029 - val_binary_accuracy: 1.0000 - val_binary_crossentropy: 0.0029\n",
      "Epoch 2/5\n",
      "32000/32000 [==============================] - 8s 243us/sample - loss: 0.0019 - binary_accuracy: 1.0000 - binary_crossentropy: 0.0019 - val_loss: 8.4969e-04 - val_binary_accuracy: 1.0000 - val_binary_crossentropy: 8.4969e-04\n",
      "Epoch 3/5\n",
      "32000/32000 [==============================] - 8s 261us/sample - loss: 6.8756e-04 - binary_accuracy: 1.0000 - binary_crossentropy: 6.8756e-04 - val_loss: 3.3870e-04 - val_binary_accuracy: 1.0000 - val_binary_crossentropy: 3.3870e-04\n",
      "Epoch 4/5\n",
      "32000/32000 [==============================] - 9s 293us/sample - loss: 3.3782e-04 - binary_accuracy: 1.0000 - binary_crossentropy: 3.3782e-04 - val_loss: 1.8549e-04 - val_binary_accuracy: 1.0000 - val_binary_crossentropy: 1.8549e-04\n",
      "Epoch 5/5\n",
      "32000/32000 [==============================] - 10s 308us/sample - loss: 2.0193e-04 - binary_accuracy: 1.0000 - binary_crossentropy: 2.0193e-04 - val_loss: 1.1495e-04 - val_binary_accuracy: 1.0000 - val_binary_crossentropy: 1.1495e-04\n"
     ]
    }
   ],
   "source": [
    "print('> Fit model on training data')\n",
    "history = model.fit(\n",
    "    x_train,\n",
    "    y_train,\n",
    "    batch_size=128,\n",
    "    epochs=5,\n",
    "    validation_data=(x_val, y_val),\n",
    "    callbacks=[tensorboard_callback])"
   ]
  },
  {
   "cell_type": "code",
   "execution_count": 14,
   "metadata": {
    "ExecuteTime": {
     "end_time": "2020-05-08T23:51:23.152504Z",
     "start_time": "2020-05-08T23:51:23.148297Z"
    }
   },
   "outputs": [
    {
     "name": "stdout",
     "output_type": "stream",
     "text": [
      "> History dict:\n",
      "{   'binary_accuracy': [0.9299557, 0.9999946, 0.9999964, 0.99999994, 1.0],\n",
      "    'binary_crossentropy': [   0.17413752,\n",
      "                               0.0019238999,\n",
      "                               0.00068755675,\n",
      "                               0.00033782164,\n",
      "                               0.00020192712],\n",
      "    'loss': [   0.17413743877783416,\n",
      "                0.0019239002419635654,\n",
      "                0.0006875565716763959,\n",
      "                0.0003378217057907023,\n",
      "                0.00020192710385890677],\n",
      "    'val_binary_accuracy': [1.0, 1.0, 1.0, 1.0, 1.0],\n",
      "    'val_binary_crossentropy': [   0.0029243927,\n",
      "                                   0.00084969,\n",
      "                                   0.00033869548,\n",
      "                                   0.00018548922,\n",
      "                                   0.00011494767],\n",
      "    'val_loss': [   0.0029243925139307977,\n",
      "                    0.0008496901015751063,\n",
      "                    0.00033869549864903094,\n",
      "                    0.00018548922683112322,\n",
      "                    0.0001149476642603986]}\n"
     ]
    }
   ],
   "source": [
    "pp = pprint.PrettyPrinter(indent=4)\n",
    "print('> History dict:')\n",
    "pp.pprint(history.history)"
   ]
  },
  {
   "cell_type": "code",
   "execution_count": 15,
   "metadata": {
    "ExecuteTime": {
     "end_time": "2020-05-08T23:51:27.221324Z",
     "start_time": "2020-05-08T23:51:23.154277Z"
    }
   },
   "outputs": [
    {
     "data": {
      "text/html": [
       "\n",
       "      <iframe id=\"tensorboard-frame-39d9ce470b0b8822\" width=\"100%\" height=\"800\" frameborder=\"0\">\n",
       "      </iframe>\n",
       "      <script>\n",
       "        (function() {\n",
       "          const frame = document.getElementById(\"tensorboard-frame-39d9ce470b0b8822\");\n",
       "          const url = new URL(\"/\", window.location);\n",
       "          url.port = 6006;\n",
       "          frame.src = url;\n",
       "        })();\n",
       "      </script>\n",
       "  "
      ],
      "text/plain": [
       "<IPython.core.display.HTML object>"
      ]
     },
     "metadata": {},
     "output_type": "display_data"
    }
   ],
   "source": [
    "%tensorboard --logdir logs"
   ]
  },
  {
   "cell_type": "markdown",
   "metadata": {},
   "source": [
    "### Evaluate the Model"
   ]
  },
  {
   "cell_type": "code",
   "execution_count": 16,
   "metadata": {
    "ExecuteTime": {
     "end_time": "2020-05-08T23:51:29.123289Z",
     "start_time": "2020-05-08T23:51:27.223579Z"
    },
    "scrolled": false
   },
   "outputs": [
    {
     "name": "stdout",
     "output_type": "stream",
     "text": [
      "\n",
      "# Evaluate\n",
      "10000/10000 [==============================] - 2s 186us/sample - loss: 1.1690e-04 - binary_accuracy: 1.0000 - binary_crossentropy: 1.1690e-04\n"
     ]
    },
    {
     "data": {
      "text/plain": [
       "{'loss': 0.00011690368267009035,\n",
       " 'binary_accuracy': 1.0,\n",
       " 'binary_crossentropy': 0.000116903684}"
      ]
     },
     "execution_count": 16,
     "metadata": {},
     "output_type": "execute_result"
    }
   ],
   "source": [
    "print('\\n# Evaluate')\n",
    "result = model.evaluate(x_test, y_test)\n",
    "dict(zip(model.metrics_names, result))"
   ]
  },
  {
   "cell_type": "markdown",
   "metadata": {},
   "source": [
    "### Visualize the prediction"
   ]
  },
  {
   "cell_type": "code",
   "execution_count": 17,
   "metadata": {
    "ExecuteTime": {
     "end_time": "2020-05-08T23:51:31.038122Z",
     "start_time": "2020-05-08T23:51:29.125078Z"
    }
   },
   "outputs": [],
   "source": [
    "y_pred = model.predict(x_test)"
   ]
  },
  {
   "cell_type": "code",
   "execution_count": 18,
   "metadata": {
    "ExecuteTime": {
     "end_time": "2020-05-08T23:51:31.051024Z",
     "start_time": "2020-05-08T23:51:31.039917Z"
    }
   },
   "outputs": [],
   "source": [
    "def result_reshape(data):\n",
    "    result_dim = math.ceil(math.sqrt(len(data)))\n",
    "    reshaped_data = np.zeros((result_dim, result_dim))\n",
    "\n",
    "    for i in range(result_dim):\n",
    "        for j in range(result_dim):\n",
    "            try:\n",
    "                reshaped_data[i][j] = data[result_dim * i + j]\n",
    "            except IndexError:\n",
    "                reshaped_data[i][j] = -1\n",
    "    return reshaped_data\n",
    "\n",
    "\n",
    "def test_vs_pred(y_test, y_pred, data_idx, test_case):\n",
    "    y_test_reshaped = result_reshape(y_test[data_idx])\n",
    "    y_pred_reshaped = result_reshape(y_pred[data_idx])\n",
    "\n",
    "    fig, axes = plt.subplots(nrows=1, ncols=2, figsize=(16, 8))\n",
    "\n",
    "    fig.suptitle('Active Constraints Distribution: ' + test_case.split('.')[0], size=19, y=0.88)\n",
    "    axes[0].set_title('y_test', size=15, y=1.03)\n",
    "    axes[1].set_title('y_pred', size=15, y=1.03)\n",
    "\n",
    "    sns.heatmap(y_test_reshaped,\n",
    "                xticklabels=False,\n",
    "                yticklabels=False,\n",
    "                cbar_kws={'ticks': [-1, 0, 1], 'shrink': .75},\n",
    "                square=True,\n",
    "                ax=axes[0])\n",
    "\n",
    "    sns.heatmap(y_pred_reshaped,\n",
    "                xticklabels=False,\n",
    "                yticklabels=False,\n",
    "                cbar_kws={'ticks': [-1, 0, 1], 'shrink': .75},\n",
    "                square=True,\n",
    "                ax=axes[1])\n",
    "\n",
    "    fig.show()\n",
    "    file_dir = path.join('./figures/', test_case.split('.')[0] + '.png')\n",
    "    fig.savefig(file_dir, format='png')"
   ]
  },
  {
   "cell_type": "markdown",
   "metadata": {},
   "source": [
    "#### Heatmap label:\n",
    "- **1: active constraint**   \n",
    "- **0: inactive constraint**\n",
    "- -1: meaningless data (added cells to make the array as a square matrix)\n"
   ]
  },
  {
   "cell_type": "code",
   "execution_count": 19,
   "metadata": {
    "ExecuteTime": {
     "end_time": "2020-05-08T23:51:31.409737Z",
     "start_time": "2020-05-08T23:51:31.053064Z"
    },
    "scrolled": false
   },
   "outputs": [
    {
     "name": "stderr",
     "output_type": "stream",
     "text": [
      "/Users/jeehyunpark/anaconda3/envs/EE394V/lib/python3.7/site-packages/ipykernel_launcher.py:38: UserWarning: Matplotlib is currently using module://ipykernel.pylab.backend_inline, which is a non-GUI backend, so cannot show the figure.\n"
     ]
    },
    {
     "data": {
      "image/png": "[encoded data removed]",
      "text/plain": [
       "<Figure size 1152x576 with 4 Axes>"
      ]
     },
     "metadata": {
      "needs_background": "light"
     },
     "output_type": "display_data"
    }
   ],
   "source": [
    "data_idx = 55\n",
    "\n",
    "test_vs_pred(y_test, y_pred, data_idx, test_cases[case_idx])"
   ]
  },
  {
   "cell_type": "code",
   "execution_count": 20,
   "metadata": {
    "ExecuteTime": {
     "end_time": "2020-05-08T23:51:31.415114Z",
     "start_time": "2020-05-08T23:51:31.411236Z"
    }
   },
   "outputs": [
    {
     "data": {
      "text/plain": [
       "array([[1., 1., 1., ..., 0., 0., 0.],\n",
       "       [1., 1., 1., ..., 0., 0., 0.],\n",
       "       [1., 1., 1., ..., 0., 0., 0.],\n",
       "       ...,\n",
       "       [1., 1., 1., ..., 0., 0., 0.],\n",
       "       [1., 1., 1., ..., 0., 0., 0.],\n",
       "       [1., 1., 1., ..., 0., 0., 0.]], dtype=float32)"
      ]
     },
     "execution_count": 20,
     "metadata": {},
     "output_type": "execute_result"
    }
   ],
   "source": [
    "y_train"
   ]
  },
  {
   "cell_type": "code",
   "execution_count": null,
   "metadata": {},
   "outputs": [],
   "source": []
  }
 ],
 "metadata": {
  "kernelspec": {
   "display_name": "Python 3",
   "language": "python",
   "name": "python3"
  },
  "language_info": {
   "codemirror_mode": {
    "name": "ipython",
    "version": 3
   },
   "file_extension": ".py",
   "mimetype": "text/x-python",
   "name": "python",
   "nbconvert_exporter": "python",
   "pygments_lexer": "ipython3",
   "version": "3.7.7"
  },
  "toc": {
   "base_numbering": 1,
   "nav_menu": {},
   "number_sections": true,
   "sideBar": true,
   "skip_h1_title": false,
   "title_cell": "Table of Contents",
   "title_sidebar": "Contents",
   "toc_cell": false,
   "toc_position": {
    "height": "calc(100% - 180px)",
    "left": "10px",
    "top": "150px",
    "width": "165px"
   },
   "toc_section_display": true,
   "toc_window_display": false
  },
  "varInspector": {
   "cols": {
    "lenName": 16,
    "lenType": 16,
    "lenVar": 40
   },
   "kernels_config": {
    "python": {
     "delete_cmd_postfix": "",
     "delete_cmd_prefix": "del ",
     "library": "var_list.py",
     "varRefreshCmd": "print(var_dic_list())"
    },
    "r": {
     "delete_cmd_postfix": ") ",
     "delete_cmd_prefix": "rm(",
     "library": "var_list.r",
     "varRefreshCmd": "cat(var_dic_list()) "
    }
   },
   "types_to_exclude": [
    "module",
    "function",
    "builtin_function_or_method",
    "instance",
    "_Feature"
   ],
   "window_display": false
  }
 },
 "nbformat": 4,
 "nbformat_minor": 2
}
