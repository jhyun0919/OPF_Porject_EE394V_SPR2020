{
 "cells": [
  {
   "cell_type": "markdown",
   "metadata": {},
   "source": [
    "# Classifier NNs\n",
    "\n",
    "## NNs summary\n",
    "- NNs components\n",
    "    - Dense\n",
    "    - BatchNormalization\n",
    "    - DropOut\n",
    "    - SoftMax\n",
    "\n",
    "- Optimizer\n",
    "    - Adam\n",
    "\n",
    "- Loss\n",
    "    - BinaryCrossEntropy\n",
    "\n",
    "- Metric\n",
    "    - acc"
   ]
  },
  {
   "cell_type": "markdown",
   "metadata": {},
   "source": [
    "<img src=\"figures/NNs_classifier.png\" style=\"float: left; width: 550px;\"/>  "
   ]
  },
  {
   "cell_type": "code",
   "execution_count": 1,
   "metadata": {
    "ExecuteTime": {
     "end_time": "2020-04-30T03:30:59.607133Z",
     "start_time": "2020-04-30T03:30:56.708466Z"
    }
   },
   "outputs": [],
   "source": [
    "import pickle\n",
    "import pprint\n",
    "from sklearn.model_selection import train_test_split\n",
    "from os import path\n",
    "\n",
    "import tensorflow as tf\n",
    "from tensorflow import keras\n",
    "from tensorflow.keras import layers"
   ]
  },
  {
   "cell_type": "code",
   "execution_count": 2,
   "metadata": {
    "ExecuteTime": {
     "end_time": "2020-04-30T03:30:59.613070Z",
     "start_time": "2020-04-30T03:30:59.609533Z"
    }
   },
   "outputs": [],
   "source": [
    "test_cases = [\n",
    "    'pglib_opf_case24_ieee_rts.pickle', \n",
    "    'pglib_opf_case73_ieee_rts.pickle',\n",
    "    'pglib_opf_case162_ieee_dtc.pickle',\n",
    "    'pglib_opf_case300_ieee.pickle',\n",
    "]"
   ]
  },
  {
   "cell_type": "code",
   "execution_count": 3,
   "metadata": {
    "ExecuteTime": {
     "end_time": "2020-04-30T03:30:59.620947Z",
     "start_time": "2020-04-30T03:30:59.617054Z"
    }
   },
   "outputs": [],
   "source": [
    "# choose a dataset\n",
    "case_idx = 0\n",
    "file_dir = path.join('./datasets/', test_cases[case_idx])"
   ]
  },
  {
   "cell_type": "code",
   "execution_count": 4,
   "metadata": {
    "ExecuteTime": {
     "end_time": "2020-04-30T03:30:59.683952Z",
     "start_time": "2020-04-30T03:30:59.624092Z"
    }
   },
   "outputs": [],
   "source": [
    "infile = open(file_dir,'rb')\n",
    "dataset = pickle.load(infile)\n",
    "infile.close()"
   ]
  },
  {
   "cell_type": "code",
   "execution_count": 5,
   "metadata": {
    "ExecuteTime": {
     "end_time": "2020-04-30T03:30:59.747259Z",
     "start_time": "2020-04-30T03:30:59.686459Z"
    }
   },
   "outputs": [],
   "source": [
    "# train & test\n",
    "x_train, x_test, y_train, y_test = train_test_split(dataset['x'],\n",
    "                                                    dataset['y'],\n",
    "                                                    test_size=0.2,\n",
    "                                                    random_state=19)\n",
    "# train & validation\n",
    "x_train, x_val, y_train, y_val = train_test_split(x_train,\n",
    "                                                  y_train,\n",
    "                                                  test_size=0.2,\n",
    "                                                  random_state=19)"
   ]
  },
  {
   "cell_type": "code",
   "execution_count": 6,
   "metadata": {
    "ExecuteTime": {
     "end_time": "2020-04-30T03:30:59.773435Z",
     "start_time": "2020-04-30T03:30:59.749776Z"
    }
   },
   "outputs": [],
   "source": [
    "x_train = x_train.astype('float32')\n",
    "x_val = x_val.astype('float32')\n",
    "x_test = x_test.astype('float32')\n",
    "\n",
    "y_train = y_train.astype('float32')\n",
    "y_val = y_val.astype('float32')\n",
    "y_test = y_test.astype('float32')"
   ]
  },
  {
   "cell_type": "code",
   "execution_count": 7,
   "metadata": {
    "ExecuteTime": {
     "end_time": "2020-04-30T03:30:59.781541Z",
     "start_time": "2020-04-30T03:30:59.775770Z"
    }
   },
   "outputs": [
    {
     "name": "stdout",
     "output_type": "stream",
     "text": [
      "((32000, 24), (32000, 82))\n",
      "((8000, 24), (8000, 82))\n",
      "((10000, 24), (10000, 82))\n"
     ]
    }
   ],
   "source": [
    "print((x_train.shape, y_train.shape))\n",
    "print((x_val.shape, y_val.shape))\n",
    "print((x_test.shape, y_test.shape))"
   ]
  },
  {
   "cell_type": "code",
   "execution_count": 8,
   "metadata": {
    "ExecuteTime": {
     "end_time": "2020-04-30T03:31:00.106745Z",
     "start_time": "2020-04-30T03:30:59.788623Z"
    }
   },
   "outputs": [],
   "source": [
    "inputs = keras.Input(shape=(x_train.shape[1], ), name='uncertainty_realization')\n",
    "\n",
    "x = layers.Dense(64, activation='relu', name='dense_1')(inputs)\n",
    "x = layers.BatchNormalization(name='bn_1')(x)\n",
    "x = layers.Dropout(rate=0.2, name='dropout_1')(x)\n",
    "\n",
    "x = layers.Dense(128, activation='relu', name='dense_2')(x)\n",
    "x = layers.BatchNormalization(name='bn_2')(x)\n",
    "x = layers.Dropout(rate=0.2, name='dropout_2')(x)\n",
    "\n",
    "x = layers.Dense(64, activation='relu', name='dense_3')(x)\n",
    "x = layers.BatchNormalization(name='bn_3')(x)\n",
    "x = layers.Dropout(rate=0.2, name='dropout_3')(x\n",
    "                                              )\n",
    "outputs = layers.Dense(y_train.shape[1], name='predictions')(x)\n",
    "\n",
    "model = keras.Model(inputs=inputs, outputs=outputs)"
   ]
  },
  {
   "cell_type": "code",
   "execution_count": 9,
   "metadata": {
    "ExecuteTime": {
     "end_time": "2020-04-30T03:31:00.158737Z",
     "start_time": "2020-04-30T03:31:00.111447Z"
    }
   },
   "outputs": [],
   "source": [
    "model.compile(\n",
    "    optimizer=keras.optimizers.Adam(),  # Optimizer\n",
    "    # Loss function to minimize\n",
    "    loss=keras.losses.BinaryCrossentropy(),\n",
    "    # List of metrics to monitor\n",
    "    metrics=['acc'])"
   ]
  },
  {
   "cell_type": "code",
   "execution_count": 10,
   "metadata": {
    "ExecuteTime": {
     "end_time": "2020-04-30T03:31:00.169920Z",
     "start_time": "2020-04-30T03:31:00.161130Z"
    }
   },
   "outputs": [
    {
     "name": "stdout",
     "output_type": "stream",
     "text": [
      "Model: \"model\"\n",
      "_________________________________________________________________\n",
      "Layer (type)                 Output Shape              Param #   \n",
      "=================================================================\n",
      "uncertainty_realization (Inp [(None, 24)]              0         \n",
      "_________________________________________________________________\n",
      "dense_1 (Dense)              (None, 64)                1600      \n",
      "_________________________________________________________________\n",
      "bn_1 (BatchNormalization)    (None, 64)                256       \n",
      "_________________________________________________________________\n",
      "dropout_1 (Dropout)          (None, 64)                0         \n",
      "_________________________________________________________________\n",
      "dense_2 (Dense)              (None, 128)               8320      \n",
      "_________________________________________________________________\n",
      "bn_2 (BatchNormalization)    (None, 128)               512       \n",
      "_________________________________________________________________\n",
      "dropout_2 (Dropout)          (None, 128)               0         \n",
      "_________________________________________________________________\n",
      "dense_3 (Dense)              (None, 64)                8256      \n",
      "_________________________________________________________________\n",
      "bn_3 (BatchNormalization)    (None, 64)                256       \n",
      "_________________________________________________________________\n",
      "dropout_3 (Dropout)          (None, 64)                0         \n",
      "_________________________________________________________________\n",
      "predictions (Dense)          (None, 82)                5330      \n",
      "=================================================================\n",
      "Total params: 24,530\n",
      "Trainable params: 24,018\n",
      "Non-trainable params: 512\n",
      "_________________________________________________________________\n"
     ]
    }
   ],
   "source": [
    "model.summary()"
   ]
  },
  {
   "cell_type": "code",
   "execution_count": 11,
   "metadata": {
    "ExecuteTime": {
     "end_time": "2020-04-30T03:31:22.673918Z",
     "start_time": "2020-04-30T03:31:00.172574Z"
    },
    "scrolled": false
   },
   "outputs": [
    {
     "name": "stdout",
     "output_type": "stream",
     "text": [
      "> Fit model on training data\n",
      "Train on 32000 samples, validate on 8000 samples\n",
      "Epoch 1/8\n",
      "32000/32000 [==============================] - 4s 116us/sample - loss: 2.4356 - acc: 0.7435 - val_loss: 1.1520 - val_acc: 0.8913\n",
      "Epoch 2/8\n",
      "32000/32000 [==============================] - 2s 74us/sample - loss: 1.1958 - acc: 0.8819 - val_loss: 0.7545 - val_acc: 0.9366\n",
      "Epoch 3/8\n",
      "32000/32000 [==============================] - 3s 79us/sample - loss: 0.6766 - acc: 0.9332 - val_loss: 0.3428 - val_acc: 0.9710\n",
      "Epoch 4/8\n",
      "32000/32000 [==============================] - 3s 84us/sample - loss: 0.2747 - acc: 0.9693 - val_loss: 0.1125 - val_acc: 0.9911\n",
      "Epoch 5/8\n",
      "32000/32000 [==============================] - 3s 94us/sample - loss: 0.1037 - acc: 0.9882 - val_loss: 0.0404 - val_acc: 0.9968\n",
      "Epoch 6/8\n",
      "32000/32000 [==============================] - 3s 81us/sample - loss: 0.0339 - acc: 0.9957 - val_loss: 0.0018 - val_acc: 0.9998\n",
      "Epoch 7/8\n",
      "32000/32000 [==============================] - 3s 84us/sample - loss: 0.0096 - acc: 0.9982 - val_loss: 2.6386e-06 - val_acc: 1.0000\n",
      "Epoch 8/8\n",
      "32000/32000 [==============================] - 3s 87us/sample - loss: 0.0034 - acc: 0.9994 - val_loss: 0.0000e+00 - val_acc: 1.0000\n"
     ]
    }
   ],
   "source": [
    "print('> Fit model on training data')\n",
    "history = model.fit(\n",
    "    x_train,\n",
    "    y_train,\n",
    "    batch_size=32,\n",
    "    epochs=8,\n",
    "    # We pass some validation for\n",
    "    # monitoring validation loss and metrics\n",
    "    # at the end of each epoch\n",
    "    validation_data=(x_val, y_val))"
   ]
  },
  {
   "cell_type": "code",
   "execution_count": 12,
   "metadata": {
    "ExecuteTime": {
     "end_time": "2020-04-30T03:31:22.682765Z",
     "start_time": "2020-04-30T03:31:22.676390Z"
    }
   },
   "outputs": [
    {
     "name": "stdout",
     "output_type": "stream",
     "text": [
      "> History dict:\n",
      "{   'acc': [   0.74351764,\n",
      "               0.8819245,\n",
      "               0.9332394,\n",
      "               0.9692562,\n",
      "               0.98819107,\n",
      "               0.995652,\n",
      "               0.9981577,\n",
      "               0.9994129],\n",
      "    'loss': [   2.435572667121887,\n",
      "                1.1958334478735924,\n",
      "                0.6766350555419922,\n",
      "                0.27468075984716417,\n",
      "                0.10374657178111374,\n",
      "                0.033875535631901585,\n",
      "                0.009621334598188695,\n",
      "                0.0033639278715581894],\n",
      "    'val_acc': [   0.8913385,\n",
      "                   0.93656534,\n",
      "                   0.97099066,\n",
      "                   0.9911174,\n",
      "                   0.9967573,\n",
      "                   0.9997711,\n",
      "                   1.0,\n",
      "                   1.0],\n",
      "    'val_loss': [   1.151975214958191,\n",
      "                    0.7545073247551918,\n",
      "                    0.3428191515803337,\n",
      "                    0.11253948998078704,\n",
      "                    0.04039800438261591,\n",
      "                    0.0017848335202834279,\n",
      "                    2.6385517833205085e-06,\n",
      "                    0.0]}\n"
     ]
    }
   ],
   "source": [
    "pp = pprint.PrettyPrinter(indent=4)\n",
    "print('> History dict:')\n",
    "pp.pprint(history.history)"
   ]
  },
  {
   "cell_type": "code",
   "execution_count": null,
   "metadata": {},
   "outputs": [],
   "source": []
  }
 ],
 "metadata": {
  "kernelspec": {
   "display_name": "Python 3",
   "language": "python",
   "name": "python3"
  },
  "language_info": {
   "codemirror_mode": {
    "name": "ipython",
    "version": 3
   },
   "file_extension": ".py",
   "mimetype": "text/x-python",
   "name": "python",
   "nbconvert_exporter": "python",
   "pygments_lexer": "ipython3",
   "version": "3.7.7"
  },
  "toc": {
   "base_numbering": 1,
   "nav_menu": {},
   "number_sections": true,
   "sideBar": true,
   "skip_h1_title": false,
   "title_cell": "Table of Contents",
   "title_sidebar": "Contents",
   "toc_cell": false,
   "toc_position": {},
   "toc_section_display": true,
   "toc_window_display": true
  },
  "varInspector": {
   "cols": {
    "lenName": 16,
    "lenType": 16,
    "lenVar": 40
   },
   "kernels_config": {
    "python": {
     "delete_cmd_postfix": "",
     "delete_cmd_prefix": "del ",
     "library": "var_list.py",
     "varRefreshCmd": "print(var_dic_list())"
    },
    "r": {
     "delete_cmd_postfix": ") ",
     "delete_cmd_prefix": "rm(",
     "library": "var_list.r",
     "varRefreshCmd": "cat(var_dic_list()) "
    }
   },
   "types_to_exclude": [
    "module",
    "function",
    "builtin_function_or_method",
    "instance",
    "_Feature"
   ],
   "window_display": false
  }
 },
 "nbformat": 4,
 "nbformat_minor": 2
}
