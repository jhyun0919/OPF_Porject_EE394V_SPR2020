{
 "cells": [
  {
   "cell_type": "markdown",
   "metadata": {},
   "source": [
    "# Pre-process for Deep Learning\n",
    "\n",
    "## NNs Classifier [1]\n",
    "- **Input** = w_i \n",
    "    - Uncertainty realization vector, w.\n",
    "    - where i = 0,··· ,k−1 where k is the number of _injection nodes_.\n",
    "- **Output** = y_i \n",
    "    - k length binary vector that takes a value of 1 for the true active set and zero otherwise.\n",
    "    - where i = 0,··· ,k−1 where k is the number of _candidate active sets_.  \n",
    "    \n",
    "    \n",
    "<p>    \n",
    "<img src=\"figures/NNs_classifier.png\" style=\"float: left; width: 550px;\"/>  "
   ]
  },
  {
   "cell_type": "code",
   "execution_count": 1,
   "metadata": {
    "ExecuteTime": {
     "end_time": "2020-04-27T06:03:25.413221Z",
     "start_time": "2020-04-27T06:03:25.055466Z"
    }
   },
   "outputs": [],
   "source": [
    "import pickle\n",
    "from build_dataset import *"
   ]
  },
  {
   "cell_type": "code",
   "execution_count": 2,
   "metadata": {
    "ExecuteTime": {
     "end_time": "2020-04-27T06:03:25.521670Z",
     "start_time": "2020-04-27T06:03:25.442561Z"
    }
   },
   "outputs": [],
   "source": [
    "infile = open('../pglib-opf-master/opf_dataset.pickle','rb')\n",
    "opf_data_dict = pickle.load(infile)\n",
    "infile.close()"
   ]
  },
  {
   "cell_type": "code",
   "execution_count": 3,
   "metadata": {
    "ExecuteTime": {
     "end_time": "2020-04-27T06:03:31.374114Z",
     "start_time": "2020-04-27T06:03:31.371746Z"
    }
   },
   "outputs": [],
   "source": [
    "# select datasets for the experiments\n",
    "test_cases = [\n",
    "#     'pglib_opf_case24_ieee_rts.m', \n",
    "    'pglib_opf_case30_ieee.m',\n",
    "    'pglib_opf_case39_epri.m',\n",
    "    'pglib_opf_case57_ieee.m',\n",
    "    'pglib_opf_case73_ieee_rts.m',\n",
    "    'pglib_opf_case118_ieee.m',\n",
    "    'pglib_opf_case162_ieee_dtc.m',\n",
    "    'pglib_opf_case300_ieee.m',\n",
    "    'pglib_opf_case1888_rte.m',\n",
    "]"
   ]
  },
  {
   "cell_type": "code",
   "execution_count": null,
   "metadata": {
    "ExecuteTime": {
     "start_time": "2020-04-27T06:03:25.582Z"
    }
   },
   "outputs": [
    {
     "name": "stderr",
     "output_type": "stream",
     "text": [
      "  0%|          | 3/13259 [00:00<07:27, 29.65it/s]"
     ]
    },
    {
     "name": "stdout",
     "output_type": "stream",
     "text": [
      "> pglib_opf_case30_ieee.m\n"
     ]
    },
    {
     "name": "stderr",
     "output_type": "stream",
     "text": [
      "  7%|▋         | 876/13259 [00:23<05:16, 39.18it/s]"
     ]
    }
   ],
   "source": [
    "build_dataset_for_learning(opf_data_dict, test_cases)"
   ]
  },
  {
   "cell_type": "code",
   "execution_count": null,
   "metadata": {},
   "outputs": [],
   "source": []
  },
  {
   "cell_type": "code",
   "execution_count": null,
   "metadata": {},
   "outputs": [],
   "source": []
  },
  {
   "cell_type": "markdown",
   "metadata": {},
   "source": [
    "# Reference"
   ]
  },
  {
   "cell_type": "markdown",
   "metadata": {},
   "source": [
    "[1] D. Deka and S. Misra. “Learning for DC-OPF: Classifying active sets using neural nets,” 2019 IEEE Milan PowerTech,2019.  "
   ]
  }
 ],
 "metadata": {
  "kernelspec": {
   "display_name": "Python 3",
   "language": "python",
   "name": "python3"
  },
  "language_info": {
   "codemirror_mode": {
    "name": "ipython",
    "version": 3
   },
   "file_extension": ".py",
   "mimetype": "text/x-python",
   "name": "python",
   "nbconvert_exporter": "python",
   "pygments_lexer": "ipython3",
   "version": "3.7.7"
  },
  "toc": {
   "base_numbering": 1,
   "nav_menu": {},
   "number_sections": true,
   "sideBar": true,
   "skip_h1_title": false,
   "title_cell": "Table of Contents",
   "title_sidebar": "Contents",
   "toc_cell": false,
   "toc_position": {},
   "toc_section_display": true,
   "toc_window_display": false
  },
  "varInspector": {
   "cols": {
    "lenName": 16,
    "lenType": 16,
    "lenVar": 40
   },
   "kernels_config": {
    "python": {
     "delete_cmd_postfix": "",
     "delete_cmd_prefix": "del ",
     "library": "var_list.py",
     "varRefreshCmd": "print(var_dic_list())"
    },
    "r": {
     "delete_cmd_postfix": ") ",
     "delete_cmd_prefix": "rm(",
     "library": "var_list.r",
     "varRefreshCmd": "cat(var_dic_list()) "
    }
   },
   "types_to_exclude": [
    "module",
    "function",
    "builtin_function_or_method",
    "instance",
    "_Feature"
   ],
   "window_display": false
  }
 },
 "nbformat": 4,
 "nbformat_minor": 4
}
