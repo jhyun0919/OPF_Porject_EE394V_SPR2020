{
 "cells": [
  {
   "cell_type": "code",
   "execution_count": 2,
   "metadata": {
    "ExecuteTime": {
     "end_time": "2020-04-04T20:10:30.528816Z",
     "start_time": "2020-04-04T20:10:29.445118Z"
    }
   },
   "outputs": [],
   "source": [
    "import numpy as np\n",
    "import matlab.engine"
   ]
  },
  {
   "cell_type": "code",
   "execution_count": 3,
   "metadata": {
    "ExecuteTime": {
     "end_time": "2020-04-04T20:10:30.535430Z",
     "start_time": "2020-04-04T20:10:30.531340Z"
    }
   },
   "outputs": [],
   "source": [
    "import glob\n",
    "m_list = glob.glob(\"*.m\")"
   ]
  },
  {
   "cell_type": "code",
   "execution_count": 4,
   "metadata": {
    "ExecuteTime": {
     "end_time": "2020-04-04T20:10:30.545569Z",
     "start_time": "2020-04-04T20:10:30.537510Z"
    }
   },
   "outputs": [
    {
     "data": {
      "text/plain": [
       "['pglib_opf_case2746wop_k.m',\n",
       " 'pglib_opf_case2746wp_k.m',\n",
       " 'pglib_opf_case13659_pegase.m',\n",
       " 'pglib_opf_case2000_tamu.m',\n",
       " 'pglib_opf_case6470_rte.m',\n",
       " 'pglib_opf_case6515_rte.m',\n",
       " 'pglib_opf_case3375wp_k.m',\n",
       " 'pglib_opf_case162_ieee_dtc.m',\n",
       " 'pglib_opf_case118_ieee.m',\n",
       " 'pglib_opf_case2737sop_k.m',\n",
       " 'pglib_opf_case500_tamu.m',\n",
       " 'pglib_opf_case89_pegase.m',\n",
       " 'pglib_opf_case2868_rte.m',\n",
       " 'pglib_opf_case3120sp_k.m',\n",
       " 'pglib_opf_case2736sp_k.m',\n",
       " 'pglib_opf_case9241_pegase.m',\n",
       " 'pglib_opf_case3012wp_k.m',\n",
       " 'pglib_opf_case200_tamu.m',\n",
       " 'pglib_opf_case240_pserc.m',\n",
       " 'pglib_opf_case4661_sdet.m',\n",
       " 'pglib_opf_case30_as.m',\n",
       " 'pglib_opf_case2848_rte.m',\n",
       " 'pglib_opf_case6468_rte.m',\n",
       " 'pglib_opf_case6495_rte.m',\n",
       " 'pglib_opf_case588_sdet.m',\n",
       " 'pglib_opf_case24_ieee_rts.m',\n",
       " 'pglib_opf_case57_ieee.m',\n",
       " 'pglib_opf_case2383wp_k.m',\n",
       " 'pglib_opf_case3_lmbd.m',\n",
       " 'pglib_opf_case10000_tamu.m',\n",
       " 'pglib_opf_case179_goc.m',\n",
       " 'pglib_opf_case14_ieee.m',\n",
       " 'pglib_opf_case1888_rte.m',\n",
       " 'pglib_opf_case2869_pegase.m',\n",
       " 'pglib_opf_case30_ieee.m',\n",
       " 'pglib_opf_case39_epri.m',\n",
       " 'pglib_opf_case30_fsr.m',\n",
       " 'pglib_opf_case2316_sdet.m',\n",
       " 'pglib_opf_case1354_pegase.m',\n",
       " 'pglib_opf_case300_ieee.m',\n",
       " 'pglib_opf_case73_ieee_rts.m',\n",
       " 'pglib_opf_case2853_sdet.m',\n",
       " 'pglib_opf_case5_pjm.m',\n",
       " 'pglib_opf_case1951_rte.m']"
      ]
     },
     "execution_count": 4,
     "metadata": {},
     "output_type": "execute_result"
    }
   ],
   "source": [
    "m_list"
   ]
  },
  {
   "cell_type": "code",
   "execution_count": 5,
   "metadata": {
    "ExecuteTime": {
     "end_time": "2020-04-04T20:10:32.536941Z",
     "start_time": "2020-04-04T20:10:30.547446Z"
    }
   },
   "outputs": [],
   "source": [
    "eng = matlab.engine.start_matlab()"
   ]
  },
  {
   "cell_type": "code",
   "execution_count": 6,
   "metadata": {
    "ExecuteTime": {
     "end_time": "2020-04-04T20:10:32.546608Z",
     "start_time": "2020-04-04T20:10:32.538804Z"
    }
   },
   "outputs": [],
   "source": [
    "dispatcher = {\n",
    "    'pglib_opf_case2746wop_k.m': eng.pglib_opf_case2746wop_k,\n",
    "    'pglib_opf_case2746wp_k.m': eng.pglib_opf_case2746wp_k,\n",
    "    'pglib_opf_case13659_pegase.m': eng.pglib_opf_case13659_pegase,\n",
    "    'pglib_opf_case2000_tamu.m': eng.pglib_opf_case2000_tamu,\n",
    "    'pglib_opf_case6470_rte.m': eng.pglib_opf_case6470_rte,\n",
    "    'pglib_opf_case6515_rte.m': eng.pglib_opf_case6515_rte,\n",
    "    'pglib_opf_case3375wp_k.m': eng.pglib_opf_case3375wp_k,\n",
    "    'pglib_opf_case162_ieee_dtc.m': eng.pglib_opf_case162_ieee_dtc,\n",
    "    'pglib_opf_case118_ieee.m': eng.pglib_opf_case118_ieee,\n",
    "    'pglib_opf_case2737sop_k.m': eng.pglib_opf_case2737sop_k,\n",
    "    'pglib_opf_case500_tamu.m': eng.pglib_opf_case500_tamu,\n",
    "    'pglib_opf_case89_pegase.m': eng.pglib_opf_case89_pegase,\n",
    "    'pglib_opf_case2868_rte.m': eng.pglib_opf_case2868_rte,\n",
    "    'pglib_opf_case3120sp_k.m': eng.pglib_opf_case3120sp_k,\n",
    "    'pglib_opf_case2736sp_k.m': eng.pglib_opf_case2736sp_k,\n",
    "    'pglib_opf_case9241_pegase.m': eng.pglib_opf_case9241_pegase,\n",
    "    'pglib_opf_case3012wp_k.m': eng.pglib_opf_case3012wp_k,\n",
    "    'pglib_opf_case200_tamu.m': eng.pglib_opf_case200_tamu,\n",
    "    'pglib_opf_case240_pserc.m': eng.pglib_opf_case240_pserc,\n",
    "    'pglib_opf_case4661_sdet.m': eng.pglib_opf_case4661_sdet,\n",
    "    'pglib_opf_case30_as.m': eng.pglib_opf_case30_as,\n",
    "    'pglib_opf_case2848_rte.m': eng.pglib_opf_case2848_rte,\n",
    "    'pglib_opf_case6468_rte.m': eng.pglib_opf_case6468_rte,\n",
    "    'pglib_opf_case6495_rte.m': eng.pglib_opf_case6495_rte,\n",
    "    'pglib_opf_case588_sdet.m': eng.pglib_opf_case588_sdet,\n",
    "    'pglib_opf_case24_ieee_rts.m': eng.pglib_opf_case24_ieee_rts,\n",
    "    'pglib_opf_case57_ieee.m': eng.pglib_opf_case57_ieee,\n",
    "    'pglib_opf_case2383wp_k.m': eng.pglib_opf_case2383wp_k,\n",
    "    'pglib_opf_case3_lmbd.m': eng.pglib_opf_case3_lmbd,\n",
    "    'pglib_opf_case10000_tamu.m': eng.pglib_opf_case10000_tamu,\n",
    "    'pglib_opf_case179_goc.m': eng.pglib_opf_case179_goc,\n",
    "    'pglib_opf_case14_ieee.m': eng.pglib_opf_case14_ieee,\n",
    "    'pglib_opf_case1888_rte.m': eng.pglib_opf_case1888_rte,\n",
    "    'pglib_opf_case2869_pegase.m': eng.pglib_opf_case2869_pegase,\n",
    "    'pglib_opf_case30_ieee.m': eng.pglib_opf_case30_ieee,\n",
    "    'pglib_opf_case39_epri.m': eng.pglib_opf_case39_epri,\n",
    "    'pglib_opf_case30_fsr.m': eng.pglib_opf_case30_fsr,\n",
    "    'pglib_opf_case2316_sdet.m': eng.pglib_opf_case2316_sdet,\n",
    "    'pglib_opf_case1354_pegase.m': eng.pglib_opf_case1354_pegase,\n",
    "    'pglib_opf_case300_ieee.m': eng.pglib_opf_case300_ieee,\n",
    "    'pglib_opf_case73_ieee_rts.m': eng.pglib_opf_case73_ieee_rts,\n",
    "    'pglib_opf_case2853_sdet.m': eng.pglib_opf_case2853_sdet,\n",
    "    'pglib_opf_case5_pjm.m': eng.pglib_opf_case5_pjm,\n",
    "    'pglib_opf_case1951_rte.m': eng.pglib_opf_case1951_rte\n",
    "}"
   ]
  },
  {
   "cell_type": "code",
   "execution_count": 7,
   "metadata": {
    "ExecuteTime": {
     "end_time": "2020-04-04T20:10:55.697532Z",
     "start_time": "2020-04-04T20:10:32.548212Z"
    }
   },
   "outputs": [],
   "source": [
    "opf_data_dict = {}\n",
    "\n",
    "for m_func in m_list:\n",
    "    mpc = dispatcher[m_func]()\n",
    "    \n",
    "    for key in mpc.keys():\n",
    "        if type(mpc[key]) == matlab.double:\n",
    "            mpc[key] = np.asarray(mpc[key])\n",
    "    opf_data_dict[m_func] = mpc"
   ]
  },
  {
   "cell_type": "code",
   "execution_count": 8,
   "metadata": {
    "ExecuteTime": {
     "end_time": "2020-04-04T20:10:55.701209Z",
     "start_time": "2020-04-04T20:10:55.699001Z"
    }
   },
   "outputs": [],
   "source": [
    "# opf_data_dict"
   ]
  },
  {
   "cell_type": "code",
   "execution_count": 9,
   "metadata": {
    "ExecuteTime": {
     "end_time": "2020-04-04T20:10:55.707311Z",
     "start_time": "2020-04-04T20:10:55.705017Z"
    }
   },
   "outputs": [],
   "source": [
    "import pickle"
   ]
  },
  {
   "cell_type": "code",
   "execution_count": 10,
   "metadata": {
    "ExecuteTime": {
     "end_time": "2020-04-04T20:10:55.734062Z",
     "start_time": "2020-04-04T20:10:55.710093Z"
    }
   },
   "outputs": [],
   "source": [
    "filename = 'opf_data.pickle'\n",
    "outfile = open(filename,'wb')\n",
    "pickle.dump(opf_data_dict, outfile)\n",
    "outfile.close()"
   ]
  },
  {
   "cell_type": "code",
   "execution_count": null,
   "metadata": {},
   "outputs": [],
   "source": []
  }
 ],
 "metadata": {
  "kernelspec": {
   "display_name": "Python 3",
   "language": "python",
   "name": "python3"
  },
  "language_info": {
   "codemirror_mode": {
    "name": "ipython",
    "version": 3
   },
   "file_extension": ".py",
   "mimetype": "text/x-python",
   "name": "python",
   "nbconvert_exporter": "python",
   "pygments_lexer": "ipython3",
   "version": "3.7.7"
  },
  "toc": {
   "base_numbering": 1,
   "nav_menu": {},
   "number_sections": true,
   "sideBar": true,
   "skip_h1_title": false,
   "title_cell": "Table of Contents",
   "title_sidebar": "Contents",
   "toc_cell": false,
   "toc_position": {},
   "toc_section_display": true,
   "toc_window_display": false
  },
  "varInspector": {
   "cols": {
    "lenName": 16,
    "lenType": 16,
    "lenVar": 40
   },
   "kernels_config": {
    "python": {
     "delete_cmd_postfix": "",
     "delete_cmd_prefix": "del ",
     "library": "var_list.py",
     "varRefreshCmd": "print(var_dic_list())"
    },
    "r": {
     "delete_cmd_postfix": ") ",
     "delete_cmd_prefix": "rm(",
     "library": "var_list.r",
     "varRefreshCmd": "cat(var_dic_list()) "
    }
   },
   "types_to_exclude": [
    "module",
    "function",
    "builtin_function_or_method",
    "instance",
    "_Feature"
   ],
   "window_display": false
  }
 },
 "nbformat": 4,
 "nbformat_minor": 4
}
