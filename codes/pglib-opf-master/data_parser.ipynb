{
 "cells": [
  {
   "cell_type": "markdown",
   "metadata": {},
   "source": [
    "# Load ___.m dataset"
   ]
  },
  {
   "cell_type": "code",
   "execution_count": 1,
   "metadata": {
    "ExecuteTime": {
     "end_time": "2020-04-05T00:26:08.929635Z",
     "start_time": "2020-04-05T00:26:07.092616Z"
    }
   },
   "outputs": [],
   "source": [
    "import numpy as np\n",
    "import pandas as pd\n",
    "from tqdm import trange\n",
    "import matlab.engine\n",
    "import glob"
   ]
  },
  {
   "cell_type": "code",
   "execution_count": 2,
   "metadata": {
    "ExecuteTime": {
     "end_time": "2020-04-05T00:26:08.934045Z",
     "start_time": "2020-04-05T00:26:08.931358Z"
    }
   },
   "outputs": [],
   "source": [
    "m_list = glob.glob(\"*.m\")"
   ]
  },
  {
   "cell_type": "code",
   "execution_count": 3,
   "metadata": {
    "ExecuteTime": {
     "end_time": "2020-04-05T00:26:10.912766Z",
     "start_time": "2020-04-05T00:26:08.936483Z"
    }
   },
   "outputs": [],
   "source": [
    "eng = matlab.engine.start_matlab()"
   ]
  },
  {
   "cell_type": "code",
   "execution_count": 4,
   "metadata": {
    "ExecuteTime": {
     "end_time": "2020-04-05T00:26:10.923915Z",
     "start_time": "2020-04-05T00:26:10.915220Z"
    }
   },
   "outputs": [],
   "source": [
    "dispatcher = {\n",
    "    'pglib_opf_case2746wop_k.m': eng.pglib_opf_case2746wop_k,\n",
    "    'pglib_opf_case2746wp_k.m': eng.pglib_opf_case2746wp_k,\n",
    "    'pglib_opf_case13659_pegase.m': eng.pglib_opf_case13659_pegase,\n",
    "    'pglib_opf_case2000_tamu.m': eng.pglib_opf_case2000_tamu,\n",
    "    'pglib_opf_case6470_rte.m': eng.pglib_opf_case6470_rte,\n",
    "    'pglib_opf_case6515_rte.m': eng.pglib_opf_case6515_rte,\n",
    "    'pglib_opf_case3375wp_k.m': eng.pglib_opf_case3375wp_k,\n",
    "    'pglib_opf_case162_ieee_dtc.m': eng.pglib_opf_case162_ieee_dtc,\n",
    "    'pglib_opf_case118_ieee.m': eng.pglib_opf_case118_ieee,\n",
    "    'pglib_opf_case2737sop_k.m': eng.pglib_opf_case2737sop_k,\n",
    "    'pglib_opf_case500_tamu.m': eng.pglib_opf_case500_tamu,\n",
    "    'pglib_opf_case89_pegase.m': eng.pglib_opf_case89_pegase,\n",
    "    'pglib_opf_case2868_rte.m': eng.pglib_opf_case2868_rte,\n",
    "    'pglib_opf_case3120sp_k.m': eng.pglib_opf_case3120sp_k,\n",
    "    'pglib_opf_case2736sp_k.m': eng.pglib_opf_case2736sp_k,\n",
    "    'pglib_opf_case9241_pegase.m': eng.pglib_opf_case9241_pegase,\n",
    "    'pglib_opf_case3012wp_k.m': eng.pglib_opf_case3012wp_k,\n",
    "    'pglib_opf_case200_tamu.m': eng.pglib_opf_case200_tamu,\n",
    "    'pglib_opf_case240_pserc.m': eng.pglib_opf_case240_pserc,\n",
    "    'pglib_opf_case4661_sdet.m': eng.pglib_opf_case4661_sdet,\n",
    "    'pglib_opf_case30_as.m': eng.pglib_opf_case30_as,\n",
    "    'pglib_opf_case2848_rte.m': eng.pglib_opf_case2848_rte,\n",
    "    'pglib_opf_case6468_rte.m': eng.pglib_opf_case6468_rte,\n",
    "    'pglib_opf_case6495_rte.m': eng.pglib_opf_case6495_rte,\n",
    "    'pglib_opf_case588_sdet.m': eng.pglib_opf_case588_sdet,\n",
    "    'pglib_opf_case24_ieee_rts.m': eng.pglib_opf_case24_ieee_rts,\n",
    "    'pglib_opf_case57_ieee.m': eng.pglib_opf_case57_ieee,\n",
    "    'pglib_opf_case2383wp_k.m': eng.pglib_opf_case2383wp_k,\n",
    "    'pglib_opf_case3_lmbd.m': eng.pglib_opf_case3_lmbd,\n",
    "    'pglib_opf_case10000_tamu.m': eng.pglib_opf_case10000_tamu,\n",
    "    'pglib_opf_case179_goc.m': eng.pglib_opf_case179_goc,\n",
    "    'pglib_opf_case14_ieee.m': eng.pglib_opf_case14_ieee,\n",
    "    'pglib_opf_case1888_rte.m': eng.pglib_opf_case1888_rte,\n",
    "    'pglib_opf_case2869_pegase.m': eng.pglib_opf_case2869_pegase,\n",
    "    'pglib_opf_case30_ieee.m': eng.pglib_opf_case30_ieee,\n",
    "    'pglib_opf_case39_epri.m': eng.pglib_opf_case39_epri,\n",
    "    'pglib_opf_case30_fsr.m': eng.pglib_opf_case30_fsr,\n",
    "    'pglib_opf_case2316_sdet.m': eng.pglib_opf_case2316_sdet,\n",
    "    'pglib_opf_case1354_pegase.m': eng.pglib_opf_case1354_pegase,\n",
    "    'pglib_opf_case300_ieee.m': eng.pglib_opf_case300_ieee,\n",
    "    'pglib_opf_case73_ieee_rts.m': eng.pglib_opf_case73_ieee_rts,\n",
    "    'pglib_opf_case2853_sdet.m': eng.pglib_opf_case2853_sdet,\n",
    "    'pglib_opf_case5_pjm.m': eng.pglib_opf_case5_pjm,\n",
    "    'pglib_opf_case1951_rte.m': eng.pglib_opf_case1951_rte\n",
    "}"
   ]
  },
  {
   "cell_type": "markdown",
   "metadata": {},
   "source": [
    "## methods"
   ]
  },
  {
   "cell_type": "code",
   "execution_count": 5,
   "metadata": {
    "ExecuteTime": {
     "end_time": "2020-04-05T00:26:10.957859Z",
     "start_time": "2020-04-05T00:26:10.926465Z"
    }
   },
   "outputs": [],
   "source": [
    "def bus_converter(opf_data):\n",
    "    data = {}\n",
    "    for col_idx in range(len(opf_data[0, :])):\n",
    "        if col_idx == 0:\n",
    "            data['bus_i'] = opf_data[:, col_idx]\n",
    "        elif col_idx == 1:\n",
    "            data['type'] = opf_data[:, col_idx]\n",
    "        elif col_idx == 2:\n",
    "            data['Pd'] = opf_data[:, col_idx]\n",
    "        elif col_idx == 3:\n",
    "            data['Qd'] = opf_data[:, col_idx]\n",
    "        elif col_idx == 4:\n",
    "            data['Gs'] = opf_data[:, col_idx]\n",
    "        elif col_idx == 5:\n",
    "            data['Bs'] = opf_data[:, col_idx]\n",
    "        elif col_idx == 6:\n",
    "            data['area'] = opf_data[:, col_idx]\n",
    "        elif col_idx == 7:\n",
    "            data['Vm'] = opf_data[:, col_idx]\n",
    "        elif col_idx == 8:\n",
    "            data['Va'] = opf_data[:, col_idx]\n",
    "        elif col_idx == 9:\n",
    "            data['baseKV'] = opf_data[:, col_idx]\n",
    "        elif col_idx == 10:\n",
    "            data['zone'] = opf_data[:, col_idx]\n",
    "        elif col_idx == 11:\n",
    "            data['Vmax'] = opf_data[:, col_idx]\n",
    "        elif col_idx == 12:\n",
    "            data['Vmin'] = opf_data[:, col_idx]\n",
    "        else:\n",
    "            print(\"bus error occured\")\n",
    "\n",
    "    data = pd.DataFrame.from_dict(data)\n",
    "    return data"
   ]
  },
  {
   "cell_type": "code",
   "execution_count": 6,
   "metadata": {
    "ExecuteTime": {
     "end_time": "2020-04-05T00:26:10.970106Z",
     "start_time": "2020-04-05T00:26:10.959772Z"
    }
   },
   "outputs": [],
   "source": [
    " def gen_converter(opf_data):\n",
    "    data = {}\n",
    "    for col_idx in range(len(opf_data[0, :])):\n",
    "        if col_idx == 0:\n",
    "            data['bus'] = opf_data[:, col_idx]\n",
    "        elif col_idx == 1:\n",
    "            data['Pg'] = opf_data[:, col_idx]\n",
    "        elif col_idx == 2:\n",
    "            data['Qg'] = opf_data[:, col_idx]\n",
    "        elif col_idx == 3:\n",
    "            data['Qmax'] = opf_data[:, col_idx]\n",
    "        elif col_idx == 4:\n",
    "            data['Qmin'] = opf_data[:, col_idx]\n",
    "        elif col_idx == 5:\n",
    "            data['Vg'] = opf_data[:, col_idx]\n",
    "        elif col_idx == 6:\n",
    "            data['mBase'] = opf_data[:, col_idx]\n",
    "        elif col_idx == 7:\n",
    "            data['status'] = opf_data[:, col_idx]\n",
    "        elif col_idx == 8:\n",
    "            data['Pmax'] = opf_data[:, col_idx]\n",
    "        elif col_idx == 9:\n",
    "            data['Pmin'] = opf_data[:, col_idx]\n",
    "        elif col_idx == 10:\n",
    "            data['Pc1'] = opf_data[:, col_idx]\n",
    "        elif col_idx == 11:\n",
    "            data['Pc2'] = opf_data[:, col_idx]\n",
    "        elif col_idx == 12:\n",
    "            data['Qc1min'] = opf_data[:, col_idx]\n",
    "        elif col_idx == 13:\n",
    "            data['Qc1max'] = opf_data[:, col_idx]\n",
    "        elif col_idx == 14:\n",
    "            data['Qc2min'] = opf_data[:, col_idx]\n",
    "        elif col_idx == 15:\n",
    "            data['Qc2max'] = opf_data[:, col_idx]\n",
    "        elif col_idx == 16:\n",
    "            data['ramp_agc'] = opf_data[:, col_idx]\n",
    "        elif col_idx == 17:\n",
    "            data['ramp_10'] = opf_data[:, col_idx]\n",
    "        elif col_idx == 18:\n",
    "            data['ramp_30'] = opf_data[:, col_idx]\n",
    "        elif col_idx == 19:\n",
    "            data['ramp_q'] = opf_data[:, col_idx]\n",
    "        elif col_idx == 20:\n",
    "            data['apf'] = opf_data[:, col_idx]\n",
    "        else:\n",
    "            print(\"gen error occured\")\n",
    "\n",
    "    data = pd.DataFrame.from_dict(data)\n",
    "    return data"
   ]
  },
  {
   "cell_type": "code",
   "execution_count": 7,
   "metadata": {
    "ExecuteTime": {
     "end_time": "2020-04-05T00:26:10.976620Z",
     "start_time": "2020-04-05T00:26:10.971571Z"
    }
   },
   "outputs": [],
   "source": [
    "def gencost_converter(opf_data):\n",
    "    data = {}\n",
    "    n = int(opf_data[0][3])\n",
    "    for col_idx in range(len(opf_data[0, :])):\n",
    "        if col_idx == 0:\n",
    "            data['2'] = opf_data[:, col_idx]\n",
    "        elif col_idx == 1:\n",
    "            data['startup'] = opf_data[:, col_idx]\n",
    "        elif col_idx == 2:\n",
    "            data['shutdown'] = opf_data[:, col_idx]\n",
    "        elif col_idx == 3:\n",
    "            data['n'] = opf_data[:, col_idx]\n",
    "        else:\n",
    "            col_name = \"c\" + str(n+3-col_idx)\n",
    "            data[col_name] = opf_data[:, col_idx]\n",
    "\n",
    "    data = pd.DataFrame.from_dict(data)\n",
    "    return data"
   ]
  },
  {
   "cell_type": "code",
   "execution_count": 8,
   "metadata": {
    "ExecuteTime": {
     "end_time": "2020-04-05T00:26:10.985508Z",
     "start_time": "2020-04-05T00:26:10.977994Z"
    }
   },
   "outputs": [],
   "source": [
    "def branch_converter(opf_data):\n",
    "    data = {}\n",
    "    for col_idx in range(len(opf_data[0, :])):\n",
    "        if col_idx == 0:\n",
    "            data['fbus'] = opf_data[:, col_idx]\n",
    "        elif col_idx == 1:\n",
    "            data['tbus'] = opf_data[:, col_idx]\n",
    "        elif col_idx == 2:\n",
    "            data['r'] = opf_data[:, col_idx]\n",
    "        elif col_idx == 3:\n",
    "            data['x'] = opf_data[:, col_idx]\n",
    "        elif col_idx == 4:\n",
    "            data['b'] = opf_data[:, col_idx]\n",
    "        elif col_idx == 5:\n",
    "            data['rateA'] = opf_data[:, col_idx]\n",
    "        elif col_idx == 6:\n",
    "            data['rateB'] = opf_data[:, col_idx]\n",
    "        elif col_idx == 7:\n",
    "            data['rateC'] = opf_data[:, col_idx]\n",
    "        elif col_idx == 8:\n",
    "            data['ratio'] = opf_data[:, col_idx]\n",
    "        elif col_idx == 9:\n",
    "            data['angle'] = opf_data[:, col_idx]\n",
    "        elif col_idx == 10:\n",
    "            data['status'] = opf_data[:, col_idx]\n",
    "        elif col_idx == 11:\n",
    "            data['angmin'] = opf_data[:, col_idx]\n",
    "        elif col_idx == 12:\n",
    "            data['angmax'] = opf_data[:, col_idx]\n",
    "        else:\n",
    "            print(\"branch error occured\")\n",
    "\n",
    "    data = pd.DataFrame.from_dict(data)\n",
    "    return data"
   ]
  },
  {
   "cell_type": "code",
   "execution_count": null,
   "metadata": {},
   "outputs": [],
   "source": []
  },
  {
   "cell_type": "code",
   "execution_count": 9,
   "metadata": {
    "ExecuteTime": {
     "end_time": "2020-04-05T00:26:10.993995Z",
     "start_time": "2020-04-05T00:26:10.988826Z"
    }
   },
   "outputs": [],
   "source": [
    "def read_m_data(dispatcher, m_name):\n",
    "    mpc = dispatcher[m_name]()\n",
    "    for key in mpc.keys():\n",
    "        if type(mpc[key]) == matlab.double:\n",
    "            mpc[key] = np.asarray(mpc[key])\n",
    "        \n",
    "        if key in ['bus', 'gen', 'gencost', 'branch']:\n",
    "            if key == 'bus':\n",
    "                mpc[key] = bus_converter(mpc[key])\n",
    "            elif key == 'gen':\n",
    "                mpc[key] = gen_converter(mpc[key])\n",
    "            elif key == 'gencost':\n",
    "                mpc[key] = gencost_converter(mpc[key])\n",
    "            elif key == 'branch':\n",
    "                mpc[key] = branch_converter(mpc[key])\n",
    "            else:\n",
    "                print('read_m error')\n",
    "    return mpc"
   ]
  },
  {
   "cell_type": "code",
   "execution_count": 10,
   "metadata": {
    "ExecuteTime": {
     "end_time": "2020-04-05T00:26:32.925631Z",
     "start_time": "2020-04-05T00:26:10.996934Z"
    },
    "scrolled": false
   },
   "outputs": [
    {
     "name": "stderr",
     "output_type": "stream",
     "text": [
      "100%|██████████| 44/44 [00:21<00:00,  2.01it/s]\n"
     ]
    }
   ],
   "source": [
    "opf_data_dict = {}\n",
    "\n",
    "for i in trange(len(m_list)):\n",
    "    opf_data_dict[m_list[i]] = read_m_data(dispatcher, m_list[i])"
   ]
  },
  {
   "cell_type": "code",
   "execution_count": 11,
   "metadata": {
    "ExecuteTime": {
     "end_time": "2020-04-05T00:26:32.931194Z",
     "start_time": "2020-04-05T00:26:32.927694Z"
    }
   },
   "outputs": [],
   "source": [
    "eng.quit()"
   ]
  },
  {
   "cell_type": "markdown",
   "metadata": {},
   "source": [
    "# Save the dataset"
   ]
  },
  {
   "cell_type": "code",
   "execution_count": 12,
   "metadata": {
    "ExecuteTime": {
     "end_time": "2020-04-05T00:26:32.934914Z",
     "start_time": "2020-04-05T00:26:32.932783Z"
    }
   },
   "outputs": [],
   "source": [
    "import pickle"
   ]
  },
  {
   "cell_type": "code",
   "execution_count": 13,
   "metadata": {
    "ExecuteTime": {
     "end_time": "2020-04-05T00:26:32.968516Z",
     "start_time": "2020-04-05T00:26:32.936248Z"
    }
   },
   "outputs": [],
   "source": [
    "filename = 'opf_data.pickle'\n",
    "outfile = open(filename,'wb')\n",
    "pickle.dump(opf_data_dict, outfile)\n",
    "outfile.close()"
   ]
  },
  {
   "cell_type": "code",
   "execution_count": null,
   "metadata": {},
   "outputs": [],
   "source": []
  }
 ],
 "metadata": {
  "kernelspec": {
   "display_name": "Python 3",
   "language": "python",
   "name": "python3"
  },
  "toc": {
   "base_numbering": 1,
   "nav_menu": {},
   "number_sections": true,
   "sideBar": true,
   "skip_h1_title": false,
   "title_cell": "Table of Contents",
   "title_sidebar": "Contents",
   "toc_cell": false,
   "toc_position": {},
   "toc_section_display": true,
   "toc_window_display": false
  },
  "varInspector": {
   "cols": {
    "lenName": 16,
    "lenType": 16,
    "lenVar": 40
   },
   "kernels_config": {
    "python": {
     "delete_cmd_postfix": "",
     "delete_cmd_prefix": "del ",
     "library": "var_list.py",
     "varRefreshCmd": "print(var_dic_list())"
    },
    "r": {
     "delete_cmd_postfix": ") ",
     "delete_cmd_prefix": "rm(",
     "library": "var_list.r",
     "varRefreshCmd": "cat(var_dic_list()) "
    }
   },
   "types_to_exclude": [
    "module",
    "function",
    "builtin_function_or_method",
    "instance",
    "_Feature"
   ],
   "window_display": false
  }
 },
 "nbformat": 4,
 "nbformat_minor": 4
}
